{
 "cells": [
  {
   "cell_type": "code",
   "execution_count": 1,
   "id": "658543e9",
   "metadata": {},
   "outputs": [],
   "source": [
    "import pandas as pd\n",
    "import numpy as np\n",
    "import matplotlib.pyplot as plt\n",
    "import seaborn as sb"
   ]
  },
  {
   "cell_type": "code",
   "execution_count": 125,
   "id": "a58bfa81",
   "metadata": {},
   "outputs": [],
   "source": [
    "benz=pd.read_csv(\"C:\\\\Users\\\\kalwa\\\\Downloads\\\\Project\\\\Benz.csv\")"
   ]
  },
  {
   "cell_type": "code",
   "execution_count": 126,
   "id": "8211491e",
   "metadata": {},
   "outputs": [
    {
     "data": {
      "text/html": [
       "<div>\n",
       "<style scoped>\n",
       "    .dataframe tbody tr th:only-of-type {\n",
       "        vertical-align: middle;\n",
       "    }\n",
       "\n",
       "    .dataframe tbody tr th {\n",
       "        vertical-align: top;\n",
       "    }\n",
       "\n",
       "    .dataframe thead th {\n",
       "        text-align: right;\n",
       "    }\n",
       "</style>\n",
       "<table border=\"1\" class=\"dataframe\">\n",
       "  <thead>\n",
       "    <tr style=\"text-align: right;\">\n",
       "      <th></th>\n",
       "      <th>Unnamed: 0</th>\n",
       "      <th>seller</th>\n",
       "      <th>offerType</th>\n",
       "      <th>vehicleType</th>\n",
       "      <th>yearOfRegistration</th>\n",
       "      <th>gearbox</th>\n",
       "      <th>powerPS</th>\n",
       "      <th>model</th>\n",
       "      <th>kilometer</th>\n",
       "      <th>monthOfRegistration</th>\n",
       "      <th>fuelType</th>\n",
       "      <th>brand</th>\n",
       "      <th>notRepairedDamage</th>\n",
       "      <th>price</th>\n",
       "      <th>Years_group</th>\n",
       "    </tr>\n",
       "  </thead>\n",
       "  <tbody>\n",
       "    <tr>\n",
       "      <th>0</th>\n",
       "      <td>89</td>\n",
       "      <td>privat</td>\n",
       "      <td>Angebot</td>\n",
       "      <td>suv</td>\n",
       "      <td>2014</td>\n",
       "      <td>automatik</td>\n",
       "      <td>204</td>\n",
       "      <td>glk</td>\n",
       "      <td>40000</td>\n",
       "      <td>9</td>\n",
       "      <td>diesel</td>\n",
       "      <td>mercedes_benz</td>\n",
       "      <td>No</td>\n",
       "      <td>3477700</td>\n",
       "      <td>2011-2020</td>\n",
       "    </tr>\n",
       "    <tr>\n",
       "      <th>1</th>\n",
       "      <td>182</td>\n",
       "      <td>privat</td>\n",
       "      <td>Angebot</td>\n",
       "      <td>suv</td>\n",
       "      <td>2009</td>\n",
       "      <td>automatik</td>\n",
       "      <td>224</td>\n",
       "      <td>m_klasse</td>\n",
       "      <td>150000</td>\n",
       "      <td>12</td>\n",
       "      <td>diesel</td>\n",
       "      <td>mercedes_benz</td>\n",
       "      <td>No</td>\n",
       "      <td>2282500</td>\n",
       "      <td>2001-2010</td>\n",
       "    </tr>\n",
       "    <tr>\n",
       "      <th>2</th>\n",
       "      <td>261</td>\n",
       "      <td>privat</td>\n",
       "      <td>Angebot</td>\n",
       "      <td>suv</td>\n",
       "      <td>2007</td>\n",
       "      <td>automatik</td>\n",
       "      <td>510</td>\n",
       "      <td>m_klasse</td>\n",
       "      <td>150000</td>\n",
       "      <td>4</td>\n",
       "      <td>lpg</td>\n",
       "      <td>mercedes_benz</td>\n",
       "      <td>No</td>\n",
       "      <td>1784500</td>\n",
       "      <td>2001-2010</td>\n",
       "    </tr>\n",
       "    <tr>\n",
       "      <th>3</th>\n",
       "      <td>432</td>\n",
       "      <td>privat</td>\n",
       "      <td>Angebot</td>\n",
       "      <td>suv</td>\n",
       "      <td>2009</td>\n",
       "      <td>automatik</td>\n",
       "      <td>224</td>\n",
       "      <td>glk</td>\n",
       "      <td>90000</td>\n",
       "      <td>8</td>\n",
       "      <td>diesel</td>\n",
       "      <td>mercedes_benz</td>\n",
       "      <td>No</td>\n",
       "      <td>1784500</td>\n",
       "      <td>2001-2010</td>\n",
       "    </tr>\n",
       "    <tr>\n",
       "      <th>4</th>\n",
       "      <td>848</td>\n",
       "      <td>privat</td>\n",
       "      <td>Angebot</td>\n",
       "      <td>suv</td>\n",
       "      <td>2011</td>\n",
       "      <td>automatik</td>\n",
       "      <td>231</td>\n",
       "      <td>glk</td>\n",
       "      <td>70000</td>\n",
       "      <td>10</td>\n",
       "      <td>diesel</td>\n",
       "      <td>mercedes_benz</td>\n",
       "      <td>No</td>\n",
       "      <td>2199500</td>\n",
       "      <td>2011-2020</td>\n",
       "    </tr>\n",
       "    <tr>\n",
       "      <th>...</th>\n",
       "      <td>...</td>\n",
       "      <td>...</td>\n",
       "      <td>...</td>\n",
       "      <td>...</td>\n",
       "      <td>...</td>\n",
       "      <td>...</td>\n",
       "      <td>...</td>\n",
       "      <td>...</td>\n",
       "      <td>...</td>\n",
       "      <td>...</td>\n",
       "      <td>...</td>\n",
       "      <td>...</td>\n",
       "      <td>...</td>\n",
       "      <td>...</td>\n",
       "      <td>...</td>\n",
       "    </tr>\n",
       "    <tr>\n",
       "      <th>1380</th>\n",
       "      <td>248068</td>\n",
       "      <td>privat</td>\n",
       "      <td>Angebot</td>\n",
       "      <td>suv</td>\n",
       "      <td>2005</td>\n",
       "      <td>automatik</td>\n",
       "      <td>0</td>\n",
       "      <td>m_klasse</td>\n",
       "      <td>150000</td>\n",
       "      <td>1</td>\n",
       "      <td>diesel</td>\n",
       "      <td>mercedes_benz</td>\n",
       "      <td>No</td>\n",
       "      <td>705500</td>\n",
       "      <td>2001-2010</td>\n",
       "    </tr>\n",
       "    <tr>\n",
       "      <th>1381</th>\n",
       "      <td>248078</td>\n",
       "      <td>privat</td>\n",
       "      <td>Angebot</td>\n",
       "      <td>suv</td>\n",
       "      <td>2013</td>\n",
       "      <td>manuell</td>\n",
       "      <td>143</td>\n",
       "      <td>glk</td>\n",
       "      <td>150000</td>\n",
       "      <td>9</td>\n",
       "      <td>diesel</td>\n",
       "      <td>mercedes_benz</td>\n",
       "      <td>No</td>\n",
       "      <td>1784500</td>\n",
       "      <td>2011-2020</td>\n",
       "    </tr>\n",
       "    <tr>\n",
       "      <th>1382</th>\n",
       "      <td>248494</td>\n",
       "      <td>privat</td>\n",
       "      <td>Angebot</td>\n",
       "      <td>suv</td>\n",
       "      <td>2009</td>\n",
       "      <td>automatik</td>\n",
       "      <td>224</td>\n",
       "      <td>andere</td>\n",
       "      <td>150000</td>\n",
       "      <td>7</td>\n",
       "      <td>diesel</td>\n",
       "      <td>mercedes_benz</td>\n",
       "      <td>No</td>\n",
       "      <td>1145317</td>\n",
       "      <td>2001-2010</td>\n",
       "    </tr>\n",
       "    <tr>\n",
       "      <th>1383</th>\n",
       "      <td>249068</td>\n",
       "      <td>privat</td>\n",
       "      <td>Angebot</td>\n",
       "      <td>suv</td>\n",
       "      <td>2012</td>\n",
       "      <td>automatik</td>\n",
       "      <td>300</td>\n",
       "      <td>m_klasse</td>\n",
       "      <td>100000</td>\n",
       "      <td>3</td>\n",
       "      <td>diesel</td>\n",
       "      <td>mercedes_benz</td>\n",
       "      <td>No</td>\n",
       "      <td>3726700</td>\n",
       "      <td>2011-2020</td>\n",
       "    </tr>\n",
       "    <tr>\n",
       "      <th>1384</th>\n",
       "      <td>249076</td>\n",
       "      <td>privat</td>\n",
       "      <td>Angebot</td>\n",
       "      <td>suv</td>\n",
       "      <td>2000</td>\n",
       "      <td>automatik</td>\n",
       "      <td>218</td>\n",
       "      <td>m_klasse</td>\n",
       "      <td>150000</td>\n",
       "      <td>1</td>\n",
       "      <td>lpg</td>\n",
       "      <td>mercedes_benz</td>\n",
       "      <td>No</td>\n",
       "      <td>522900</td>\n",
       "      <td>1991-2000</td>\n",
       "    </tr>\n",
       "  </tbody>\n",
       "</table>\n",
       "<p>1385 rows × 15 columns</p>\n",
       "</div>"
      ],
      "text/plain": [
       "      Unnamed: 0  seller offerType vehicleType  yearOfRegistration    gearbox  \\\n",
       "0             89  privat   Angebot         suv                2014  automatik   \n",
       "1            182  privat   Angebot         suv                2009  automatik   \n",
       "2            261  privat   Angebot         suv                2007  automatik   \n",
       "3            432  privat   Angebot         suv                2009  automatik   \n",
       "4            848  privat   Angebot         suv                2011  automatik   \n",
       "...          ...     ...       ...         ...                 ...        ...   \n",
       "1380      248068  privat   Angebot         suv                2005  automatik   \n",
       "1381      248078  privat   Angebot         suv                2013    manuell   \n",
       "1382      248494  privat   Angebot         suv                2009  automatik   \n",
       "1383      249068  privat   Angebot         suv                2012  automatik   \n",
       "1384      249076  privat   Angebot         suv                2000  automatik   \n",
       "\n",
       "      powerPS     model  kilometer  monthOfRegistration fuelType  \\\n",
       "0         204       glk      40000                    9   diesel   \n",
       "1         224  m_klasse     150000                   12   diesel   \n",
       "2         510  m_klasse     150000                    4      lpg   \n",
       "3         224       glk      90000                    8   diesel   \n",
       "4         231       glk      70000                   10   diesel   \n",
       "...       ...       ...        ...                  ...      ...   \n",
       "1380        0  m_klasse     150000                    1   diesel   \n",
       "1381      143       glk     150000                    9   diesel   \n",
       "1382      224    andere     150000                    7   diesel   \n",
       "1383      300  m_klasse     100000                    3   diesel   \n",
       "1384      218  m_klasse     150000                    1      lpg   \n",
       "\n",
       "              brand notRepairedDamage    price Years_group  \n",
       "0     mercedes_benz                No  3477700   2011-2020  \n",
       "1     mercedes_benz                No  2282500   2001-2010  \n",
       "2     mercedes_benz                No  1784500   2001-2010  \n",
       "3     mercedes_benz                No  1784500   2001-2010  \n",
       "4     mercedes_benz                No  2199500   2011-2020  \n",
       "...             ...               ...      ...         ...  \n",
       "1380  mercedes_benz                No   705500   2001-2010  \n",
       "1381  mercedes_benz                No  1784500   2011-2020  \n",
       "1382  mercedes_benz                No  1145317   2001-2010  \n",
       "1383  mercedes_benz                No  3726700   2011-2020  \n",
       "1384  mercedes_benz                No   522900   1991-2000  \n",
       "\n",
       "[1385 rows x 15 columns]"
      ]
     },
     "execution_count": 126,
     "metadata": {},
     "output_type": "execute_result"
    }
   ],
   "source": [
    "benz"
   ]
  },
  {
   "cell_type": "code",
   "execution_count": 4,
   "id": "1eed116e",
   "metadata": {},
   "outputs": [
    {
     "data": {
      "text/html": [
       "<div>\n",
       "<style scoped>\n",
       "    .dataframe tbody tr th:only-of-type {\n",
       "        vertical-align: middle;\n",
       "    }\n",
       "\n",
       "    .dataframe tbody tr th {\n",
       "        vertical-align: top;\n",
       "    }\n",
       "\n",
       "    .dataframe thead th {\n",
       "        text-align: right;\n",
       "    }\n",
       "</style>\n",
       "<table border=\"1\" class=\"dataframe\">\n",
       "  <thead>\n",
       "    <tr style=\"text-align: right;\">\n",
       "      <th></th>\n",
       "      <th>Unnamed: 0</th>\n",
       "      <th>seller</th>\n",
       "      <th>offerType</th>\n",
       "      <th>vehicleType</th>\n",
       "      <th>yearOfRegistration</th>\n",
       "      <th>gearbox</th>\n",
       "      <th>powerPS</th>\n",
       "      <th>model</th>\n",
       "      <th>kilometer</th>\n",
       "      <th>monthOfRegistration</th>\n",
       "      <th>fuelType</th>\n",
       "      <th>brand</th>\n",
       "      <th>notRepairedDamage</th>\n",
       "      <th>price</th>\n",
       "      <th>Years_group</th>\n",
       "    </tr>\n",
       "  </thead>\n",
       "  <tbody>\n",
       "    <tr>\n",
       "      <th>0</th>\n",
       "      <td>89</td>\n",
       "      <td>privat</td>\n",
       "      <td>Angebot</td>\n",
       "      <td>suv</td>\n",
       "      <td>2014</td>\n",
       "      <td>automatik</td>\n",
       "      <td>204</td>\n",
       "      <td>glk</td>\n",
       "      <td>40000</td>\n",
       "      <td>9</td>\n",
       "      <td>diesel</td>\n",
       "      <td>mercedes_benz</td>\n",
       "      <td>No</td>\n",
       "      <td>3477700</td>\n",
       "      <td>2011-2020</td>\n",
       "    </tr>\n",
       "    <tr>\n",
       "      <th>1</th>\n",
       "      <td>182</td>\n",
       "      <td>privat</td>\n",
       "      <td>Angebot</td>\n",
       "      <td>suv</td>\n",
       "      <td>2009</td>\n",
       "      <td>automatik</td>\n",
       "      <td>224</td>\n",
       "      <td>m_klasse</td>\n",
       "      <td>150000</td>\n",
       "      <td>12</td>\n",
       "      <td>diesel</td>\n",
       "      <td>mercedes_benz</td>\n",
       "      <td>No</td>\n",
       "      <td>2282500</td>\n",
       "      <td>2001-2010</td>\n",
       "    </tr>\n",
       "    <tr>\n",
       "      <th>2</th>\n",
       "      <td>261</td>\n",
       "      <td>privat</td>\n",
       "      <td>Angebot</td>\n",
       "      <td>suv</td>\n",
       "      <td>2007</td>\n",
       "      <td>automatik</td>\n",
       "      <td>510</td>\n",
       "      <td>m_klasse</td>\n",
       "      <td>150000</td>\n",
       "      <td>4</td>\n",
       "      <td>lpg</td>\n",
       "      <td>mercedes_benz</td>\n",
       "      <td>No</td>\n",
       "      <td>1784500</td>\n",
       "      <td>2001-2010</td>\n",
       "    </tr>\n",
       "    <tr>\n",
       "      <th>3</th>\n",
       "      <td>432</td>\n",
       "      <td>privat</td>\n",
       "      <td>Angebot</td>\n",
       "      <td>suv</td>\n",
       "      <td>2009</td>\n",
       "      <td>automatik</td>\n",
       "      <td>224</td>\n",
       "      <td>glk</td>\n",
       "      <td>90000</td>\n",
       "      <td>8</td>\n",
       "      <td>diesel</td>\n",
       "      <td>mercedes_benz</td>\n",
       "      <td>No</td>\n",
       "      <td>1784500</td>\n",
       "      <td>2001-2010</td>\n",
       "    </tr>\n",
       "    <tr>\n",
       "      <th>4</th>\n",
       "      <td>848</td>\n",
       "      <td>privat</td>\n",
       "      <td>Angebot</td>\n",
       "      <td>suv</td>\n",
       "      <td>2011</td>\n",
       "      <td>automatik</td>\n",
       "      <td>231</td>\n",
       "      <td>glk</td>\n",
       "      <td>70000</td>\n",
       "      <td>10</td>\n",
       "      <td>diesel</td>\n",
       "      <td>mercedes_benz</td>\n",
       "      <td>No</td>\n",
       "      <td>2199500</td>\n",
       "      <td>2011-2020</td>\n",
       "    </tr>\n",
       "  </tbody>\n",
       "</table>\n",
       "</div>"
      ],
      "text/plain": [
       "   Unnamed: 0  seller offerType vehicleType  yearOfRegistration    gearbox  \\\n",
       "0          89  privat   Angebot         suv                2014  automatik   \n",
       "1         182  privat   Angebot         suv                2009  automatik   \n",
       "2         261  privat   Angebot         suv                2007  automatik   \n",
       "3         432  privat   Angebot         suv                2009  automatik   \n",
       "4         848  privat   Angebot         suv                2011  automatik   \n",
       "\n",
       "   powerPS     model  kilometer  monthOfRegistration fuelType          brand  \\\n",
       "0      204       glk      40000                    9   diesel  mercedes_benz   \n",
       "1      224  m_klasse     150000                   12   diesel  mercedes_benz   \n",
       "2      510  m_klasse     150000                    4      lpg  mercedes_benz   \n",
       "3      224       glk      90000                    8   diesel  mercedes_benz   \n",
       "4      231       glk      70000                   10   diesel  mercedes_benz   \n",
       "\n",
       "  notRepairedDamage    price Years_group  \n",
       "0                No  3477700   2011-2020  \n",
       "1                No  2282500   2001-2010  \n",
       "2                No  1784500   2001-2010  \n",
       "3                No  1784500   2001-2010  \n",
       "4                No  2199500   2011-2020  "
      ]
     },
     "execution_count": 4,
     "metadata": {},
     "output_type": "execute_result"
    }
   ],
   "source": [
    "benz.head()"
   ]
  },
  {
   "cell_type": "code",
   "execution_count": 5,
   "id": "4a212f47",
   "metadata": {},
   "outputs": [
    {
     "data": {
      "text/html": [
       "<div>\n",
       "<style scoped>\n",
       "    .dataframe tbody tr th:only-of-type {\n",
       "        vertical-align: middle;\n",
       "    }\n",
       "\n",
       "    .dataframe tbody tr th {\n",
       "        vertical-align: top;\n",
       "    }\n",
       "\n",
       "    .dataframe thead th {\n",
       "        text-align: right;\n",
       "    }\n",
       "</style>\n",
       "<table border=\"1\" class=\"dataframe\">\n",
       "  <thead>\n",
       "    <tr style=\"text-align: right;\">\n",
       "      <th></th>\n",
       "      <th>Unnamed: 0</th>\n",
       "      <th>seller</th>\n",
       "      <th>offerType</th>\n",
       "      <th>vehicleType</th>\n",
       "      <th>yearOfRegistration</th>\n",
       "      <th>gearbox</th>\n",
       "      <th>powerPS</th>\n",
       "      <th>model</th>\n",
       "      <th>kilometer</th>\n",
       "      <th>monthOfRegistration</th>\n",
       "      <th>fuelType</th>\n",
       "      <th>brand</th>\n",
       "      <th>notRepairedDamage</th>\n",
       "      <th>price</th>\n",
       "      <th>Years_group</th>\n",
       "    </tr>\n",
       "  </thead>\n",
       "  <tbody>\n",
       "    <tr>\n",
       "      <th>1380</th>\n",
       "      <td>248068</td>\n",
       "      <td>privat</td>\n",
       "      <td>Angebot</td>\n",
       "      <td>suv</td>\n",
       "      <td>2005</td>\n",
       "      <td>automatik</td>\n",
       "      <td>0</td>\n",
       "      <td>m_klasse</td>\n",
       "      <td>150000</td>\n",
       "      <td>1</td>\n",
       "      <td>diesel</td>\n",
       "      <td>mercedes_benz</td>\n",
       "      <td>No</td>\n",
       "      <td>705500</td>\n",
       "      <td>2001-2010</td>\n",
       "    </tr>\n",
       "    <tr>\n",
       "      <th>1381</th>\n",
       "      <td>248078</td>\n",
       "      <td>privat</td>\n",
       "      <td>Angebot</td>\n",
       "      <td>suv</td>\n",
       "      <td>2013</td>\n",
       "      <td>manuell</td>\n",
       "      <td>143</td>\n",
       "      <td>glk</td>\n",
       "      <td>150000</td>\n",
       "      <td>9</td>\n",
       "      <td>diesel</td>\n",
       "      <td>mercedes_benz</td>\n",
       "      <td>No</td>\n",
       "      <td>1784500</td>\n",
       "      <td>2011-2020</td>\n",
       "    </tr>\n",
       "    <tr>\n",
       "      <th>1382</th>\n",
       "      <td>248494</td>\n",
       "      <td>privat</td>\n",
       "      <td>Angebot</td>\n",
       "      <td>suv</td>\n",
       "      <td>2009</td>\n",
       "      <td>automatik</td>\n",
       "      <td>224</td>\n",
       "      <td>andere</td>\n",
       "      <td>150000</td>\n",
       "      <td>7</td>\n",
       "      <td>diesel</td>\n",
       "      <td>mercedes_benz</td>\n",
       "      <td>No</td>\n",
       "      <td>1145317</td>\n",
       "      <td>2001-2010</td>\n",
       "    </tr>\n",
       "    <tr>\n",
       "      <th>1383</th>\n",
       "      <td>249068</td>\n",
       "      <td>privat</td>\n",
       "      <td>Angebot</td>\n",
       "      <td>suv</td>\n",
       "      <td>2012</td>\n",
       "      <td>automatik</td>\n",
       "      <td>300</td>\n",
       "      <td>m_klasse</td>\n",
       "      <td>100000</td>\n",
       "      <td>3</td>\n",
       "      <td>diesel</td>\n",
       "      <td>mercedes_benz</td>\n",
       "      <td>No</td>\n",
       "      <td>3726700</td>\n",
       "      <td>2011-2020</td>\n",
       "    </tr>\n",
       "    <tr>\n",
       "      <th>1384</th>\n",
       "      <td>249076</td>\n",
       "      <td>privat</td>\n",
       "      <td>Angebot</td>\n",
       "      <td>suv</td>\n",
       "      <td>2000</td>\n",
       "      <td>automatik</td>\n",
       "      <td>218</td>\n",
       "      <td>m_klasse</td>\n",
       "      <td>150000</td>\n",
       "      <td>1</td>\n",
       "      <td>lpg</td>\n",
       "      <td>mercedes_benz</td>\n",
       "      <td>No</td>\n",
       "      <td>522900</td>\n",
       "      <td>1991-2000</td>\n",
       "    </tr>\n",
       "  </tbody>\n",
       "</table>\n",
       "</div>"
      ],
      "text/plain": [
       "      Unnamed: 0  seller offerType vehicleType  yearOfRegistration    gearbox  \\\n",
       "1380      248068  privat   Angebot         suv                2005  automatik   \n",
       "1381      248078  privat   Angebot         suv                2013    manuell   \n",
       "1382      248494  privat   Angebot         suv                2009  automatik   \n",
       "1383      249068  privat   Angebot         suv                2012  automatik   \n",
       "1384      249076  privat   Angebot         suv                2000  automatik   \n",
       "\n",
       "      powerPS     model  kilometer  monthOfRegistration fuelType  \\\n",
       "1380        0  m_klasse     150000                    1   diesel   \n",
       "1381      143       glk     150000                    9   diesel   \n",
       "1382      224    andere     150000                    7   diesel   \n",
       "1383      300  m_klasse     100000                    3   diesel   \n",
       "1384      218  m_klasse     150000                    1      lpg   \n",
       "\n",
       "              brand notRepairedDamage    price Years_group  \n",
       "1380  mercedes_benz                No   705500   2001-2010  \n",
       "1381  mercedes_benz                No  1784500   2011-2020  \n",
       "1382  mercedes_benz                No  1145317   2001-2010  \n",
       "1383  mercedes_benz                No  3726700   2011-2020  \n",
       "1384  mercedes_benz                No   522900   1991-2000  "
      ]
     },
     "execution_count": 5,
     "metadata": {},
     "output_type": "execute_result"
    }
   ],
   "source": [
    "benz.tail()"
   ]
  },
  {
   "cell_type": "code",
   "execution_count": 6,
   "id": "22a412e4",
   "metadata": {},
   "outputs": [
    {
     "data": {
      "text/html": [
       "<div>\n",
       "<style scoped>\n",
       "    .dataframe tbody tr th:only-of-type {\n",
       "        vertical-align: middle;\n",
       "    }\n",
       "\n",
       "    .dataframe tbody tr th {\n",
       "        vertical-align: top;\n",
       "    }\n",
       "\n",
       "    .dataframe thead th {\n",
       "        text-align: right;\n",
       "    }\n",
       "</style>\n",
       "<table border=\"1\" class=\"dataframe\">\n",
       "  <thead>\n",
       "    <tr style=\"text-align: right;\">\n",
       "      <th></th>\n",
       "      <th>Unnamed: 0</th>\n",
       "      <th>seller</th>\n",
       "      <th>offerType</th>\n",
       "      <th>vehicleType</th>\n",
       "      <th>yearOfRegistration</th>\n",
       "      <th>gearbox</th>\n",
       "      <th>powerPS</th>\n",
       "      <th>model</th>\n",
       "      <th>kilometer</th>\n",
       "      <th>monthOfRegistration</th>\n",
       "      <th>fuelType</th>\n",
       "      <th>brand</th>\n",
       "      <th>notRepairedDamage</th>\n",
       "      <th>price</th>\n",
       "      <th>Years_group</th>\n",
       "    </tr>\n",
       "  </thead>\n",
       "  <tbody>\n",
       "    <tr>\n",
       "      <th>371</th>\n",
       "      <td>66376</td>\n",
       "      <td>privat</td>\n",
       "      <td>Angebot</td>\n",
       "      <td>suv</td>\n",
       "      <td>2010</td>\n",
       "      <td>automatik</td>\n",
       "      <td>231</td>\n",
       "      <td>m_klasse</td>\n",
       "      <td>150000</td>\n",
       "      <td>8</td>\n",
       "      <td>diesel</td>\n",
       "      <td>mercedes_benz</td>\n",
       "      <td>No</td>\n",
       "      <td>2365500</td>\n",
       "      <td>2001-2010</td>\n",
       "    </tr>\n",
       "  </tbody>\n",
       "</table>\n",
       "</div>"
      ],
      "text/plain": [
       "     Unnamed: 0  seller offerType vehicleType  yearOfRegistration    gearbox  \\\n",
       "371       66376  privat   Angebot         suv                2010  automatik   \n",
       "\n",
       "     powerPS     model  kilometer  monthOfRegistration fuelType  \\\n",
       "371      231  m_klasse     150000                    8   diesel   \n",
       "\n",
       "             brand notRepairedDamage    price Years_group  \n",
       "371  mercedes_benz                No  2365500   2001-2010  "
      ]
     },
     "execution_count": 6,
     "metadata": {},
     "output_type": "execute_result"
    }
   ],
   "source": [
    "benz.sample()"
   ]
  },
  {
   "cell_type": "code",
   "execution_count": 7,
   "id": "90229ae3",
   "metadata": {},
   "outputs": [
    {
     "data": {
      "text/plain": [
       "(1385, 15)"
      ]
     },
     "execution_count": 7,
     "metadata": {},
     "output_type": "execute_result"
    }
   ],
   "source": [
    "benz.shape"
   ]
  },
  {
   "cell_type": "code",
   "execution_count": 8,
   "id": "11f9a55c",
   "metadata": {},
   "outputs": [
    {
     "data": {
      "text/plain": [
       "2"
      ]
     },
     "execution_count": 8,
     "metadata": {},
     "output_type": "execute_result"
    }
   ],
   "source": [
    "benz.ndim"
   ]
  },
  {
   "cell_type": "code",
   "execution_count": 9,
   "id": "3dd5f56e",
   "metadata": {},
   "outputs": [
    {
     "name": "stdout",
     "output_type": "stream",
     "text": [
      "<class 'pandas.core.frame.DataFrame'>\n",
      "RangeIndex: 1385 entries, 0 to 1384\n",
      "Data columns (total 15 columns):\n",
      " #   Column               Non-Null Count  Dtype \n",
      "---  ------               --------------  ----- \n",
      " 0   Unnamed: 0           1385 non-null   int64 \n",
      " 1   seller               1385 non-null   object\n",
      " 2   offerType            1385 non-null   object\n",
      " 3   vehicleType          1385 non-null   object\n",
      " 4   yearOfRegistration   1385 non-null   int64 \n",
      " 5   gearbox              1385 non-null   object\n",
      " 6   powerPS              1385 non-null   int64 \n",
      " 7   model                1385 non-null   object\n",
      " 8   kilometer            1385 non-null   int64 \n",
      " 9   monthOfRegistration  1385 non-null   int64 \n",
      " 10  fuelType             1385 non-null   object\n",
      " 11  brand                1385 non-null   object\n",
      " 12  notRepairedDamage    1385 non-null   object\n",
      " 13  price                1385 non-null   int64 \n",
      " 14  Years_group          1383 non-null   object\n",
      "dtypes: int64(6), object(9)\n",
      "memory usage: 162.4+ KB\n"
     ]
    }
   ],
   "source": [
    "benz.info()"
   ]
  },
  {
   "cell_type": "code",
   "execution_count": 10,
   "id": "90f21981",
   "metadata": {},
   "outputs": [
    {
     "data": {
      "text/plain": [
       "Unnamed: 0             1385\n",
       "seller                    1\n",
       "offerType                 1\n",
       "vehicleType               1\n",
       "yearOfRegistration       41\n",
       "gearbox                   2\n",
       "powerPS                  79\n",
       "model                    12\n",
       "kilometer                13\n",
       "monthOfRegistration      13\n",
       "fuelType                  3\n",
       "brand                     1\n",
       "notRepairedDamage         2\n",
       "price                   576\n",
       "Years_group               5\n",
       "dtype: int64"
      ]
     },
     "execution_count": 10,
     "metadata": {},
     "output_type": "execute_result"
    }
   ],
   "source": [
    "benz.nunique()"
   ]
  },
  {
   "cell_type": "code",
   "execution_count": 11,
   "id": "b3b2efbc",
   "metadata": {},
   "outputs": [
    {
     "data": {
      "text/plain": [
       "Unnamed: 0             0\n",
       "seller                 0\n",
       "offerType              0\n",
       "vehicleType            0\n",
       "yearOfRegistration     0\n",
       "gearbox                0\n",
       "powerPS                0\n",
       "model                  0\n",
       "kilometer              0\n",
       "monthOfRegistration    0\n",
       "fuelType               0\n",
       "brand                  0\n",
       "notRepairedDamage      0\n",
       "price                  0\n",
       "Years_group            2\n",
       "dtype: int64"
      ]
     },
     "execution_count": 11,
     "metadata": {},
     "output_type": "execute_result"
    }
   ],
   "source": [
    "benz.isnull().sum()"
   ]
  },
  {
   "cell_type": "code",
   "execution_count": 13,
   "id": "642c29c3",
   "metadata": {},
   "outputs": [
    {
     "data": {
      "text/plain": [
       "Index(['Unnamed: 0', 'seller', 'offerType', 'vehicleType',\n",
       "       'yearOfRegistration', 'gearbox', 'powerPS', 'model', 'kilometer',\n",
       "       'monthOfRegistration', 'fuelType', 'brand', 'notRepairedDamage',\n",
       "       'price', 'Years_group'],\n",
       "      dtype='object')"
      ]
     },
     "execution_count": 13,
     "metadata": {},
     "output_type": "execute_result"
    }
   ],
   "source": [
    "benz.columns"
   ]
  },
  {
   "cell_type": "code",
   "execution_count": 14,
   "id": "d9dc8934",
   "metadata": {},
   "outputs": [
    {
     "data": {
      "text/html": [
       "<div>\n",
       "<style scoped>\n",
       "    .dataframe tbody tr th:only-of-type {\n",
       "        vertical-align: middle;\n",
       "    }\n",
       "\n",
       "    .dataframe tbody tr th {\n",
       "        vertical-align: top;\n",
       "    }\n",
       "\n",
       "    .dataframe thead th {\n",
       "        text-align: right;\n",
       "    }\n",
       "</style>\n",
       "<table border=\"1\" class=\"dataframe\">\n",
       "  <thead>\n",
       "    <tr style=\"text-align: right;\">\n",
       "      <th></th>\n",
       "      <th>Unnamed: 0</th>\n",
       "      <th>yearOfRegistration</th>\n",
       "      <th>powerPS</th>\n",
       "      <th>kilometer</th>\n",
       "      <th>monthOfRegistration</th>\n",
       "      <th>price</th>\n",
       "    </tr>\n",
       "  </thead>\n",
       "  <tbody>\n",
       "    <tr>\n",
       "      <th>count</th>\n",
       "      <td>1385.000000</td>\n",
       "      <td>1385.000000</td>\n",
       "      <td>1385.000000</td>\n",
       "      <td>1385.000000</td>\n",
       "      <td>1385.000000</td>\n",
       "      <td>1.385000e+03</td>\n",
       "    </tr>\n",
       "    <tr>\n",
       "      <th>mean</th>\n",
       "      <td>125556.101083</td>\n",
       "      <td>2005.456318</td>\n",
       "      <td>208.698195</td>\n",
       "      <td>126870.036101</td>\n",
       "      <td>6.623827</td>\n",
       "      <td>1.481161e+06</td>\n",
       "    </tr>\n",
       "    <tr>\n",
       "      <th>std</th>\n",
       "      <td>73896.545490</td>\n",
       "      <td>6.321105</td>\n",
       "      <td>73.243901</td>\n",
       "      <td>39643.977435</td>\n",
       "      <td>3.446223</td>\n",
       "      <td>1.150661e+06</td>\n",
       "    </tr>\n",
       "    <tr>\n",
       "      <th>min</th>\n",
       "      <td>89.000000</td>\n",
       "      <td>1910.000000</td>\n",
       "      <td>0.000000</td>\n",
       "      <td>5000.000000</td>\n",
       "      <td>0.000000</td>\n",
       "      <td>0.000000e+00</td>\n",
       "    </tr>\n",
       "    <tr>\n",
       "      <th>25%</th>\n",
       "      <td>62243.000000</td>\n",
       "      <td>2002.000000</td>\n",
       "      <td>163.000000</td>\n",
       "      <td>125000.000000</td>\n",
       "      <td>4.000000</td>\n",
       "      <td>6.225000e+05</td>\n",
       "    </tr>\n",
       "    <tr>\n",
       "      <th>50%</th>\n",
       "      <td>125271.000000</td>\n",
       "      <td>2006.000000</td>\n",
       "      <td>218.000000</td>\n",
       "      <td>150000.000000</td>\n",
       "      <td>7.000000</td>\n",
       "      <td>1.245000e+06</td>\n",
       "    </tr>\n",
       "    <tr>\n",
       "      <th>75%</th>\n",
       "      <td>190536.000000</td>\n",
       "      <td>2009.000000</td>\n",
       "      <td>231.000000</td>\n",
       "      <td>150000.000000</td>\n",
       "      <td>10.000000</td>\n",
       "      <td>1.975400e+06</td>\n",
       "    </tr>\n",
       "    <tr>\n",
       "      <th>max</th>\n",
       "      <td>249076.000000</td>\n",
       "      <td>2016.000000</td>\n",
       "      <td>585.000000</td>\n",
       "      <td>150000.000000</td>\n",
       "      <td>12.000000</td>\n",
       "      <td>1.058250e+07</td>\n",
       "    </tr>\n",
       "  </tbody>\n",
       "</table>\n",
       "</div>"
      ],
      "text/plain": [
       "          Unnamed: 0  yearOfRegistration      powerPS      kilometer  \\\n",
       "count    1385.000000         1385.000000  1385.000000    1385.000000   \n",
       "mean   125556.101083         2005.456318   208.698195  126870.036101   \n",
       "std     73896.545490            6.321105    73.243901   39643.977435   \n",
       "min        89.000000         1910.000000     0.000000    5000.000000   \n",
       "25%     62243.000000         2002.000000   163.000000  125000.000000   \n",
       "50%    125271.000000         2006.000000   218.000000  150000.000000   \n",
       "75%    190536.000000         2009.000000   231.000000  150000.000000   \n",
       "max    249076.000000         2016.000000   585.000000  150000.000000   \n",
       "\n",
       "       monthOfRegistration         price  \n",
       "count          1385.000000  1.385000e+03  \n",
       "mean              6.623827  1.481161e+06  \n",
       "std               3.446223  1.150661e+06  \n",
       "min               0.000000  0.000000e+00  \n",
       "25%               4.000000  6.225000e+05  \n",
       "50%               7.000000  1.245000e+06  \n",
       "75%              10.000000  1.975400e+06  \n",
       "max              12.000000  1.058250e+07  "
      ]
     },
     "execution_count": 14,
     "metadata": {},
     "output_type": "execute_result"
    }
   ],
   "source": [
    "benz.describe()"
   ]
  },
  {
   "cell_type": "code",
   "execution_count": 15,
   "id": "646c4854",
   "metadata": {},
   "outputs": [
    {
     "data": {
      "text/html": [
       "<div>\n",
       "<style scoped>\n",
       "    .dataframe tbody tr th:only-of-type {\n",
       "        vertical-align: middle;\n",
       "    }\n",
       "\n",
       "    .dataframe tbody tr th {\n",
       "        vertical-align: top;\n",
       "    }\n",
       "\n",
       "    .dataframe thead th {\n",
       "        text-align: right;\n",
       "    }\n",
       "</style>\n",
       "<table border=\"1\" class=\"dataframe\">\n",
       "  <thead>\n",
       "    <tr style=\"text-align: right;\">\n",
       "      <th></th>\n",
       "      <th>Unnamed: 0</th>\n",
       "      <th>seller</th>\n",
       "      <th>offerType</th>\n",
       "      <th>vehicleType</th>\n",
       "      <th>yearOfRegistration</th>\n",
       "      <th>gearbox</th>\n",
       "      <th>powerPS</th>\n",
       "      <th>model</th>\n",
       "      <th>kilometer</th>\n",
       "      <th>monthOfRegistration</th>\n",
       "      <th>fuelType</th>\n",
       "      <th>brand</th>\n",
       "      <th>notRepairedDamage</th>\n",
       "      <th>price</th>\n",
       "      <th>Years_group</th>\n",
       "    </tr>\n",
       "  </thead>\n",
       "  <tbody>\n",
       "    <tr>\n",
       "      <th>1117</th>\n",
       "      <td>204093</td>\n",
       "      <td>privat</td>\n",
       "      <td>Angebot</td>\n",
       "      <td>suv</td>\n",
       "      <td>2006</td>\n",
       "      <td>automatik</td>\n",
       "      <td>224</td>\n",
       "      <td>m_klasse</td>\n",
       "      <td>150000</td>\n",
       "      <td>2</td>\n",
       "      <td>diesel</td>\n",
       "      <td>mercedes_benz</td>\n",
       "      <td>No</td>\n",
       "      <td>1120500</td>\n",
       "      <td>2001-2010</td>\n",
       "    </tr>\n",
       "  </tbody>\n",
       "</table>\n",
       "</div>"
      ],
      "text/plain": [
       "      Unnamed: 0  seller offerType vehicleType  yearOfRegistration    gearbox  \\\n",
       "1117      204093  privat   Angebot         suv                2006  automatik   \n",
       "\n",
       "      powerPS     model  kilometer  monthOfRegistration fuelType  \\\n",
       "1117      224  m_klasse     150000                    2   diesel   \n",
       "\n",
       "              brand notRepairedDamage    price Years_group  \n",
       "1117  mercedes_benz                No  1120500   2001-2010  "
      ]
     },
     "execution_count": 15,
     "metadata": {},
     "output_type": "execute_result"
    }
   ],
   "source": [
    "benz.sample()"
   ]
  },
  {
   "cell_type": "code",
   "execution_count": 21,
   "id": "0f62d202",
   "metadata": {},
   "outputs": [
    {
     "data": {
      "text/plain": [
       "No     1320\n",
       "Yes      65\n",
       "Name: notRepairedDamage, dtype: int64"
      ]
     },
     "execution_count": 21,
     "metadata": {},
     "output_type": "execute_result"
    }
   ],
   "source": [
    "benz['notRepairedDamage'].value_counts()"
   ]
  },
  {
   "cell_type": "code",
   "execution_count": 22,
   "id": "ca646d88",
   "metadata": {},
   "outputs": [
    {
     "data": {
      "text/plain": [
       "diesel    1082\n",
       "benzin     243\n",
       "lpg         60\n",
       "Name: fuelType, dtype: int64"
      ]
     },
     "execution_count": 22,
     "metadata": {},
     "output_type": "execute_result"
    }
   ],
   "source": [
    "benz['fuelType'].value_counts()"
   ]
  },
  {
   "cell_type": "code",
   "execution_count": 23,
   "id": "4a2d3773",
   "metadata": {},
   "outputs": [
    {
     "data": {
      "text/plain": [
       "2001-2010    949\n",
       "2011-2020    240\n",
       "1991-2000    159\n",
       "1981-1990     31\n",
       "1970-1980      4\n",
       "Name: Years_group, dtype: int64"
      ]
     },
     "execution_count": 23,
     "metadata": {},
     "output_type": "execute_result"
    }
   ],
   "source": [
    "benz['Years_group'].value_counts()"
   ]
  },
  {
   "cell_type": "code",
   "execution_count": 24,
   "id": "c244f7ce",
   "metadata": {},
   "outputs": [
    {
     "data": {
      "text/plain": [
       "7     164\n",
       "4     131\n",
       "9     130\n",
       "12    127\n",
       "10    123\n",
       "3     111\n",
       "6     109\n",
       "11    106\n",
       "1     105\n",
       "5      92\n",
       "2      90\n",
       "8      85\n",
       "0      12\n",
       "Name: monthOfRegistration, dtype: int64"
      ]
     },
     "execution_count": 24,
     "metadata": {},
     "output_type": "execute_result"
    }
   ],
   "source": [
    "benz['monthOfRegistration'].value_counts()"
   ]
  },
  {
   "cell_type": "code",
   "execution_count": 20,
   "id": "cb244d16",
   "metadata": {},
   "outputs": [
    {
     "data": {
      "text/plain": [
       "150000    918\n",
       "125000    152\n",
       "100000     52\n",
       "40000      42\n",
       "90000      41\n",
       "70000      34\n",
       "80000      30\n",
       "30000      25\n",
       "50000      21\n",
       "60000      21\n",
       "20000      20\n",
       "5000       17\n",
       "10000      12\n",
       "Name: kilometer, dtype: int64"
      ]
     },
     "execution_count": 20,
     "metadata": {},
     "output_type": "execute_result"
    }
   ],
   "source": [
    "benz['kilometer'].value_counts()"
   ]
  },
  {
   "cell_type": "code",
   "execution_count": 19,
   "id": "b54851ba",
   "metadata": {},
   "outputs": [
    {
     "data": {
      "text/plain": [
       "m_klasse    909\n",
       "glk         204\n",
       "g_klasse    131\n",
       "andere       75\n",
       "gl           52\n",
       "clk           4\n",
       "e_klasse      3\n",
       "sprinter      3\n",
       "c_klasse      1\n",
       "vito          1\n",
       "s_klasse      1\n",
       "b_klasse      1\n",
       "Name: model, dtype: int64"
      ]
     },
     "execution_count": 19,
     "metadata": {},
     "output_type": "execute_result"
    }
   ],
   "source": [
    "benz['model'].value_counts()"
   ]
  },
  {
   "cell_type": "code",
   "execution_count": 18,
   "id": "964a2f0d",
   "metadata": {},
   "outputs": [
    {
     "data": {
      "text/plain": [
       "224    287\n",
       "163    189\n",
       "170    108\n",
       "190     94\n",
       "250     83\n",
       "      ... \n",
       "278      1\n",
       "223      1\n",
       "340      1\n",
       "225      1\n",
       "300      1\n",
       "Name: powerPS, Length: 79, dtype: int64"
      ]
     },
     "execution_count": 18,
     "metadata": {},
     "output_type": "execute_result"
    }
   ],
   "source": [
    "benz['powerPS'].value_counts()"
   ]
  },
  {
   "cell_type": "code",
   "execution_count": 17,
   "id": "243174c7",
   "metadata": {},
   "outputs": [
    {
     "data": {
      "text/plain": [
       "automatik    1252\n",
       "manuell       133\n",
       "Name: gearbox, dtype: int64"
      ]
     },
     "execution_count": 17,
     "metadata": {},
     "output_type": "execute_result"
    }
   ],
   "source": [
    "benz['gearbox'].value_counts()"
   ]
  },
  {
   "cell_type": "code",
   "execution_count": 16,
   "id": "5ef57a4e",
   "metadata": {},
   "outputs": [
    {
     "data": {
      "text/plain": [
       "2009    150\n",
       "2007    124\n",
       "2006    121\n",
       "2002    112\n",
       "2008    106\n",
       "2003     86\n",
       "2004     77\n",
       "2011     72\n",
       "2001     59\n",
       "2012     58\n",
       "2005     57\n",
       "2010     57\n",
       "2000     52\n",
       "1999     49\n",
       "2013     48\n",
       "2014     32\n",
       "2015     21\n",
       "1998     20\n",
       "1992     11\n",
       "2016      9\n",
       "1990      7\n",
       "1996      7\n",
       "1997      7\n",
       "1991      5\n",
       "1981      5\n",
       "1986      4\n",
       "1994      4\n",
       "1985      4\n",
       "1989      3\n",
       "1984      3\n",
       "1995      3\n",
       "1980      2\n",
       "1988      2\n",
       "1987      1\n",
       "1978      1\n",
       "1982      1\n",
       "1979      1\n",
       "1983      1\n",
       "1910      1\n",
       "1966      1\n",
       "1993      1\n",
       "Name: yearOfRegistration, dtype: int64"
      ]
     },
     "execution_count": 16,
     "metadata": {},
     "output_type": "execute_result"
    }
   ],
   "source": [
    "benz['yearOfRegistration'].value_counts()"
   ]
  },
  {
   "cell_type": "code",
   "execution_count": 25,
   "id": "93415a97",
   "metadata": {},
   "outputs": [
    {
     "name": "stderr",
     "output_type": "stream",
     "text": [
      "C:\\Users\\kalwa\\Anaconda3\\lib\\site-packages\\seaborn\\distributions.py:2619: FutureWarning: `distplot` is a deprecated function and will be removed in a future version. Please adapt your code to use either `displot` (a figure-level function with similar flexibility) or `histplot` (an axes-level function for histograms).\n",
      "  warnings.warn(msg, FutureWarning)\n"
     ]
    },
    {
     "data": {
      "text/plain": [
       "<AxesSubplot:xlabel='yearOfRegistration', ylabel='Density'>"
      ]
     },
     "execution_count": 25,
     "metadata": {},
     "output_type": "execute_result"
    },
    {
     "data": {
      "image/png": "[encoded data removed]",
      "text/plain": [
       "<Figure size 1440x720 with 1 Axes>"
      ]
     },
     "metadata": {
      "needs_background": "light"
     },
     "output_type": "display_data"
    }
   ],
   "source": [
    "plt.figure(figsize=(20,10))\n",
    "\n",
    "sb.distplot(benz['yearOfRegistration'],bins=5)\n"
   ]
  },
  {
   "cell_type": "code",
   "execution_count": 26,
   "id": "5a9eae09",
   "metadata": {},
   "outputs": [],
   "source": [
    "# Most of the Registration has been in the between 1998-2018"
   ]
  },
  {
   "cell_type": "code",
   "execution_count": 27,
   "id": "04d171d9",
   "metadata": {},
   "outputs": [
    {
     "name": "stderr",
     "output_type": "stream",
     "text": [
      "C:\\Users\\kalwa\\Anaconda3\\lib\\site-packages\\seaborn\\distributions.py:2619: FutureWarning: `distplot` is a deprecated function and will be removed in a future version. Please adapt your code to use either `displot` (a figure-level function with similar flexibility) or `histplot` (an axes-level function for histograms).\n",
      "  warnings.warn(msg, FutureWarning)\n"
     ]
    },
    {
     "data": {
      "text/plain": [
       "<AxesSubplot:xlabel='kilometer', ylabel='Density'>"
      ]
     },
     "execution_count": 27,
     "metadata": {},
     "output_type": "execute_result"
    },
    {
     "data": {
      "image/png": "[encoded data removed]",
      "text/plain": [
       "<Figure size 1440x720 with 1 Axes>"
      ]
     },
     "metadata": {
      "needs_background": "light"
     },
     "output_type": "display_data"
    }
   ],
   "source": [
    "plt.figure(figsize=(20,10))\n",
    "\n",
    "sb.distplot(benz['kilometer'],bins=5)\n"
   ]
  },
  {
   "cell_type": "code",
   "execution_count": 28,
   "id": "f6e3dd1f",
   "metadata": {},
   "outputs": [],
   "source": [
    "# Most of the cars has been between 120000-150000 km "
   ]
  },
  {
   "cell_type": "code",
   "execution_count": 29,
   "id": "a21fefb1",
   "metadata": {},
   "outputs": [
    {
     "name": "stderr",
     "output_type": "stream",
     "text": [
      "C:\\Users\\kalwa\\Anaconda3\\lib\\site-packages\\seaborn\\distributions.py:2619: FutureWarning: `distplot` is a deprecated function and will be removed in a future version. Please adapt your code to use either `displot` (a figure-level function with similar flexibility) or `histplot` (an axes-level function for histograms).\n",
      "  warnings.warn(msg, FutureWarning)\n"
     ]
    },
    {
     "data": {
      "text/plain": [
       "<AxesSubplot:xlabel='powerPS', ylabel='Density'>"
      ]
     },
     "execution_count": 29,
     "metadata": {},
     "output_type": "execute_result"
    },
    {
     "data": {
      "image/png": "[encoded data removed]",
      "text/plain": [
       "<Figure size 1440x720 with 1 Axes>"
      ]
     },
     "metadata": {
      "needs_background": "light"
     },
     "output_type": "display_data"
    }
   ],
   "source": [
    "plt.figure(figsize=(20,10))\n",
    "sb.distplot(benz['powerPS'],bins=10)"
   ]
  },
  {
   "cell_type": "code",
   "execution_count": 30,
   "id": "48bd4611",
   "metadata": {},
   "outputs": [],
   "source": [
    "# Most Benz car with power between 100-350 power Ps has been used "
   ]
  },
  {
   "cell_type": "code",
   "execution_count": 31,
   "id": "15acd3a9",
   "metadata": {},
   "outputs": [
    {
     "data": {
      "text/plain": [
       "<AxesSubplot:xlabel='Years_group', ylabel='count'>"
      ]
     },
     "execution_count": 31,
     "metadata": {},
     "output_type": "execute_result"
    },
    {
     "data": {
      "image/png": "[encoded data removed]",
      "text/plain": [
       "<Figure size 1440x720 with 1 Axes>"
      ]
     },
     "metadata": {
      "needs_background": "light"
     },
     "output_type": "display_data"
    }
   ],
   "source": [
    "plt.figure(figsize=(20,10))\n",
    "sb.countplot(x='Years_group',hue='gearbox',data=benz)"
   ]
  },
  {
   "cell_type": "code",
   "execution_count": 32,
   "id": "ead8cb16",
   "metadata": {},
   "outputs": [
    {
     "data": {
      "text/plain": [
       "(array([521., 213.,  60.,  28.,  13.,   6.,   0.]),\n",
       " array([1000000, 2000000, 3000000, 4000000, 5000000, 6000000, 7000000,\n",
       "        8000000]),\n",
       " <BarContainer object of 7 artists>)"
      ]
     },
     "execution_count": 32,
     "metadata": {},
     "output_type": "execute_result"
    },
    {
     "data": {
      "image/png": "[encoded data removed]",
      "text/plain": [
       "<Figure size 1440x720 with 1 Axes>"
      ]
     },
     "metadata": {
      "needs_background": "light"
     },
     "output_type": "display_data"
    }
   ],
   "source": [
    "plt.figure(figsize=(20,10))\n",
    "plt.title('yearOfRegistration')\n",
    "plt.xlabel('Price')\n",
    "\n",
    "plt.hist(benz['price'],bins=np.arange(1000000,9000000,1000000))"
   ]
  },
  {
   "cell_type": "code",
   "execution_count": 33,
   "id": "715d2c4f",
   "metadata": {},
   "outputs": [
    {
     "data": {
      "text/plain": [
       "<AxesSubplot:xlabel='model', ylabel='price'>"
      ]
     },
     "execution_count": 33,
     "metadata": {},
     "output_type": "execute_result"
    },
    {
     "data": {
      "image/png": "[encoded data removed]",
      "text/plain": [
       "<Figure size 1440x720 with 1 Axes>"
      ]
     },
     "metadata": {
      "needs_background": "light"
     },
     "output_type": "display_data"
    }
   ],
   "source": [
    "plt.figure(figsize=(20,10))\n",
    "\n",
    "sb.barplot(x='model',y='price',data=benz,hue='gearbox')"
   ]
  },
  {
   "cell_type": "code",
   "execution_count": 34,
   "id": "10d8e350",
   "metadata": {},
   "outputs": [
    {
     "data": {
      "text/plain": [
       "<AxesSubplot:xlabel='count', ylabel='model'>"
      ]
     },
     "execution_count": 34,
     "metadata": {},
     "output_type": "execute_result"
    },
    {
     "data": {
      "image/png": "[encoded data removed]",
      "text/plain": [
       "<Figure size 1440x720 with 1 Axes>"
      ]
     },
     "metadata": {
      "needs_background": "light"
     },
     "output_type": "display_data"
    }
   ],
   "source": [
    "plt.figure(figsize=(20,10))\n",
    "\n",
    "sb.countplot(y='model',data=benz)"
   ]
  },
  {
   "cell_type": "code",
   "execution_count": 35,
   "id": "721c9ead",
   "metadata": {},
   "outputs": [
    {
     "data": {
      "text/plain": [
       "m_klasse    909\n",
       "glk         204\n",
       "g_klasse    131\n",
       "andere       75\n",
       "gl           52\n",
       "clk           4\n",
       "e_klasse      3\n",
       "sprinter      3\n",
       "c_klasse      1\n",
       "vito          1\n",
       "s_klasse      1\n",
       "b_klasse      1\n",
       "Name: model, dtype: int64"
      ]
     },
     "execution_count": 35,
     "metadata": {},
     "output_type": "execute_result"
    }
   ],
   "source": [
    "benz['model'].value_counts()"
   ]
  },
  {
   "cell_type": "code",
   "execution_count": 36,
   "id": "58389786",
   "metadata": {},
   "outputs": [
    {
     "data": {
      "text/plain": [
       "m_klasse    65.631769\n",
       "glk         14.729242\n",
       "g_klasse     9.458484\n",
       "andere       5.415162\n",
       "gl           3.754513\n",
       "clk          0.288809\n",
       "e_klasse     0.216606\n",
       "sprinter     0.216606\n",
       "c_klasse     0.072202\n",
       "vito         0.072202\n",
       "s_klasse     0.072202\n",
       "b_klasse     0.072202\n",
       "Name: model, dtype: float64"
      ]
     },
     "execution_count": 36,
     "metadata": {},
     "output_type": "execute_result"
    }
   ],
   "source": [
    "benz['model'].value_counts()*100/benz['model'].value_counts().sum()"
   ]
  },
  {
   "cell_type": "code",
   "execution_count": 37,
   "id": "9cc62cf0",
   "metadata": {},
   "outputs": [
    {
     "data": {
      "text/plain": [
       "<AxesSubplot:xlabel='count', ylabel='fuelType'>"
      ]
     },
     "execution_count": 37,
     "metadata": {},
     "output_type": "execute_result"
    },
    {
     "data": {
      "image/png": "[encoded data removed]",
      "text/plain": [
       "<Figure size 1440x720 with 1 Axes>"
      ]
     },
     "metadata": {
      "needs_background": "light"
     },
     "output_type": "display_data"
    }
   ],
   "source": [
    "plt.figure(figsize=(20,10))\n",
    "\n",
    "sb.countplot(y='fuelType',data=benz)"
   ]
  },
  {
   "cell_type": "code",
   "execution_count": 38,
   "id": "c06f527a",
   "metadata": {},
   "outputs": [
    {
     "data": {
      "text/plain": [
       "diesel    78.122744\n",
       "benzin    17.545126\n",
       "lpg        4.332130\n",
       "Name: fuelType, dtype: float64"
      ]
     },
     "execution_count": 38,
     "metadata": {},
     "output_type": "execute_result"
    }
   ],
   "source": [
    "benz['fuelType'].value_counts()*100/benz['fuelType'].value_counts().sum()"
   ]
  },
  {
   "cell_type": "code",
   "execution_count": 46,
   "id": "e7ced7f6",
   "metadata": {},
   "outputs": [
    {
     "data": {
      "text/plain": [
       "<AxesSubplot:xlabel='Years_group', ylabel='count'>"
      ]
     },
     "execution_count": 46,
     "metadata": {},
     "output_type": "execute_result"
    },
    {
     "data": {
      "image/png": "[encoded data removed]",
      "text/plain": [
       "<Figure size 1440x720 with 1 Axes>"
      ]
     },
     "metadata": {
      "needs_background": "light"
     },
     "output_type": "display_data"
    }
   ],
   "source": [
    "plt.figure(figsize=(20,10))\n",
    "sb.countplot(x='Years_group',data=benz,hue='gearbox')"
   ]
  },
  {
   "cell_type": "code",
   "execution_count": 47,
   "id": "05daa66b",
   "metadata": {},
   "outputs": [],
   "source": [
    "#  Most Benz cars using is automatic gears is in between 1991-2000 \n",
    "#  Most Benz cars using  is automatic gears is in betwwen 2001-2010 \n",
    "# From 1991-2010 almost same for manual gears\n"
   ]
  },
  {
   "cell_type": "code",
   "execution_count": 48,
   "id": "02bb8336",
   "metadata": {},
   "outputs": [
    {
     "data": {
      "text/plain": [
       "<AxesSubplot:xlabel='kilometer', ylabel='count'>"
      ]
     },
     "execution_count": 48,
     "metadata": {},
     "output_type": "execute_result"
    },
    {
     "data": {
      "image/png": "[encoded data removed]",
      "text/plain": [
       "<Figure size 1440x720 with 1 Axes>"
      ]
     },
     "metadata": {
      "needs_background": "light"
     },
     "output_type": "display_data"
    }
   ],
   "source": [
    "plt.figure(figsize=(20,10))\n",
    "sb.countplot(x='kilometer',data=benz,hue='model')"
   ]
  },
  {
   "cell_type": "code",
   "execution_count": 49,
   "id": "047976fa",
   "metadata": {},
   "outputs": [],
   "source": [
    "# In this case above 150000 km reached with mode M_klasse are more in this data "
   ]
  },
  {
   "cell_type": "code",
   "execution_count": 50,
   "id": "87d87741",
   "metadata": {},
   "outputs": [
    {
     "data": {
      "text/plain": [
       "No     86.075949\n",
       "Yes    13.924051\n",
       "Name: notRepairedDamage, dtype: float64"
      ]
     },
     "execution_count": 50,
     "metadata": {},
     "output_type": "execute_result"
    }
   ],
   "source": [
    "benz['notRepairedDamage'].value_counts()*100/benz['notRepairedDamage'].value_counts().sum()"
   ]
  },
  {
   "cell_type": "code",
   "execution_count": 40,
   "id": "585044ef",
   "metadata": {},
   "outputs": [
    {
     "name": "stderr",
     "output_type": "stream",
     "text": [
      "C:\\Users\\kalwa\\Anaconda3\\lib\\site-packages\\seaborn\\_decorators.py:36: FutureWarning: Pass the following variable as a keyword arg: x. From version 0.12, the only valid positional argument will be `data`, and passing other arguments without an explicit keyword will result in an error or misinterpretation.\n",
      "  warnings.warn(\n"
     ]
    },
    {
     "data": {
      "text/plain": [
       "<AxesSubplot:xlabel='price'>"
      ]
     },
     "execution_count": 40,
     "metadata": {},
     "output_type": "execute_result"
    },
    {
     "data": {
      "image/png": "[encoded data removed]",
      "text/plain": [
       "<Figure size 432x288 with 1 Axes>"
      ]
     },
     "metadata": {
      "needs_background": "light"
     },
     "output_type": "display_data"
    }
   ],
   "source": [
    "sb.boxplot(benz['price'])"
   ]
  },
  {
   "cell_type": "code",
   "execution_count": 41,
   "id": "81d52faa",
   "metadata": {},
   "outputs": [],
   "source": [
    "benz=benz[benz['price']<400000]"
   ]
  },
  {
   "cell_type": "code",
   "execution_count": 43,
   "id": "30910f06",
   "metadata": {},
   "outputs": [],
   "source": [
    "benz=benz[benz['price']>150000]"
   ]
  },
  {
   "cell_type": "code",
   "execution_count": 44,
   "id": "b8875f00",
   "metadata": {},
   "outputs": [
    {
     "data": {
      "text/html": [
       "<div>\n",
       "<style scoped>\n",
       "    .dataframe tbody tr th:only-of-type {\n",
       "        vertical-align: middle;\n",
       "    }\n",
       "\n",
       "    .dataframe tbody tr th {\n",
       "        vertical-align: top;\n",
       "    }\n",
       "\n",
       "    .dataframe thead th {\n",
       "        text-align: right;\n",
       "    }\n",
       "</style>\n",
       "<table border=\"1\" class=\"dataframe\">\n",
       "  <thead>\n",
       "    <tr style=\"text-align: right;\">\n",
       "      <th></th>\n",
       "      <th>Unnamed: 0</th>\n",
       "      <th>seller</th>\n",
       "      <th>offerType</th>\n",
       "      <th>vehicleType</th>\n",
       "      <th>yearOfRegistration</th>\n",
       "      <th>gearbox</th>\n",
       "      <th>powerPS</th>\n",
       "      <th>model</th>\n",
       "      <th>kilometer</th>\n",
       "      <th>monthOfRegistration</th>\n",
       "      <th>fuelType</th>\n",
       "      <th>brand</th>\n",
       "      <th>notRepairedDamage</th>\n",
       "      <th>price</th>\n",
       "      <th>Years_group</th>\n",
       "    </tr>\n",
       "  </thead>\n",
       "  <tbody>\n",
       "    <tr>\n",
       "      <th>14</th>\n",
       "      <td>2901</td>\n",
       "      <td>privat</td>\n",
       "      <td>Angebot</td>\n",
       "      <td>suv</td>\n",
       "      <td>1999</td>\n",
       "      <td>automatik</td>\n",
       "      <td>218</td>\n",
       "      <td>m_klasse</td>\n",
       "      <td>150000</td>\n",
       "      <td>12</td>\n",
       "      <td>benzin</td>\n",
       "      <td>mercedes_benz</td>\n",
       "      <td>No</td>\n",
       "      <td>348600</td>\n",
       "      <td>1991-2000</td>\n",
       "    </tr>\n",
       "    <tr>\n",
       "      <th>21</th>\n",
       "      <td>4113</td>\n",
       "      <td>privat</td>\n",
       "      <td>Angebot</td>\n",
       "      <td>suv</td>\n",
       "      <td>1998</td>\n",
       "      <td>automatik</td>\n",
       "      <td>218</td>\n",
       "      <td>m_klasse</td>\n",
       "      <td>150000</td>\n",
       "      <td>12</td>\n",
       "      <td>benzin</td>\n",
       "      <td>mercedes_benz</td>\n",
       "      <td>No</td>\n",
       "      <td>344450</td>\n",
       "      <td>1991-2000</td>\n",
       "    </tr>\n",
       "    <tr>\n",
       "      <th>23</th>\n",
       "      <td>4222</td>\n",
       "      <td>privat</td>\n",
       "      <td>Angebot</td>\n",
       "      <td>suv</td>\n",
       "      <td>1997</td>\n",
       "      <td>automatik</td>\n",
       "      <td>150</td>\n",
       "      <td>e_klasse</td>\n",
       "      <td>150000</td>\n",
       "      <td>2</td>\n",
       "      <td>benzin</td>\n",
       "      <td>mercedes_benz</td>\n",
       "      <td>No</td>\n",
       "      <td>161850</td>\n",
       "      <td>1991-2000</td>\n",
       "    </tr>\n",
       "    <tr>\n",
       "      <th>27</th>\n",
       "      <td>4618</td>\n",
       "      <td>privat</td>\n",
       "      <td>Angebot</td>\n",
       "      <td>suv</td>\n",
       "      <td>1998</td>\n",
       "      <td>manuell</td>\n",
       "      <td>0</td>\n",
       "      <td>m_klasse</td>\n",
       "      <td>150000</td>\n",
       "      <td>12</td>\n",
       "      <td>benzin</td>\n",
       "      <td>mercedes_benz</td>\n",
       "      <td>No</td>\n",
       "      <td>232400</td>\n",
       "      <td>1991-2000</td>\n",
       "    </tr>\n",
       "    <tr>\n",
       "      <th>34</th>\n",
       "      <td>5603</td>\n",
       "      <td>privat</td>\n",
       "      <td>Angebot</td>\n",
       "      <td>suv</td>\n",
       "      <td>2000</td>\n",
       "      <td>automatik</td>\n",
       "      <td>218</td>\n",
       "      <td>m_klasse</td>\n",
       "      <td>150000</td>\n",
       "      <td>4</td>\n",
       "      <td>benzin</td>\n",
       "      <td>mercedes_benz</td>\n",
       "      <td>No</td>\n",
       "      <td>257217</td>\n",
       "      <td>1991-2000</td>\n",
       "    </tr>\n",
       "    <tr>\n",
       "      <th>...</th>\n",
       "      <td>...</td>\n",
       "      <td>...</td>\n",
       "      <td>...</td>\n",
       "      <td>...</td>\n",
       "      <td>...</td>\n",
       "      <td>...</td>\n",
       "      <td>...</td>\n",
       "      <td>...</td>\n",
       "      <td>...</td>\n",
       "      <td>...</td>\n",
       "      <td>...</td>\n",
       "      <td>...</td>\n",
       "      <td>...</td>\n",
       "      <td>...</td>\n",
       "      <td>...</td>\n",
       "    </tr>\n",
       "    <tr>\n",
       "      <th>1317</th>\n",
       "      <td>237220</td>\n",
       "      <td>privat</td>\n",
       "      <td>Angebot</td>\n",
       "      <td>suv</td>\n",
       "      <td>1998</td>\n",
       "      <td>automatik</td>\n",
       "      <td>218</td>\n",
       "      <td>m_klasse</td>\n",
       "      <td>150000</td>\n",
       "      <td>12</td>\n",
       "      <td>benzin</td>\n",
       "      <td>mercedes_benz</td>\n",
       "      <td>No</td>\n",
       "      <td>315400</td>\n",
       "      <td>1991-2000</td>\n",
       "    </tr>\n",
       "    <tr>\n",
       "      <th>1338</th>\n",
       "      <td>241396</td>\n",
       "      <td>privat</td>\n",
       "      <td>Angebot</td>\n",
       "      <td>suv</td>\n",
       "      <td>2002</td>\n",
       "      <td>automatik</td>\n",
       "      <td>163</td>\n",
       "      <td>m_klasse</td>\n",
       "      <td>150000</td>\n",
       "      <td>10</td>\n",
       "      <td>diesel</td>\n",
       "      <td>mercedes_benz</td>\n",
       "      <td>No</td>\n",
       "      <td>398400</td>\n",
       "      <td>2001-2010</td>\n",
       "    </tr>\n",
       "    <tr>\n",
       "      <th>1341</th>\n",
       "      <td>241568</td>\n",
       "      <td>privat</td>\n",
       "      <td>Angebot</td>\n",
       "      <td>suv</td>\n",
       "      <td>1999</td>\n",
       "      <td>automatik</td>\n",
       "      <td>218</td>\n",
       "      <td>m_klasse</td>\n",
       "      <td>150000</td>\n",
       "      <td>1</td>\n",
       "      <td>benzin</td>\n",
       "      <td>mercedes_benz</td>\n",
       "      <td>No</td>\n",
       "      <td>248917</td>\n",
       "      <td>1991-2000</td>\n",
       "    </tr>\n",
       "    <tr>\n",
       "      <th>1347</th>\n",
       "      <td>242527</td>\n",
       "      <td>privat</td>\n",
       "      <td>Angebot</td>\n",
       "      <td>suv</td>\n",
       "      <td>2003</td>\n",
       "      <td>automatik</td>\n",
       "      <td>250</td>\n",
       "      <td>m_klasse</td>\n",
       "      <td>150000</td>\n",
       "      <td>3</td>\n",
       "      <td>diesel</td>\n",
       "      <td>mercedes_benz</td>\n",
       "      <td>No</td>\n",
       "      <td>398400</td>\n",
       "      <td>2001-2010</td>\n",
       "    </tr>\n",
       "    <tr>\n",
       "      <th>1368</th>\n",
       "      <td>246279</td>\n",
       "      <td>privat</td>\n",
       "      <td>Angebot</td>\n",
       "      <td>suv</td>\n",
       "      <td>2002</td>\n",
       "      <td>automatik</td>\n",
       "      <td>250</td>\n",
       "      <td>m_klasse</td>\n",
       "      <td>150000</td>\n",
       "      <td>8</td>\n",
       "      <td>diesel</td>\n",
       "      <td>mercedes_benz</td>\n",
       "      <td>No</td>\n",
       "      <td>323617</td>\n",
       "      <td>2001-2010</td>\n",
       "    </tr>\n",
       "  </tbody>\n",
       "</table>\n",
       "<p>158 rows × 15 columns</p>\n",
       "</div>"
      ],
      "text/plain": [
       "      Unnamed: 0  seller offerType vehicleType  yearOfRegistration    gearbox  \\\n",
       "14          2901  privat   Angebot         suv                1999  automatik   \n",
       "21          4113  privat   Angebot         suv                1998  automatik   \n",
       "23          4222  privat   Angebot         suv                1997  automatik   \n",
       "27          4618  privat   Angebot         suv                1998    manuell   \n",
       "34          5603  privat   Angebot         suv                2000  automatik   \n",
       "...          ...     ...       ...         ...                 ...        ...   \n",
       "1317      237220  privat   Angebot         suv                1998  automatik   \n",
       "1338      241396  privat   Angebot         suv                2002  automatik   \n",
       "1341      241568  privat   Angebot         suv                1999  automatik   \n",
       "1347      242527  privat   Angebot         suv                2003  automatik   \n",
       "1368      246279  privat   Angebot         suv                2002  automatik   \n",
       "\n",
       "      powerPS     model  kilometer  monthOfRegistration fuelType  \\\n",
       "14        218  m_klasse     150000                   12   benzin   \n",
       "21        218  m_klasse     150000                   12   benzin   \n",
       "23        150  e_klasse     150000                    2   benzin   \n",
       "27          0  m_klasse     150000                   12   benzin   \n",
       "34        218  m_klasse     150000                    4   benzin   \n",
       "...       ...       ...        ...                  ...      ...   \n",
       "1317      218  m_klasse     150000                   12   benzin   \n",
       "1338      163  m_klasse     150000                   10   diesel   \n",
       "1341      218  m_klasse     150000                    1   benzin   \n",
       "1347      250  m_klasse     150000                    3   diesel   \n",
       "1368      250  m_klasse     150000                    8   diesel   \n",
       "\n",
       "              brand notRepairedDamage   price Years_group  \n",
       "14    mercedes_benz                No  348600   1991-2000  \n",
       "21    mercedes_benz                No  344450   1991-2000  \n",
       "23    mercedes_benz                No  161850   1991-2000  \n",
       "27    mercedes_benz                No  232400   1991-2000  \n",
       "34    mercedes_benz                No  257217   1991-2000  \n",
       "...             ...               ...     ...         ...  \n",
       "1317  mercedes_benz                No  315400   1991-2000  \n",
       "1338  mercedes_benz                No  398400   2001-2010  \n",
       "1341  mercedes_benz                No  248917   1991-2000  \n",
       "1347  mercedes_benz                No  398400   2001-2010  \n",
       "1368  mercedes_benz                No  323617   2001-2010  \n",
       "\n",
       "[158 rows x 15 columns]"
      ]
     },
     "execution_count": 44,
     "metadata": {},
     "output_type": "execute_result"
    }
   ],
   "source": [
    "benz"
   ]
  },
  {
   "cell_type": "code",
   "execution_count": 45,
   "id": "603a2234",
   "metadata": {},
   "outputs": [
    {
     "name": "stderr",
     "output_type": "stream",
     "text": [
      "C:\\Users\\kalwa\\Anaconda3\\lib\\site-packages\\seaborn\\_decorators.py:36: FutureWarning: Pass the following variable as a keyword arg: x. From version 0.12, the only valid positional argument will be `data`, and passing other arguments without an explicit keyword will result in an error or misinterpretation.\n",
      "  warnings.warn(\n"
     ]
    },
    {
     "data": {
      "text/plain": [
       "<AxesSubplot:xlabel='price'>"
      ]
     },
     "execution_count": 45,
     "metadata": {},
     "output_type": "execute_result"
    },
    {
     "data": {
      "image/png": "[encoded data removed]",
      "text/plain": [
       "<Figure size 432x288 with 1 Axes>"
      ]
     },
     "metadata": {
      "needs_background": "light"
     },
     "output_type": "display_data"
    }
   ],
   "source": [
    "sb.boxplot(benz['price'])"
   ]
  },
  {
   "cell_type": "code",
   "execution_count": 52,
   "id": "920708a9",
   "metadata": {},
   "outputs": [
    {
     "data": {
      "text/html": [
       "<div>\n",
       "<style scoped>\n",
       "    .dataframe tbody tr th:only-of-type {\n",
       "        vertical-align: middle;\n",
       "    }\n",
       "\n",
       "    .dataframe tbody tr th {\n",
       "        vertical-align: top;\n",
       "    }\n",
       "\n",
       "    .dataframe thead th {\n",
       "        text-align: right;\n",
       "    }\n",
       "</style>\n",
       "<table border=\"1\" class=\"dataframe\">\n",
       "  <thead>\n",
       "    <tr style=\"text-align: right;\">\n",
       "      <th></th>\n",
       "      <th>Unnamed: 0</th>\n",
       "      <th>seller</th>\n",
       "      <th>offerType</th>\n",
       "      <th>vehicleType</th>\n",
       "      <th>yearOfRegistration</th>\n",
       "      <th>gearbox</th>\n",
       "      <th>powerPS</th>\n",
       "      <th>model</th>\n",
       "      <th>kilometer</th>\n",
       "      <th>monthOfRegistration</th>\n",
       "      <th>fuelType</th>\n",
       "      <th>brand</th>\n",
       "      <th>notRepairedDamage</th>\n",
       "      <th>price</th>\n",
       "      <th>Years_group</th>\n",
       "    </tr>\n",
       "  </thead>\n",
       "  <tbody>\n",
       "    <tr>\n",
       "      <th>1155</th>\n",
       "      <td>211462</td>\n",
       "      <td>privat</td>\n",
       "      <td>Angebot</td>\n",
       "      <td>suv</td>\n",
       "      <td>2002</td>\n",
       "      <td>automatik</td>\n",
       "      <td>250</td>\n",
       "      <td>m_klasse</td>\n",
       "      <td>150000</td>\n",
       "      <td>3</td>\n",
       "      <td>diesel</td>\n",
       "      <td>mercedes_benz</td>\n",
       "      <td>No</td>\n",
       "      <td>332000</td>\n",
       "      <td>2001-2010</td>\n",
       "    </tr>\n",
       "  </tbody>\n",
       "</table>\n",
       "</div>"
      ],
      "text/plain": [
       "      Unnamed: 0  seller offerType vehicleType  yearOfRegistration    gearbox  \\\n",
       "1155      211462  privat   Angebot         suv                2002  automatik   \n",
       "\n",
       "      powerPS     model  kilometer  monthOfRegistration fuelType  \\\n",
       "1155      250  m_klasse     150000                    3   diesel   \n",
       "\n",
       "              brand notRepairedDamage   price Years_group  \n",
       "1155  mercedes_benz                No  332000   2001-2010  "
      ]
     },
     "execution_count": 52,
     "metadata": {},
     "output_type": "execute_result"
    }
   ],
   "source": [
    "benz.sample()"
   ]
  },
  {
   "cell_type": "code",
   "execution_count": 53,
   "id": "2a916506",
   "metadata": {},
   "outputs": [
    {
     "data": {
      "text/plain": [
       "Index(['Unnamed: 0', 'seller', 'offerType', 'vehicleType',\n",
       "       'yearOfRegistration', 'gearbox', 'powerPS', 'model', 'kilometer',\n",
       "       'monthOfRegistration', 'fuelType', 'brand', 'notRepairedDamage',\n",
       "       'price', 'Years_group'],\n",
       "      dtype='object')"
      ]
     },
     "execution_count": 53,
     "metadata": {},
     "output_type": "execute_result"
    }
   ],
   "source": [
    "benz.columns"
   ]
  },
  {
   "cell_type": "code",
   "execution_count": 54,
   "id": "057220d2",
   "metadata": {},
   "outputs": [],
   "source": [
    "benz=benz.drop(['Unnamed: 0', 'seller', 'offerType','vehicleType','brand','Years_group'],axis=1)"
   ]
  },
  {
   "cell_type": "code",
   "execution_count": 55,
   "id": "0590a02c",
   "metadata": {},
   "outputs": [
    {
     "data": {
      "text/html": [
       "<div>\n",
       "<style scoped>\n",
       "    .dataframe tbody tr th:only-of-type {\n",
       "        vertical-align: middle;\n",
       "    }\n",
       "\n",
       "    .dataframe tbody tr th {\n",
       "        vertical-align: top;\n",
       "    }\n",
       "\n",
       "    .dataframe thead th {\n",
       "        text-align: right;\n",
       "    }\n",
       "</style>\n",
       "<table border=\"1\" class=\"dataframe\">\n",
       "  <thead>\n",
       "    <tr style=\"text-align: right;\">\n",
       "      <th></th>\n",
       "      <th>yearOfRegistration</th>\n",
       "      <th>gearbox</th>\n",
       "      <th>powerPS</th>\n",
       "      <th>model</th>\n",
       "      <th>kilometer</th>\n",
       "      <th>monthOfRegistration</th>\n",
       "      <th>fuelType</th>\n",
       "      <th>notRepairedDamage</th>\n",
       "      <th>price</th>\n",
       "    </tr>\n",
       "  </thead>\n",
       "  <tbody>\n",
       "    <tr>\n",
       "      <th>14</th>\n",
       "      <td>1999</td>\n",
       "      <td>automatik</td>\n",
       "      <td>218</td>\n",
       "      <td>m_klasse</td>\n",
       "      <td>150000</td>\n",
       "      <td>12</td>\n",
       "      <td>benzin</td>\n",
       "      <td>No</td>\n",
       "      <td>348600</td>\n",
       "    </tr>\n",
       "    <tr>\n",
       "      <th>21</th>\n",
       "      <td>1998</td>\n",
       "      <td>automatik</td>\n",
       "      <td>218</td>\n",
       "      <td>m_klasse</td>\n",
       "      <td>150000</td>\n",
       "      <td>12</td>\n",
       "      <td>benzin</td>\n",
       "      <td>No</td>\n",
       "      <td>344450</td>\n",
       "    </tr>\n",
       "    <tr>\n",
       "      <th>23</th>\n",
       "      <td>1997</td>\n",
       "      <td>automatik</td>\n",
       "      <td>150</td>\n",
       "      <td>e_klasse</td>\n",
       "      <td>150000</td>\n",
       "      <td>2</td>\n",
       "      <td>benzin</td>\n",
       "      <td>No</td>\n",
       "      <td>161850</td>\n",
       "    </tr>\n",
       "    <tr>\n",
       "      <th>27</th>\n",
       "      <td>1998</td>\n",
       "      <td>manuell</td>\n",
       "      <td>0</td>\n",
       "      <td>m_klasse</td>\n",
       "      <td>150000</td>\n",
       "      <td>12</td>\n",
       "      <td>benzin</td>\n",
       "      <td>No</td>\n",
       "      <td>232400</td>\n",
       "    </tr>\n",
       "    <tr>\n",
       "      <th>34</th>\n",
       "      <td>2000</td>\n",
       "      <td>automatik</td>\n",
       "      <td>218</td>\n",
       "      <td>m_klasse</td>\n",
       "      <td>150000</td>\n",
       "      <td>4</td>\n",
       "      <td>benzin</td>\n",
       "      <td>No</td>\n",
       "      <td>257217</td>\n",
       "    </tr>\n",
       "    <tr>\n",
       "      <th>...</th>\n",
       "      <td>...</td>\n",
       "      <td>...</td>\n",
       "      <td>...</td>\n",
       "      <td>...</td>\n",
       "      <td>...</td>\n",
       "      <td>...</td>\n",
       "      <td>...</td>\n",
       "      <td>...</td>\n",
       "      <td>...</td>\n",
       "    </tr>\n",
       "    <tr>\n",
       "      <th>1317</th>\n",
       "      <td>1998</td>\n",
       "      <td>automatik</td>\n",
       "      <td>218</td>\n",
       "      <td>m_klasse</td>\n",
       "      <td>150000</td>\n",
       "      <td>12</td>\n",
       "      <td>benzin</td>\n",
       "      <td>No</td>\n",
       "      <td>315400</td>\n",
       "    </tr>\n",
       "    <tr>\n",
       "      <th>1338</th>\n",
       "      <td>2002</td>\n",
       "      <td>automatik</td>\n",
       "      <td>163</td>\n",
       "      <td>m_klasse</td>\n",
       "      <td>150000</td>\n",
       "      <td>10</td>\n",
       "      <td>diesel</td>\n",
       "      <td>No</td>\n",
       "      <td>398400</td>\n",
       "    </tr>\n",
       "    <tr>\n",
       "      <th>1341</th>\n",
       "      <td>1999</td>\n",
       "      <td>automatik</td>\n",
       "      <td>218</td>\n",
       "      <td>m_klasse</td>\n",
       "      <td>150000</td>\n",
       "      <td>1</td>\n",
       "      <td>benzin</td>\n",
       "      <td>No</td>\n",
       "      <td>248917</td>\n",
       "    </tr>\n",
       "    <tr>\n",
       "      <th>1347</th>\n",
       "      <td>2003</td>\n",
       "      <td>automatik</td>\n",
       "      <td>250</td>\n",
       "      <td>m_klasse</td>\n",
       "      <td>150000</td>\n",
       "      <td>3</td>\n",
       "      <td>diesel</td>\n",
       "      <td>No</td>\n",
       "      <td>398400</td>\n",
       "    </tr>\n",
       "    <tr>\n",
       "      <th>1368</th>\n",
       "      <td>2002</td>\n",
       "      <td>automatik</td>\n",
       "      <td>250</td>\n",
       "      <td>m_klasse</td>\n",
       "      <td>150000</td>\n",
       "      <td>8</td>\n",
       "      <td>diesel</td>\n",
       "      <td>No</td>\n",
       "      <td>323617</td>\n",
       "    </tr>\n",
       "  </tbody>\n",
       "</table>\n",
       "<p>158 rows × 9 columns</p>\n",
       "</div>"
      ],
      "text/plain": [
       "      yearOfRegistration    gearbox  powerPS     model  kilometer  \\\n",
       "14                  1999  automatik      218  m_klasse     150000   \n",
       "21                  1998  automatik      218  m_klasse     150000   \n",
       "23                  1997  automatik      150  e_klasse     150000   \n",
       "27                  1998    manuell        0  m_klasse     150000   \n",
       "34                  2000  automatik      218  m_klasse     150000   \n",
       "...                  ...        ...      ...       ...        ...   \n",
       "1317                1998  automatik      218  m_klasse     150000   \n",
       "1338                2002  automatik      163  m_klasse     150000   \n",
       "1341                1999  automatik      218  m_klasse     150000   \n",
       "1347                2003  automatik      250  m_klasse     150000   \n",
       "1368                2002  automatik      250  m_klasse     150000   \n",
       "\n",
       "      monthOfRegistration fuelType notRepairedDamage   price  \n",
       "14                     12   benzin                No  348600  \n",
       "21                     12   benzin                No  344450  \n",
       "23                      2   benzin                No  161850  \n",
       "27                     12   benzin                No  232400  \n",
       "34                      4   benzin                No  257217  \n",
       "...                   ...      ...               ...     ...  \n",
       "1317                   12   benzin                No  315400  \n",
       "1338                   10   diesel                No  398400  \n",
       "1341                    1   benzin                No  248917  \n",
       "1347                    3   diesel                No  398400  \n",
       "1368                    8   diesel                No  323617  \n",
       "\n",
       "[158 rows x 9 columns]"
      ]
     },
     "execution_count": 55,
     "metadata": {},
     "output_type": "execute_result"
    }
   ],
   "source": [
    "benz"
   ]
  },
  {
   "cell_type": "code",
   "execution_count": 56,
   "id": "6f5e7971",
   "metadata": {},
   "outputs": [],
   "source": [
    "from sklearn.preprocessing import LabelEncoder\n",
    "enc=LabelEncoder()"
   ]
  },
  {
   "cell_type": "code",
   "execution_count": 59,
   "id": "8948644e",
   "metadata": {},
   "outputs": [],
   "source": [
    "data=['gearbox','fuelType','model','notRepairedDamage']"
   ]
  },
  {
   "cell_type": "code",
   "execution_count": 60,
   "id": "b46dc61f",
   "metadata": {},
   "outputs": [],
   "source": [
    "for x in data:\n",
    "    benz[x]=enc.fit_transform(benz[x])"
   ]
  },
  {
   "cell_type": "code",
   "execution_count": 61,
   "id": "2a0bb14a",
   "metadata": {},
   "outputs": [
    {
     "data": {
      "text/html": [
       "<div>\n",
       "<style scoped>\n",
       "    .dataframe tbody tr th:only-of-type {\n",
       "        vertical-align: middle;\n",
       "    }\n",
       "\n",
       "    .dataframe tbody tr th {\n",
       "        vertical-align: top;\n",
       "    }\n",
       "\n",
       "    .dataframe thead th {\n",
       "        text-align: right;\n",
       "    }\n",
       "</style>\n",
       "<table border=\"1\" class=\"dataframe\">\n",
       "  <thead>\n",
       "    <tr style=\"text-align: right;\">\n",
       "      <th></th>\n",
       "      <th>yearOfRegistration</th>\n",
       "      <th>gearbox</th>\n",
       "      <th>powerPS</th>\n",
       "      <th>model</th>\n",
       "      <th>kilometer</th>\n",
       "      <th>monthOfRegistration</th>\n",
       "      <th>fuelType</th>\n",
       "      <th>notRepairedDamage</th>\n",
       "      <th>price</th>\n",
       "    </tr>\n",
       "  </thead>\n",
       "  <tbody>\n",
       "    <tr>\n",
       "      <th>14</th>\n",
       "      <td>1999</td>\n",
       "      <td>0</td>\n",
       "      <td>218</td>\n",
       "      <td>3</td>\n",
       "      <td>150000</td>\n",
       "      <td>12</td>\n",
       "      <td>0</td>\n",
       "      <td>0</td>\n",
       "      <td>348600</td>\n",
       "    </tr>\n",
       "    <tr>\n",
       "      <th>21</th>\n",
       "      <td>1998</td>\n",
       "      <td>0</td>\n",
       "      <td>218</td>\n",
       "      <td>3</td>\n",
       "      <td>150000</td>\n",
       "      <td>12</td>\n",
       "      <td>0</td>\n",
       "      <td>0</td>\n",
       "      <td>344450</td>\n",
       "    </tr>\n",
       "    <tr>\n",
       "      <th>23</th>\n",
       "      <td>1997</td>\n",
       "      <td>0</td>\n",
       "      <td>150</td>\n",
       "      <td>1</td>\n",
       "      <td>150000</td>\n",
       "      <td>2</td>\n",
       "      <td>0</td>\n",
       "      <td>0</td>\n",
       "      <td>161850</td>\n",
       "    </tr>\n",
       "    <tr>\n",
       "      <th>27</th>\n",
       "      <td>1998</td>\n",
       "      <td>1</td>\n",
       "      <td>0</td>\n",
       "      <td>3</td>\n",
       "      <td>150000</td>\n",
       "      <td>12</td>\n",
       "      <td>0</td>\n",
       "      <td>0</td>\n",
       "      <td>232400</td>\n",
       "    </tr>\n",
       "    <tr>\n",
       "      <th>34</th>\n",
       "      <td>2000</td>\n",
       "      <td>0</td>\n",
       "      <td>218</td>\n",
       "      <td>3</td>\n",
       "      <td>150000</td>\n",
       "      <td>4</td>\n",
       "      <td>0</td>\n",
       "      <td>0</td>\n",
       "      <td>257217</td>\n",
       "    </tr>\n",
       "    <tr>\n",
       "      <th>...</th>\n",
       "      <td>...</td>\n",
       "      <td>...</td>\n",
       "      <td>...</td>\n",
       "      <td>...</td>\n",
       "      <td>...</td>\n",
       "      <td>...</td>\n",
       "      <td>...</td>\n",
       "      <td>...</td>\n",
       "      <td>...</td>\n",
       "    </tr>\n",
       "    <tr>\n",
       "      <th>1317</th>\n",
       "      <td>1998</td>\n",
       "      <td>0</td>\n",
       "      <td>218</td>\n",
       "      <td>3</td>\n",
       "      <td>150000</td>\n",
       "      <td>12</td>\n",
       "      <td>0</td>\n",
       "      <td>0</td>\n",
       "      <td>315400</td>\n",
       "    </tr>\n",
       "    <tr>\n",
       "      <th>1338</th>\n",
       "      <td>2002</td>\n",
       "      <td>0</td>\n",
       "      <td>163</td>\n",
       "      <td>3</td>\n",
       "      <td>150000</td>\n",
       "      <td>10</td>\n",
       "      <td>1</td>\n",
       "      <td>0</td>\n",
       "      <td>398400</td>\n",
       "    </tr>\n",
       "    <tr>\n",
       "      <th>1341</th>\n",
       "      <td>1999</td>\n",
       "      <td>0</td>\n",
       "      <td>218</td>\n",
       "      <td>3</td>\n",
       "      <td>150000</td>\n",
       "      <td>1</td>\n",
       "      <td>0</td>\n",
       "      <td>0</td>\n",
       "      <td>248917</td>\n",
       "    </tr>\n",
       "    <tr>\n",
       "      <th>1347</th>\n",
       "      <td>2003</td>\n",
       "      <td>0</td>\n",
       "      <td>250</td>\n",
       "      <td>3</td>\n",
       "      <td>150000</td>\n",
       "      <td>3</td>\n",
       "      <td>1</td>\n",
       "      <td>0</td>\n",
       "      <td>398400</td>\n",
       "    </tr>\n",
       "    <tr>\n",
       "      <th>1368</th>\n",
       "      <td>2002</td>\n",
       "      <td>0</td>\n",
       "      <td>250</td>\n",
       "      <td>3</td>\n",
       "      <td>150000</td>\n",
       "      <td>8</td>\n",
       "      <td>1</td>\n",
       "      <td>0</td>\n",
       "      <td>323617</td>\n",
       "    </tr>\n",
       "  </tbody>\n",
       "</table>\n",
       "<p>158 rows × 9 columns</p>\n",
       "</div>"
      ],
      "text/plain": [
       "      yearOfRegistration  gearbox  powerPS  model  kilometer  \\\n",
       "14                  1999        0      218      3     150000   \n",
       "21                  1998        0      218      3     150000   \n",
       "23                  1997        0      150      1     150000   \n",
       "27                  1998        1        0      3     150000   \n",
       "34                  2000        0      218      3     150000   \n",
       "...                  ...      ...      ...    ...        ...   \n",
       "1317                1998        0      218      3     150000   \n",
       "1338                2002        0      163      3     150000   \n",
       "1341                1999        0      218      3     150000   \n",
       "1347                2003        0      250      3     150000   \n",
       "1368                2002        0      250      3     150000   \n",
       "\n",
       "      monthOfRegistration  fuelType  notRepairedDamage   price  \n",
       "14                     12         0                  0  348600  \n",
       "21                     12         0                  0  344450  \n",
       "23                      2         0                  0  161850  \n",
       "27                     12         0                  0  232400  \n",
       "34                      4         0                  0  257217  \n",
       "...                   ...       ...                ...     ...  \n",
       "1317                   12         0                  0  315400  \n",
       "1338                   10         1                  0  398400  \n",
       "1341                    1         0                  0  248917  \n",
       "1347                    3         1                  0  398400  \n",
       "1368                    8         1                  0  323617  \n",
       "\n",
       "[158 rows x 9 columns]"
      ]
     },
     "execution_count": 61,
     "metadata": {},
     "output_type": "execute_result"
    }
   ],
   "source": [
    "benz"
   ]
  },
  {
   "cell_type": "code",
   "execution_count": 80,
   "id": "c991080d",
   "metadata": {},
   "outputs": [
    {
     "data": {
      "text/html": [
       "<div>\n",
       "<style scoped>\n",
       "    .dataframe tbody tr th:only-of-type {\n",
       "        vertical-align: middle;\n",
       "    }\n",
       "\n",
       "    .dataframe tbody tr th {\n",
       "        vertical-align: top;\n",
       "    }\n",
       "\n",
       "    .dataframe thead th {\n",
       "        text-align: right;\n",
       "    }\n",
       "</style>\n",
       "<table border=\"1\" class=\"dataframe\">\n",
       "  <thead>\n",
       "    <tr style=\"text-align: right;\">\n",
       "      <th></th>\n",
       "      <th>gearbox</th>\n",
       "      <th>powerPS</th>\n",
       "      <th>model</th>\n",
       "      <th>kilometer</th>\n",
       "      <th>monthOfRegistration</th>\n",
       "      <th>fuelType</th>\n",
       "      <th>notRepairedDamage</th>\n",
       "      <th>price</th>\n",
       "    </tr>\n",
       "  </thead>\n",
       "  <tbody>\n",
       "    <tr>\n",
       "      <th>14</th>\n",
       "      <td>0</td>\n",
       "      <td>218</td>\n",
       "      <td>3</td>\n",
       "      <td>150000</td>\n",
       "      <td>12</td>\n",
       "      <td>0</td>\n",
       "      <td>0</td>\n",
       "      <td>348600</td>\n",
       "    </tr>\n",
       "    <tr>\n",
       "      <th>21</th>\n",
       "      <td>0</td>\n",
       "      <td>218</td>\n",
       "      <td>3</td>\n",
       "      <td>150000</td>\n",
       "      <td>12</td>\n",
       "      <td>0</td>\n",
       "      <td>0</td>\n",
       "      <td>344450</td>\n",
       "    </tr>\n",
       "    <tr>\n",
       "      <th>23</th>\n",
       "      <td>0</td>\n",
       "      <td>150</td>\n",
       "      <td>1</td>\n",
       "      <td>150000</td>\n",
       "      <td>2</td>\n",
       "      <td>0</td>\n",
       "      <td>0</td>\n",
       "      <td>161850</td>\n",
       "    </tr>\n",
       "    <tr>\n",
       "      <th>27</th>\n",
       "      <td>1</td>\n",
       "      <td>0</td>\n",
       "      <td>3</td>\n",
       "      <td>150000</td>\n",
       "      <td>12</td>\n",
       "      <td>0</td>\n",
       "      <td>0</td>\n",
       "      <td>232400</td>\n",
       "    </tr>\n",
       "    <tr>\n",
       "      <th>34</th>\n",
       "      <td>0</td>\n",
       "      <td>218</td>\n",
       "      <td>3</td>\n",
       "      <td>150000</td>\n",
       "      <td>4</td>\n",
       "      <td>0</td>\n",
       "      <td>0</td>\n",
       "      <td>257217</td>\n",
       "    </tr>\n",
       "  </tbody>\n",
       "</table>\n",
       "</div>"
      ],
      "text/plain": [
       "    gearbox  powerPS  model  kilometer  monthOfRegistration  fuelType  \\\n",
       "14        0      218      3     150000                   12         0   \n",
       "21        0      218      3     150000                   12         0   \n",
       "23        0      150      1     150000                    2         0   \n",
       "27        1        0      3     150000                   12         0   \n",
       "34        0      218      3     150000                    4         0   \n",
       "\n",
       "    notRepairedDamage   price  \n",
       "14                  0  348600  \n",
       "21                  0  344450  \n",
       "23                  0  161850  \n",
       "27                  0  232400  \n",
       "34                  0  257217  "
      ]
     },
     "execution_count": 80,
     "metadata": {},
     "output_type": "execute_result"
    }
   ],
   "source": [
    "x=benz.iloc[:,1:9]\n",
    "x.head()"
   ]
  },
  {
   "cell_type": "code",
   "execution_count": 81,
   "id": "0ee2b165",
   "metadata": {},
   "outputs": [
    {
     "data": {
      "text/plain": [
       "14    348600\n",
       "21    344450\n",
       "23    161850\n",
       "27    232400\n",
       "34    257217\n",
       "Name: price, dtype: int64"
      ]
     },
     "execution_count": 81,
     "metadata": {},
     "output_type": "execute_result"
    }
   ],
   "source": [
    "y=benz.price\n",
    "y.head()"
   ]
  },
  {
   "cell_type": "code",
   "execution_count": 82,
   "id": "eb348ddd",
   "metadata": {},
   "outputs": [],
   "source": [
    "from sklearn.model_selection import train_test_split\n",
    "x_train, x_test, y_train, y_test = train_test_split(x,y, test_size=0.3, random_state=11)"
   ]
  },
  {
   "cell_type": "code",
   "execution_count": 83,
   "id": "56f933bb",
   "metadata": {},
   "outputs": [
    {
     "data": {
      "text/html": [
       "<div>\n",
       "<style scoped>\n",
       "    .dataframe tbody tr th:only-of-type {\n",
       "        vertical-align: middle;\n",
       "    }\n",
       "\n",
       "    .dataframe tbody tr th {\n",
       "        vertical-align: top;\n",
       "    }\n",
       "\n",
       "    .dataframe thead th {\n",
       "        text-align: right;\n",
       "    }\n",
       "</style>\n",
       "<table border=\"1\" class=\"dataframe\">\n",
       "  <thead>\n",
       "    <tr style=\"text-align: right;\">\n",
       "      <th></th>\n",
       "      <th>gearbox</th>\n",
       "      <th>powerPS</th>\n",
       "      <th>model</th>\n",
       "      <th>kilometer</th>\n",
       "      <th>monthOfRegistration</th>\n",
       "      <th>fuelType</th>\n",
       "      <th>notRepairedDamage</th>\n",
       "      <th>price</th>\n",
       "    </tr>\n",
       "  </thead>\n",
       "  <tbody>\n",
       "    <tr>\n",
       "      <th>1347</th>\n",
       "      <td>0</td>\n",
       "      <td>250</td>\n",
       "      <td>3</td>\n",
       "      <td>150000</td>\n",
       "      <td>3</td>\n",
       "      <td>1</td>\n",
       "      <td>0</td>\n",
       "      <td>398400</td>\n",
       "    </tr>\n",
       "    <tr>\n",
       "      <th>714</th>\n",
       "      <td>0</td>\n",
       "      <td>163</td>\n",
       "      <td>3</td>\n",
       "      <td>150000</td>\n",
       "      <td>6</td>\n",
       "      <td>1</td>\n",
       "      <td>0</td>\n",
       "      <td>348600</td>\n",
       "    </tr>\n",
       "    <tr>\n",
       "      <th>49</th>\n",
       "      <td>1</td>\n",
       "      <td>0</td>\n",
       "      <td>3</td>\n",
       "      <td>150000</td>\n",
       "      <td>8</td>\n",
       "      <td>1</td>\n",
       "      <td>1</td>\n",
       "      <td>257300</td>\n",
       "    </tr>\n",
       "    <tr>\n",
       "      <th>520</th>\n",
       "      <td>0</td>\n",
       "      <td>250</td>\n",
       "      <td>3</td>\n",
       "      <td>150000</td>\n",
       "      <td>12</td>\n",
       "      <td>1</td>\n",
       "      <td>0</td>\n",
       "      <td>365200</td>\n",
       "    </tr>\n",
       "    <tr>\n",
       "      <th>1023</th>\n",
       "      <td>0</td>\n",
       "      <td>0</td>\n",
       "      <td>3</td>\n",
       "      <td>150000</td>\n",
       "      <td>11</td>\n",
       "      <td>2</td>\n",
       "      <td>0</td>\n",
       "      <td>348600</td>\n",
       "    </tr>\n",
       "  </tbody>\n",
       "</table>\n",
       "</div>"
      ],
      "text/plain": [
       "      gearbox  powerPS  model  kilometer  monthOfRegistration  fuelType  \\\n",
       "1347        0      250      3     150000                    3         1   \n",
       "714         0      163      3     150000                    6         1   \n",
       "49          1        0      3     150000                    8         1   \n",
       "520         0      250      3     150000                   12         1   \n",
       "1023        0        0      3     150000                   11         2   \n",
       "\n",
       "      notRepairedDamage   price  \n",
       "1347                  0  398400  \n",
       "714                   0  348600  \n",
       "49                    1  257300  \n",
       "520                   0  365200  \n",
       "1023                  0  348600  "
      ]
     },
     "execution_count": 83,
     "metadata": {},
     "output_type": "execute_result"
    }
   ],
   "source": [
    "x_train.head()"
   ]
  },
  {
   "cell_type": "code",
   "execution_count": 84,
   "id": "debea551",
   "metadata": {},
   "outputs": [
    {
     "data": {
      "text/plain": [
       "1347    398400\n",
       "714     348600\n",
       "49      257300\n",
       "520     365200\n",
       "1023    348600\n",
       "Name: price, dtype: int64"
      ]
     },
     "execution_count": 84,
     "metadata": {},
     "output_type": "execute_result"
    }
   ],
   "source": [
    "y_train.head()"
   ]
  },
  {
   "cell_type": "markdown",
   "id": "442340ee",
   "metadata": {},
   "source": [
    "# LinearRegression"
   ]
  },
  {
   "cell_type": "code",
   "execution_count": 85,
   "id": "c909b6c2",
   "metadata": {},
   "outputs": [
    {
     "data": {
      "text/plain": [
       "LinearRegression()"
      ]
     },
     "execution_count": 85,
     "metadata": {},
     "output_type": "execute_result"
    }
   ],
   "source": [
    "from sklearn.linear_model import LinearRegression\n",
    "model_lr=LinearRegression()\n",
    "model_lr.fit(x_train,y_train)"
   ]
  },
  {
   "cell_type": "code",
   "execution_count": 86,
   "id": "233de454",
   "metadata": {},
   "outputs": [],
   "source": [
    "predict_price = model_lr.predict(x_test)\n"
   ]
  },
  {
   "cell_type": "code",
   "execution_count": 87,
   "id": "5100cedd",
   "metadata": {},
   "outputs": [],
   "source": [
    "from sklearn.metrics import r2_score"
   ]
  },
  {
   "cell_type": "code",
   "execution_count": 88,
   "id": "37ff38dc",
   "metadata": {},
   "outputs": [
    {
     "data": {
      "text/plain": [
       "1.0"
      ]
     },
     "execution_count": 88,
     "metadata": {},
     "output_type": "execute_result"
    }
   ],
   "source": [
    "r2_score(predict_price,y_test)"
   ]
  },
  {
   "cell_type": "markdown",
   "id": "bfe1865f",
   "metadata": {},
   "source": [
    "# KNeighborsRegressor"
   ]
  },
  {
   "cell_type": "code",
   "execution_count": 89,
   "id": "a184d3a5",
   "metadata": {},
   "outputs": [
    {
     "data": {
      "text/plain": [
       "KNeighborsRegressor(n_neighbors=1)"
      ]
     },
     "execution_count": 89,
     "metadata": {},
     "output_type": "execute_result"
    }
   ],
   "source": [
    "from sklearn.neighbors import KNeighborsRegressor\n",
    "model_knc=KNeighborsRegressor(n_neighbors=1)\n",
    "model_knc.fit(x_train,y_train)"
   ]
  },
  {
   "cell_type": "code",
   "execution_count": 91,
   "id": "91e70009",
   "metadata": {},
   "outputs": [],
   "source": [
    "predict_knc=model_knc.predict(x_test)\n"
   ]
  },
  {
   "cell_type": "code",
   "execution_count": 92,
   "id": "e00def85",
   "metadata": {},
   "outputs": [
    {
     "data": {
      "text/plain": [
       "0.8723646691556484"
      ]
     },
     "execution_count": 92,
     "metadata": {},
     "output_type": "execute_result"
    }
   ],
   "source": [
    "r2_score(predict_knc,y_test)"
   ]
  },
  {
   "cell_type": "markdown",
   "id": "3ec7283d",
   "metadata": {},
   "source": [
    "# RandomForestRegressor"
   ]
  },
  {
   "cell_type": "code",
   "execution_count": 93,
   "id": "6021c9c8",
   "metadata": {},
   "outputs": [
    {
     "data": {
      "text/plain": [
       "RandomForestRegressor()"
      ]
     },
     "execution_count": 93,
     "metadata": {},
     "output_type": "execute_result"
    }
   ],
   "source": [
    "from sklearn.ensemble import RandomForestRegressor\n",
    "model_rfc=RandomForestRegressor()\n",
    "model_rfc.fit(x_train,y_train)"
   ]
  },
  {
   "cell_type": "code",
   "execution_count": 94,
   "id": "6d6a05bc",
   "metadata": {},
   "outputs": [],
   "source": [
    "pedict_frc = model_rfc.predict(x_test)\n"
   ]
  },
  {
   "cell_type": "code",
   "execution_count": 95,
   "id": "473757a6",
   "metadata": {},
   "outputs": [
    {
     "data": {
      "text/plain": [
       "0.9981448259796053"
      ]
     },
     "execution_count": 95,
     "metadata": {},
     "output_type": "execute_result"
    }
   ],
   "source": [
    "r2_score(pedict_frc,y_test)"
   ]
  },
  {
   "cell_type": "markdown",
   "id": "d55ce398",
   "metadata": {},
   "source": [
    "# DecisionTreeRegressor"
   ]
  },
  {
   "cell_type": "code",
   "execution_count": 98,
   "id": "4466725f",
   "metadata": {},
   "outputs": [
    {
     "data": {
      "text/plain": [
       "DecisionTreeRegressor()"
      ]
     },
     "execution_count": 98,
     "metadata": {},
     "output_type": "execute_result"
    }
   ],
   "source": [
    "from sklearn.tree import DecisionTreeRegressor\n",
    "model_dtc = DecisionTreeRegressor()\n",
    "model_dtc.fit(x_train,y_train)"
   ]
  },
  {
   "cell_type": "code",
   "execution_count": 99,
   "id": "f2542d48",
   "metadata": {},
   "outputs": [],
   "source": [
    "predict_dtc = model_dtc.predict(x_test)\n",
    "from sklearn.metrics import r2_score\n"
   ]
  },
  {
   "cell_type": "code",
   "execution_count": 100,
   "id": "35ddd523",
   "metadata": {},
   "outputs": [
    {
     "data": {
      "text/plain": [
       "0.9984962374485794"
      ]
     },
     "execution_count": 100,
     "metadata": {},
     "output_type": "execute_result"
    }
   ],
   "source": [
    "r2_score(predict_dtc,y_test)"
   ]
  },
  {
   "cell_type": "markdown",
   "id": "55ef1c1f",
   "metadata": {},
   "source": [
    "# All data which has been collectd and  appllied  in Regressor Model of Machine Learning are below:\n",
    "\n",
    "LinearRegression-1.0\n",
    "\n",
    "KNeighborsRegressor : 0.8723646691556484\n",
    "\n",
    "RandomForestRegressor : 0.9981448259796053\n",
    "\n",
    "DecisionTreeRegressor  : 0.9984962374485794\n",
    "\n",
    "LinearRegression is giving the  best  results from others Regression models"
   ]
  },
  {
   "cell_type": "code",
   "execution_count": 101,
   "id": "88f90835",
   "metadata": {},
   "outputs": [
    {
     "data": {
      "text/html": [
       "<div>\n",
       "<style scoped>\n",
       "    .dataframe tbody tr th:only-of-type {\n",
       "        vertical-align: middle;\n",
       "    }\n",
       "\n",
       "    .dataframe tbody tr th {\n",
       "        vertical-align: top;\n",
       "    }\n",
       "\n",
       "    .dataframe thead th {\n",
       "        text-align: right;\n",
       "    }\n",
       "</style>\n",
       "<table border=\"1\" class=\"dataframe\">\n",
       "  <thead>\n",
       "    <tr style=\"text-align: right;\">\n",
       "      <th></th>\n",
       "      <th>yearOfRegistration</th>\n",
       "      <th>gearbox</th>\n",
       "      <th>powerPS</th>\n",
       "      <th>model</th>\n",
       "      <th>kilometer</th>\n",
       "      <th>monthOfRegistration</th>\n",
       "      <th>fuelType</th>\n",
       "      <th>notRepairedDamage</th>\n",
       "      <th>price</th>\n",
       "    </tr>\n",
       "  </thead>\n",
       "  <tbody>\n",
       "    <tr>\n",
       "      <th>14</th>\n",
       "      <td>1999</td>\n",
       "      <td>0</td>\n",
       "      <td>218</td>\n",
       "      <td>3</td>\n",
       "      <td>150000</td>\n",
       "      <td>12</td>\n",
       "      <td>0</td>\n",
       "      <td>0</td>\n",
       "      <td>348600</td>\n",
       "    </tr>\n",
       "    <tr>\n",
       "      <th>21</th>\n",
       "      <td>1998</td>\n",
       "      <td>0</td>\n",
       "      <td>218</td>\n",
       "      <td>3</td>\n",
       "      <td>150000</td>\n",
       "      <td>12</td>\n",
       "      <td>0</td>\n",
       "      <td>0</td>\n",
       "      <td>344450</td>\n",
       "    </tr>\n",
       "    <tr>\n",
       "      <th>23</th>\n",
       "      <td>1997</td>\n",
       "      <td>0</td>\n",
       "      <td>150</td>\n",
       "      <td>1</td>\n",
       "      <td>150000</td>\n",
       "      <td>2</td>\n",
       "      <td>0</td>\n",
       "      <td>0</td>\n",
       "      <td>161850</td>\n",
       "    </tr>\n",
       "    <tr>\n",
       "      <th>27</th>\n",
       "      <td>1998</td>\n",
       "      <td>1</td>\n",
       "      <td>0</td>\n",
       "      <td>3</td>\n",
       "      <td>150000</td>\n",
       "      <td>12</td>\n",
       "      <td>0</td>\n",
       "      <td>0</td>\n",
       "      <td>232400</td>\n",
       "    </tr>\n",
       "    <tr>\n",
       "      <th>34</th>\n",
       "      <td>2000</td>\n",
       "      <td>0</td>\n",
       "      <td>218</td>\n",
       "      <td>3</td>\n",
       "      <td>150000</td>\n",
       "      <td>4</td>\n",
       "      <td>0</td>\n",
       "      <td>0</td>\n",
       "      <td>257217</td>\n",
       "    </tr>\n",
       "    <tr>\n",
       "      <th>...</th>\n",
       "      <td>...</td>\n",
       "      <td>...</td>\n",
       "      <td>...</td>\n",
       "      <td>...</td>\n",
       "      <td>...</td>\n",
       "      <td>...</td>\n",
       "      <td>...</td>\n",
       "      <td>...</td>\n",
       "      <td>...</td>\n",
       "    </tr>\n",
       "    <tr>\n",
       "      <th>1317</th>\n",
       "      <td>1998</td>\n",
       "      <td>0</td>\n",
       "      <td>218</td>\n",
       "      <td>3</td>\n",
       "      <td>150000</td>\n",
       "      <td>12</td>\n",
       "      <td>0</td>\n",
       "      <td>0</td>\n",
       "      <td>315400</td>\n",
       "    </tr>\n",
       "    <tr>\n",
       "      <th>1338</th>\n",
       "      <td>2002</td>\n",
       "      <td>0</td>\n",
       "      <td>163</td>\n",
       "      <td>3</td>\n",
       "      <td>150000</td>\n",
       "      <td>10</td>\n",
       "      <td>1</td>\n",
       "      <td>0</td>\n",
       "      <td>398400</td>\n",
       "    </tr>\n",
       "    <tr>\n",
       "      <th>1341</th>\n",
       "      <td>1999</td>\n",
       "      <td>0</td>\n",
       "      <td>218</td>\n",
       "      <td>3</td>\n",
       "      <td>150000</td>\n",
       "      <td>1</td>\n",
       "      <td>0</td>\n",
       "      <td>0</td>\n",
       "      <td>248917</td>\n",
       "    </tr>\n",
       "    <tr>\n",
       "      <th>1347</th>\n",
       "      <td>2003</td>\n",
       "      <td>0</td>\n",
       "      <td>250</td>\n",
       "      <td>3</td>\n",
       "      <td>150000</td>\n",
       "      <td>3</td>\n",
       "      <td>1</td>\n",
       "      <td>0</td>\n",
       "      <td>398400</td>\n",
       "    </tr>\n",
       "    <tr>\n",
       "      <th>1368</th>\n",
       "      <td>2002</td>\n",
       "      <td>0</td>\n",
       "      <td>250</td>\n",
       "      <td>3</td>\n",
       "      <td>150000</td>\n",
       "      <td>8</td>\n",
       "      <td>1</td>\n",
       "      <td>0</td>\n",
       "      <td>323617</td>\n",
       "    </tr>\n",
       "  </tbody>\n",
       "</table>\n",
       "<p>158 rows × 9 columns</p>\n",
       "</div>"
      ],
      "text/plain": [
       "      yearOfRegistration  gearbox  powerPS  model  kilometer  \\\n",
       "14                  1999        0      218      3     150000   \n",
       "21                  1998        0      218      3     150000   \n",
       "23                  1997        0      150      1     150000   \n",
       "27                  1998        1        0      3     150000   \n",
       "34                  2000        0      218      3     150000   \n",
       "...                  ...      ...      ...    ...        ...   \n",
       "1317                1998        0      218      3     150000   \n",
       "1338                2002        0      163      3     150000   \n",
       "1341                1999        0      218      3     150000   \n",
       "1347                2003        0      250      3     150000   \n",
       "1368                2002        0      250      3     150000   \n",
       "\n",
       "      monthOfRegistration  fuelType  notRepairedDamage   price  \n",
       "14                     12         0                  0  348600  \n",
       "21                     12         0                  0  344450  \n",
       "23                      2         0                  0  161850  \n",
       "27                     12         0                  0  232400  \n",
       "34                      4         0                  0  257217  \n",
       "...                   ...       ...                ...     ...  \n",
       "1317                   12         0                  0  315400  \n",
       "1338                   10         1                  0  398400  \n",
       "1341                    1         0                  0  248917  \n",
       "1347                    3         1                  0  398400  \n",
       "1368                    8         1                  0  323617  \n",
       "\n",
       "[158 rows x 9 columns]"
      ]
     },
     "execution_count": 101,
     "metadata": {},
     "output_type": "execute_result"
    }
   ],
   "source": [
    "benz"
   ]
  },
  {
   "cell_type": "code",
   "execution_count": 102,
   "id": "db8574d2",
   "metadata": {},
   "outputs": [],
   "source": [
    "benz = benz.iloc[:,[1,2,3,4,5,6,8,7]]"
   ]
  },
  {
   "cell_type": "code",
   "execution_count": 103,
   "id": "9ef559da",
   "metadata": {},
   "outputs": [
    {
     "data": {
      "text/html": [
       "<div>\n",
       "<style scoped>\n",
       "    .dataframe tbody tr th:only-of-type {\n",
       "        vertical-align: middle;\n",
       "    }\n",
       "\n",
       "    .dataframe tbody tr th {\n",
       "        vertical-align: top;\n",
       "    }\n",
       "\n",
       "    .dataframe thead th {\n",
       "        text-align: right;\n",
       "    }\n",
       "</style>\n",
       "<table border=\"1\" class=\"dataframe\">\n",
       "  <thead>\n",
       "    <tr style=\"text-align: right;\">\n",
       "      <th></th>\n",
       "      <th>gearbox</th>\n",
       "      <th>powerPS</th>\n",
       "      <th>model</th>\n",
       "      <th>kilometer</th>\n",
       "      <th>monthOfRegistration</th>\n",
       "      <th>fuelType</th>\n",
       "      <th>price</th>\n",
       "      <th>notRepairedDamage</th>\n",
       "    </tr>\n",
       "  </thead>\n",
       "  <tbody>\n",
       "    <tr>\n",
       "      <th>14</th>\n",
       "      <td>0</td>\n",
       "      <td>218</td>\n",
       "      <td>3</td>\n",
       "      <td>150000</td>\n",
       "      <td>12</td>\n",
       "      <td>0</td>\n",
       "      <td>348600</td>\n",
       "      <td>0</td>\n",
       "    </tr>\n",
       "    <tr>\n",
       "      <th>21</th>\n",
       "      <td>0</td>\n",
       "      <td>218</td>\n",
       "      <td>3</td>\n",
       "      <td>150000</td>\n",
       "      <td>12</td>\n",
       "      <td>0</td>\n",
       "      <td>344450</td>\n",
       "      <td>0</td>\n",
       "    </tr>\n",
       "    <tr>\n",
       "      <th>23</th>\n",
       "      <td>0</td>\n",
       "      <td>150</td>\n",
       "      <td>1</td>\n",
       "      <td>150000</td>\n",
       "      <td>2</td>\n",
       "      <td>0</td>\n",
       "      <td>161850</td>\n",
       "      <td>0</td>\n",
       "    </tr>\n",
       "    <tr>\n",
       "      <th>27</th>\n",
       "      <td>1</td>\n",
       "      <td>0</td>\n",
       "      <td>3</td>\n",
       "      <td>150000</td>\n",
       "      <td>12</td>\n",
       "      <td>0</td>\n",
       "      <td>232400</td>\n",
       "      <td>0</td>\n",
       "    </tr>\n",
       "    <tr>\n",
       "      <th>34</th>\n",
       "      <td>0</td>\n",
       "      <td>218</td>\n",
       "      <td>3</td>\n",
       "      <td>150000</td>\n",
       "      <td>4</td>\n",
       "      <td>0</td>\n",
       "      <td>257217</td>\n",
       "      <td>0</td>\n",
       "    </tr>\n",
       "    <tr>\n",
       "      <th>...</th>\n",
       "      <td>...</td>\n",
       "      <td>...</td>\n",
       "      <td>...</td>\n",
       "      <td>...</td>\n",
       "      <td>...</td>\n",
       "      <td>...</td>\n",
       "      <td>...</td>\n",
       "      <td>...</td>\n",
       "    </tr>\n",
       "    <tr>\n",
       "      <th>1317</th>\n",
       "      <td>0</td>\n",
       "      <td>218</td>\n",
       "      <td>3</td>\n",
       "      <td>150000</td>\n",
       "      <td>12</td>\n",
       "      <td>0</td>\n",
       "      <td>315400</td>\n",
       "      <td>0</td>\n",
       "    </tr>\n",
       "    <tr>\n",
       "      <th>1338</th>\n",
       "      <td>0</td>\n",
       "      <td>163</td>\n",
       "      <td>3</td>\n",
       "      <td>150000</td>\n",
       "      <td>10</td>\n",
       "      <td>1</td>\n",
       "      <td>398400</td>\n",
       "      <td>0</td>\n",
       "    </tr>\n",
       "    <tr>\n",
       "      <th>1341</th>\n",
       "      <td>0</td>\n",
       "      <td>218</td>\n",
       "      <td>3</td>\n",
       "      <td>150000</td>\n",
       "      <td>1</td>\n",
       "      <td>0</td>\n",
       "      <td>248917</td>\n",
       "      <td>0</td>\n",
       "    </tr>\n",
       "    <tr>\n",
       "      <th>1347</th>\n",
       "      <td>0</td>\n",
       "      <td>250</td>\n",
       "      <td>3</td>\n",
       "      <td>150000</td>\n",
       "      <td>3</td>\n",
       "      <td>1</td>\n",
       "      <td>398400</td>\n",
       "      <td>0</td>\n",
       "    </tr>\n",
       "    <tr>\n",
       "      <th>1368</th>\n",
       "      <td>0</td>\n",
       "      <td>250</td>\n",
       "      <td>3</td>\n",
       "      <td>150000</td>\n",
       "      <td>8</td>\n",
       "      <td>1</td>\n",
       "      <td>323617</td>\n",
       "      <td>0</td>\n",
       "    </tr>\n",
       "  </tbody>\n",
       "</table>\n",
       "<p>158 rows × 8 columns</p>\n",
       "</div>"
      ],
      "text/plain": [
       "      gearbox  powerPS  model  kilometer  monthOfRegistration  fuelType  \\\n",
       "14          0      218      3     150000                   12         0   \n",
       "21          0      218      3     150000                   12         0   \n",
       "23          0      150      1     150000                    2         0   \n",
       "27          1        0      3     150000                   12         0   \n",
       "34          0      218      3     150000                    4         0   \n",
       "...       ...      ...    ...        ...                  ...       ...   \n",
       "1317        0      218      3     150000                   12         0   \n",
       "1338        0      163      3     150000                   10         1   \n",
       "1341        0      218      3     150000                    1         0   \n",
       "1347        0      250      3     150000                    3         1   \n",
       "1368        0      250      3     150000                    8         1   \n",
       "\n",
       "       price  notRepairedDamage  \n",
       "14    348600                  0  \n",
       "21    344450                  0  \n",
       "23    161850                  0  \n",
       "27    232400                  0  \n",
       "34    257217                  0  \n",
       "...      ...                ...  \n",
       "1317  315400                  0  \n",
       "1338  398400                  0  \n",
       "1341  248917                  0  \n",
       "1347  398400                  0  \n",
       "1368  323617                  0  \n",
       "\n",
       "[158 rows x 8 columns]"
      ]
     },
     "execution_count": 103,
     "metadata": {},
     "output_type": "execute_result"
    }
   ],
   "source": [
    "benz"
   ]
  },
  {
   "cell_type": "code",
   "execution_count": 104,
   "id": "f42a6b70",
   "metadata": {},
   "outputs": [
    {
     "data": {
      "text/html": [
       "<div>\n",
       "<style scoped>\n",
       "    .dataframe tbody tr th:only-of-type {\n",
       "        vertical-align: middle;\n",
       "    }\n",
       "\n",
       "    .dataframe tbody tr th {\n",
       "        vertical-align: top;\n",
       "    }\n",
       "\n",
       "    .dataframe thead th {\n",
       "        text-align: right;\n",
       "    }\n",
       "</style>\n",
       "<table border=\"1\" class=\"dataframe\">\n",
       "  <thead>\n",
       "    <tr style=\"text-align: right;\">\n",
       "      <th></th>\n",
       "      <th>powerPS</th>\n",
       "      <th>model</th>\n",
       "      <th>kilometer</th>\n",
       "      <th>monthOfRegistration</th>\n",
       "      <th>fuelType</th>\n",
       "      <th>price</th>\n",
       "    </tr>\n",
       "  </thead>\n",
       "  <tbody>\n",
       "    <tr>\n",
       "      <th>14</th>\n",
       "      <td>218</td>\n",
       "      <td>3</td>\n",
       "      <td>150000</td>\n",
       "      <td>12</td>\n",
       "      <td>0</td>\n",
       "      <td>348600</td>\n",
       "    </tr>\n",
       "    <tr>\n",
       "      <th>21</th>\n",
       "      <td>218</td>\n",
       "      <td>3</td>\n",
       "      <td>150000</td>\n",
       "      <td>12</td>\n",
       "      <td>0</td>\n",
       "      <td>344450</td>\n",
       "    </tr>\n",
       "    <tr>\n",
       "      <th>23</th>\n",
       "      <td>150</td>\n",
       "      <td>1</td>\n",
       "      <td>150000</td>\n",
       "      <td>2</td>\n",
       "      <td>0</td>\n",
       "      <td>161850</td>\n",
       "    </tr>\n",
       "    <tr>\n",
       "      <th>27</th>\n",
       "      <td>0</td>\n",
       "      <td>3</td>\n",
       "      <td>150000</td>\n",
       "      <td>12</td>\n",
       "      <td>0</td>\n",
       "      <td>232400</td>\n",
       "    </tr>\n",
       "    <tr>\n",
       "      <th>34</th>\n",
       "      <td>218</td>\n",
       "      <td>3</td>\n",
       "      <td>150000</td>\n",
       "      <td>4</td>\n",
       "      <td>0</td>\n",
       "      <td>257217</td>\n",
       "    </tr>\n",
       "  </tbody>\n",
       "</table>\n",
       "</div>"
      ],
      "text/plain": [
       "    powerPS  model  kilometer  monthOfRegistration  fuelType   price\n",
       "14      218      3     150000                   12         0  348600\n",
       "21      218      3     150000                   12         0  344450\n",
       "23      150      1     150000                    2         0  161850\n",
       "27        0      3     150000                   12         0  232400\n",
       "34      218      3     150000                    4         0  257217"
      ]
     },
     "execution_count": 104,
     "metadata": {},
     "output_type": "execute_result"
    }
   ],
   "source": [
    "x=benz.iloc[:,1:7]\n",
    "x.head()"
   ]
  },
  {
   "cell_type": "code",
   "execution_count": 106,
   "id": "0030f47b",
   "metadata": {},
   "outputs": [
    {
     "data": {
      "text/plain": [
       "14    0\n",
       "21    0\n",
       "23    0\n",
       "27    0\n",
       "34    0\n",
       "Name: notRepairedDamage, dtype: int32"
      ]
     },
     "execution_count": 106,
     "metadata": {},
     "output_type": "execute_result"
    }
   ],
   "source": [
    "y=benz.notRepairedDamage\n",
    "y.head()"
   ]
  },
  {
   "cell_type": "code",
   "execution_count": 107,
   "id": "29309122",
   "metadata": {},
   "outputs": [],
   "source": [
    "from sklearn.model_selection import train_test_split\n",
    "x_train, x_test, y_train, y_test = train_test_split(x,y, test_size=0.3, random_state=11)"
   ]
  },
  {
   "cell_type": "code",
   "execution_count": 108,
   "id": "b48bc14d",
   "metadata": {},
   "outputs": [
    {
     "data": {
      "text/html": [
       "<div>\n",
       "<style scoped>\n",
       "    .dataframe tbody tr th:only-of-type {\n",
       "        vertical-align: middle;\n",
       "    }\n",
       "\n",
       "    .dataframe tbody tr th {\n",
       "        vertical-align: top;\n",
       "    }\n",
       "\n",
       "    .dataframe thead th {\n",
       "        text-align: right;\n",
       "    }\n",
       "</style>\n",
       "<table border=\"1\" class=\"dataframe\">\n",
       "  <thead>\n",
       "    <tr style=\"text-align: right;\">\n",
       "      <th></th>\n",
       "      <th>powerPS</th>\n",
       "      <th>model</th>\n",
       "      <th>kilometer</th>\n",
       "      <th>monthOfRegistration</th>\n",
       "      <th>fuelType</th>\n",
       "      <th>price</th>\n",
       "    </tr>\n",
       "  </thead>\n",
       "  <tbody>\n",
       "    <tr>\n",
       "      <th>1347</th>\n",
       "      <td>250</td>\n",
       "      <td>3</td>\n",
       "      <td>150000</td>\n",
       "      <td>3</td>\n",
       "      <td>1</td>\n",
       "      <td>398400</td>\n",
       "    </tr>\n",
       "    <tr>\n",
       "      <th>714</th>\n",
       "      <td>163</td>\n",
       "      <td>3</td>\n",
       "      <td>150000</td>\n",
       "      <td>6</td>\n",
       "      <td>1</td>\n",
       "      <td>348600</td>\n",
       "    </tr>\n",
       "    <tr>\n",
       "      <th>49</th>\n",
       "      <td>0</td>\n",
       "      <td>3</td>\n",
       "      <td>150000</td>\n",
       "      <td>8</td>\n",
       "      <td>1</td>\n",
       "      <td>257300</td>\n",
       "    </tr>\n",
       "    <tr>\n",
       "      <th>520</th>\n",
       "      <td>250</td>\n",
       "      <td>3</td>\n",
       "      <td>150000</td>\n",
       "      <td>12</td>\n",
       "      <td>1</td>\n",
       "      <td>365200</td>\n",
       "    </tr>\n",
       "    <tr>\n",
       "      <th>1023</th>\n",
       "      <td>0</td>\n",
       "      <td>3</td>\n",
       "      <td>150000</td>\n",
       "      <td>11</td>\n",
       "      <td>2</td>\n",
       "      <td>348600</td>\n",
       "    </tr>\n",
       "  </tbody>\n",
       "</table>\n",
       "</div>"
      ],
      "text/plain": [
       "      powerPS  model  kilometer  monthOfRegistration  fuelType   price\n",
       "1347      250      3     150000                    3         1  398400\n",
       "714       163      3     150000                    6         1  348600\n",
       "49          0      3     150000                    8         1  257300\n",
       "520       250      3     150000                   12         1  365200\n",
       "1023        0      3     150000                   11         2  348600"
      ]
     },
     "execution_count": 108,
     "metadata": {},
     "output_type": "execute_result"
    }
   ],
   "source": [
    "x_train.head()"
   ]
  },
  {
   "cell_type": "code",
   "execution_count": 109,
   "id": "893f379c",
   "metadata": {},
   "outputs": [
    {
     "data": {
      "text/plain": [
       "1347    0\n",
       "714     0\n",
       "49      1\n",
       "520     0\n",
       "1023    0\n",
       "Name: notRepairedDamage, dtype: int32"
      ]
     },
     "execution_count": 109,
     "metadata": {},
     "output_type": "execute_result"
    }
   ],
   "source": [
    "y_train.head()"
   ]
  },
  {
   "cell_type": "markdown",
   "id": "ee86cbf7",
   "metadata": {},
   "source": [
    "# DecisionTreeClassifier"
   ]
  },
  {
   "cell_type": "code",
   "execution_count": 110,
   "id": "9513233f",
   "metadata": {},
   "outputs": [],
   "source": [
    "from sklearn.tree import DecisionTreeClassifier"
   ]
  },
  {
   "cell_type": "code",
   "execution_count": 111,
   "id": "80275cd5",
   "metadata": {},
   "outputs": [
    {
     "data": {
      "text/plain": [
       "DecisionTreeClassifier()"
      ]
     },
     "execution_count": 111,
     "metadata": {},
     "output_type": "execute_result"
    }
   ],
   "source": [
    "model_dtc = DecisionTreeClassifier()\n",
    "model_dtc.fit(x_train,y_train)"
   ]
  },
  {
   "cell_type": "code",
   "execution_count": 112,
   "id": "818db746",
   "metadata": {},
   "outputs": [],
   "source": [
    "predict_dtc = model_dtc.predict(x_test)"
   ]
  },
  {
   "cell_type": "code",
   "execution_count": 113,
   "id": "56a7c207",
   "metadata": {},
   "outputs": [],
   "source": [
    "from sklearn.metrics import accuracy_score, confusion_matrix"
   ]
  },
  {
   "cell_type": "code",
   "execution_count": 114,
   "id": "3bc76f6c",
   "metadata": {},
   "outputs": [
    {
     "data": {
      "text/plain": [
       "0.8125"
      ]
     },
     "execution_count": 114,
     "metadata": {},
     "output_type": "execute_result"
    }
   ],
   "source": [
    "accuracy_score(predict_dtc,y_test)"
   ]
  },
  {
   "cell_type": "code",
   "execution_count": 115,
   "id": "cc7df690",
   "metadata": {},
   "outputs": [
    {
     "data": {
      "text/plain": [
       "array([[36,  3],\n",
       "       [ 6,  3]], dtype=int64)"
      ]
     },
     "execution_count": 115,
     "metadata": {},
     "output_type": "execute_result"
    }
   ],
   "source": [
    "confusion_matrix(predict_dtc,y_test)"
   ]
  },
  {
   "cell_type": "markdown",
   "id": "ab970a6c",
   "metadata": {},
   "source": [
    "# RandomForestClassifier"
   ]
  },
  {
   "cell_type": "code",
   "execution_count": 116,
   "id": "c34787f6",
   "metadata": {},
   "outputs": [],
   "source": [
    "from sklearn.ensemble import RandomForestClassifier"
   ]
  },
  {
   "cell_type": "code",
   "execution_count": 117,
   "id": "22eff562",
   "metadata": {},
   "outputs": [
    {
     "data": {
      "text/plain": [
       "RandomForestClassifier()"
      ]
     },
     "execution_count": 117,
     "metadata": {},
     "output_type": "execute_result"
    }
   ],
   "source": [
    "model_rfc = RandomForestClassifier()\n",
    "model_rfc.fit(x_train,y_train)"
   ]
  },
  {
   "cell_type": "code",
   "execution_count": 118,
   "id": "9eeb927b",
   "metadata": {},
   "outputs": [],
   "source": [
    "pedict_frc = model_rfc.predict(x_test)"
   ]
  },
  {
   "cell_type": "code",
   "execution_count": 119,
   "id": "8bc85dec",
   "metadata": {},
   "outputs": [
    {
     "data": {
      "text/plain": [
       "0.875"
      ]
     },
     "execution_count": 119,
     "metadata": {},
     "output_type": "execute_result"
    }
   ],
   "source": [
    "accuracy_score(pedict_frc,y_test)"
   ]
  },
  {
   "cell_type": "code",
   "execution_count": 120,
   "id": "ce0e700a",
   "metadata": {},
   "outputs": [
    {
     "data": {
      "text/plain": [
       "array([[40,  4],\n",
       "       [ 2,  2]], dtype=int64)"
      ]
     },
     "execution_count": 120,
     "metadata": {},
     "output_type": "execute_result"
    }
   ],
   "source": [
    "confusion_matrix(pedict_frc,y_test)"
   ]
  },
  {
   "cell_type": "markdown",
   "id": "d11fa709",
   "metadata": {},
   "source": [
    "# SVC"
   ]
  },
  {
   "cell_type": "code",
   "execution_count": 121,
   "id": "51dbb0bc",
   "metadata": {},
   "outputs": [],
   "source": [
    "from sklearn.svm import SVC"
   ]
  },
  {
   "cell_type": "code",
   "execution_count": 122,
   "id": "a5e74253",
   "metadata": {},
   "outputs": [
    {
     "data": {
      "text/plain": [
       "SVC()"
      ]
     },
     "execution_count": 122,
     "metadata": {},
     "output_type": "execute_result"
    }
   ],
   "source": [
    "model_svc = SVC(kernel= 'rbf')\n",
    "model_svc.fit(x_train,y_train)"
   ]
  },
  {
   "cell_type": "code",
   "execution_count": 123,
   "id": "1e502273",
   "metadata": {},
   "outputs": [],
   "source": [
    "predict_svc = model_svc.predict(x_test)"
   ]
  },
  {
   "cell_type": "code",
   "execution_count": 124,
   "id": "b075ebcd",
   "metadata": {},
   "outputs": [
    {
     "data": {
      "text/plain": [
       "0.875"
      ]
     },
     "execution_count": 124,
     "metadata": {},
     "output_type": "execute_result"
    }
   ],
   "source": [
    "accuracy_score(predict_svc,y_test)"
   ]
  },
  {
   "cell_type": "markdown",
   "id": "e546801b",
   "metadata": {},
   "source": [
    "# All data which has been collectd and  appllied  in Classifier Model of Machine Learning are below:\n",
    "\n",
    "DecisionTreeClassifier : 0.8125\n",
    "\n",
    "RandomForestRegressor : 0.875\n",
    "\n",
    "SVC  : 0.875\n",
    "\n",
    "# Both SVC and RandomForestRegressor are giving the  best  results from others Regression models"
   ]
  },
  {
   "cell_type": "code",
   "execution_count": null,
   "id": "34e92570",
   "metadata": {},
   "outputs": [],
   "source": []
  },
  {
   "cell_type": "code",
   "execution_count": null,
   "id": "7ee779dc",
   "metadata": {},
   "outputs": [],
   "source": []
  },
  {
   "cell_type": "code",
   "execution_count": null,
   "id": "eebea08f",
   "metadata": {},
   "outputs": [],
   "source": []
  },
  {
   "cell_type": "code",
   "execution_count": null,
   "id": "02ee259d",
   "metadata": {},
   "outputs": [],
   "source": []
  },
  {
   "cell_type": "code",
   "execution_count": null,
   "id": "499157b0",
   "metadata": {},
   "outputs": [],
   "source": []
  },
  {
   "cell_type": "code",
   "execution_count": null,
   "id": "b24f0b2c",
   "metadata": {},
   "outputs": [],
   "source": []
  },
  {
   "cell_type": "code",
   "execution_count": null,
   "id": "9ab97bad",
   "metadata": {},
   "outputs": [],
   "source": []
  },
  {
   "cell_type": "code",
   "execution_count": null,
   "id": "7e5233ee",
   "metadata": {},
   "outputs": [],
   "source": []
  },
  {
   "cell_type": "code",
   "execution_count": null,
   "id": "89900a79",
   "metadata": {},
   "outputs": [],
   "source": []
  },
  {
   "cell_type": "code",
   "execution_count": null,
   "id": "86762f44",
   "metadata": {},
   "outputs": [],
   "source": []
  },
  {
   "cell_type": "code",
   "execution_count": null,
   "id": "e1fa25dd",
   "metadata": {},
   "outputs": [],
   "source": []
  },
  {
   "cell_type": "code",
   "execution_count": null,
   "id": "0c658321",
   "metadata": {},
   "outputs": [],
   "source": []
  },
  {
   "cell_type": "code",
   "execution_count": null,
   "id": "6d14dd84",
   "metadata": {},
   "outputs": [],
   "source": []
  },
  {
   "cell_type": "code",
   "execution_count": null,
   "id": "b817eeb6",
   "metadata": {},
   "outputs": [],
   "source": []
  },
  {
   "cell_type": "code",
   "execution_count": null,
   "id": "5a84ff5e",
   "metadata": {},
   "outputs": [],
   "source": []
  },
  {
   "cell_type": "code",
   "execution_count": null,
   "id": "29b2cc23",
   "metadata": {},
   "outputs": [],
   "source": []
  },
  {
   "cell_type": "code",
   "execution_count": null,
   "id": "7bcb9dbd",
   "metadata": {},
   "outputs": [],
   "source": []
  },
  {
   "cell_type": "code",
   "execution_count": null,
   "id": "5f778ff2",
   "metadata": {},
   "outputs": [],
   "source": []
  },
  {
   "cell_type": "code",
   "execution_count": null,
   "id": "ceb01120",
   "metadata": {},
   "outputs": [],
   "source": []
  },
  {
   "cell_type": "code",
   "execution_count": null,
   "id": "06813e61",
   "metadata": {},
   "outputs": [],
   "source": []
  },
  {
   "cell_type": "code",
   "execution_count": null,
   "id": "c843c050",
   "metadata": {},
   "outputs": [],
   "source": []
  },
  {
   "cell_type": "code",
   "execution_count": null,
   "id": "d4ef0fdf",
   "metadata": {},
   "outputs": [],
   "source": []
  },
  {
   "cell_type": "code",
   "execution_count": null,
   "id": "dfb485ee",
   "metadata": {},
   "outputs": [],
   "source": []
  },
  {
   "cell_type": "code",
   "execution_count": null,
   "id": "f90483cd",
   "metadata": {},
   "outputs": [],
   "source": []
  },
  {
   "cell_type": "code",
   "execution_count": null,
   "id": "70fce31b",
   "metadata": {},
   "outputs": [],
   "source": []
  },
  {
   "cell_type": "code",
   "execution_count": null,
   "id": "c9690859",
   "metadata": {},
   "outputs": [],
   "source": []
  },
  {
   "cell_type": "code",
   "execution_count": null,
   "id": "18b82aa7",
   "metadata": {},
   "outputs": [],
   "source": []
  },
  {
   "cell_type": "code",
   "execution_count": null,
   "id": "60a00dde",
   "metadata": {},
   "outputs": [],
   "source": []
  },
  {
   "cell_type": "code",
   "execution_count": null,
   "id": "a420ffe4",
   "metadata": {},
   "outputs": [],
   "source": []
  },
  {
   "cell_type": "code",
   "execution_count": null,
   "id": "cf4380fe",
   "metadata": {},
   "outputs": [],
   "source": []
  },
  {
   "cell_type": "code",
   "execution_count": null,
   "id": "9bbfd87a",
   "metadata": {},
   "outputs": [],
   "source": []
  },
  {
   "cell_type": "code",
   "execution_count": null,
   "id": "99ee8d66",
   "metadata": {},
   "outputs": [],
   "source": []
  },
  {
   "cell_type": "code",
   "execution_count": null,
   "id": "f4f7d2d3",
   "metadata": {},
   "outputs": [],
   "source": []
  },
  {
   "cell_type": "code",
   "execution_count": null,
   "id": "39a4838b",
   "metadata": {},
   "outputs": [],
   "source": []
  },
  {
   "cell_type": "code",
   "execution_count": null,
   "id": "0231406e",
   "metadata": {},
   "outputs": [],
   "source": []
  },
  {
   "cell_type": "code",
   "execution_count": null,
   "id": "d9844557",
   "metadata": {},
   "outputs": [],
   "source": []
  },
  {
   "cell_type": "code",
   "execution_count": null,
   "id": "17446374",
   "metadata": {},
   "outputs": [],
   "source": []
  },
  {
   "cell_type": "code",
   "execution_count": null,
   "id": "80d986bb",
   "metadata": {},
   "outputs": [],
   "source": []
  },
  {
   "cell_type": "code",
   "execution_count": null,
   "id": "7af9a23b",
   "metadata": {},
   "outputs": [],
   "source": []
  }
 ],
 "metadata": {
  "kernelspec": {
   "display_name": "Python 3 (ipykernel)",
   "language": "python",
   "name": "python3"
  },
  "language_info": {
   "codemirror_mode": {
    "name": "ipython",
    "version": 3
   },
   "file_extension": ".py",
   "mimetype": "text/x-python",
   "name": "python",
   "nbconvert_exporter": "python",
   "pygments_lexer": "ipython3",
   "version": "3.9.12"
  }
 },
 "nbformat": 4,
 "nbformat_minor": 5
}
