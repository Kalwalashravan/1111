{
 "cells": [
  {
   "cell_type": "code",
   "execution_count": 1,
   "id": "2b1578ef",
   "metadata": {},
   "outputs": [],
   "source": [
    "import numpy as np\n",
    "import pandas as pd\n",
    "import matplotlib.pyplot as plt\n",
    "import seaborn as sb"
   ]
  },
  {
   "cell_type": "code",
   "execution_count": 142,
   "id": "990850b1",
   "metadata": {},
   "outputs": [],
   "source": [
    "ford=pd.read_csv(\"C:\\\\Users\\\\kalwa\\\\Downloads\\\\Project\\\\Ford.csv\")"
   ]
  },
  {
   "cell_type": "code",
   "execution_count": 143,
   "id": "911b149e",
   "metadata": {},
   "outputs": [
    {
     "data": {
      "text/html": [
       "<div>\n",
       "<style scoped>\n",
       "    .dataframe tbody tr th:only-of-type {\n",
       "        vertical-align: middle;\n",
       "    }\n",
       "\n",
       "    .dataframe tbody tr th {\n",
       "        vertical-align: top;\n",
       "    }\n",
       "\n",
       "    .dataframe thead th {\n",
       "        text-align: right;\n",
       "    }\n",
       "</style>\n",
       "<table border=\"1\" class=\"dataframe\">\n",
       "  <thead>\n",
       "    <tr style=\"text-align: right;\">\n",
       "      <th></th>\n",
       "      <th>Unnamed: 0</th>\n",
       "      <th>seller</th>\n",
       "      <th>offerType</th>\n",
       "      <th>vehicleType</th>\n",
       "      <th>yearOfRegistration</th>\n",
       "      <th>gearbox</th>\n",
       "      <th>powerPS</th>\n",
       "      <th>model</th>\n",
       "      <th>kilometer</th>\n",
       "      <th>monthOfRegistration</th>\n",
       "      <th>fuelType</th>\n",
       "      <th>brand</th>\n",
       "      <th>notRepairedDamage</th>\n",
       "      <th>price</th>\n",
       "      <th>Years_group</th>\n",
       "    </tr>\n",
       "  </thead>\n",
       "  <tbody>\n",
       "    <tr>\n",
       "      <th>0</th>\n",
       "      <td>636</td>\n",
       "      <td>privat</td>\n",
       "      <td>Angebot</td>\n",
       "      <td>suv</td>\n",
       "      <td>2014</td>\n",
       "      <td>manuell</td>\n",
       "      <td>163</td>\n",
       "      <td>kuga</td>\n",
       "      <td>30000</td>\n",
       "      <td>7</td>\n",
       "      <td>diesel</td>\n",
       "      <td>ford</td>\n",
       "      <td>No</td>\n",
       "      <td>2153850</td>\n",
       "      <td>NaN</td>\n",
       "    </tr>\n",
       "    <tr>\n",
       "      <th>1</th>\n",
       "      <td>1237</td>\n",
       "      <td>privat</td>\n",
       "      <td>Angebot</td>\n",
       "      <td>suv</td>\n",
       "      <td>2012</td>\n",
       "      <td>manuell</td>\n",
       "      <td>140</td>\n",
       "      <td>kuga</td>\n",
       "      <td>90000</td>\n",
       "      <td>11</td>\n",
       "      <td>diesel</td>\n",
       "      <td>ford</td>\n",
       "      <td>No</td>\n",
       "      <td>1236700</td>\n",
       "      <td>NaN</td>\n",
       "    </tr>\n",
       "    <tr>\n",
       "      <th>2</th>\n",
       "      <td>2187</td>\n",
       "      <td>privat</td>\n",
       "      <td>Angebot</td>\n",
       "      <td>suv</td>\n",
       "      <td>1998</td>\n",
       "      <td>automatik</td>\n",
       "      <td>204</td>\n",
       "      <td>andere</td>\n",
       "      <td>150000</td>\n",
       "      <td>3</td>\n",
       "      <td>benzin</td>\n",
       "      <td>ford</td>\n",
       "      <td>Yes</td>\n",
       "      <td>58100</td>\n",
       "      <td>1991-2000</td>\n",
       "    </tr>\n",
       "    <tr>\n",
       "      <th>3</th>\n",
       "      <td>2235</td>\n",
       "      <td>privat</td>\n",
       "      <td>Angebot</td>\n",
       "      <td>suv</td>\n",
       "      <td>2009</td>\n",
       "      <td>manuell</td>\n",
       "      <td>136</td>\n",
       "      <td>kuga</td>\n",
       "      <td>150000</td>\n",
       "      <td>9</td>\n",
       "      <td>diesel</td>\n",
       "      <td>ford</td>\n",
       "      <td>No</td>\n",
       "      <td>912170</td>\n",
       "      <td>2001-2010</td>\n",
       "    </tr>\n",
       "    <tr>\n",
       "      <th>4</th>\n",
       "      <td>2390</td>\n",
       "      <td>privat</td>\n",
       "      <td>Angebot</td>\n",
       "      <td>suv</td>\n",
       "      <td>2014</td>\n",
       "      <td>automatik</td>\n",
       "      <td>163</td>\n",
       "      <td>kuga</td>\n",
       "      <td>90000</td>\n",
       "      <td>6</td>\n",
       "      <td>diesel</td>\n",
       "      <td>ford</td>\n",
       "      <td>No</td>\n",
       "      <td>1659917</td>\n",
       "      <td>NaN</td>\n",
       "    </tr>\n",
       "    <tr>\n",
       "      <th>...</th>\n",
       "      <td>...</td>\n",
       "      <td>...</td>\n",
       "      <td>...</td>\n",
       "      <td>...</td>\n",
       "      <td>...</td>\n",
       "      <td>...</td>\n",
       "      <td>...</td>\n",
       "      <td>...</td>\n",
       "      <td>...</td>\n",
       "      <td>...</td>\n",
       "      <td>...</td>\n",
       "      <td>...</td>\n",
       "      <td>...</td>\n",
       "      <td>...</td>\n",
       "      <td>...</td>\n",
       "    </tr>\n",
       "    <tr>\n",
       "      <th>604</th>\n",
       "      <td>245444</td>\n",
       "      <td>privat</td>\n",
       "      <td>Angebot</td>\n",
       "      <td>suv</td>\n",
       "      <td>1998</td>\n",
       "      <td>automatik</td>\n",
       "      <td>207</td>\n",
       "      <td>andere</td>\n",
       "      <td>150000</td>\n",
       "      <td>9</td>\n",
       "      <td>benzin</td>\n",
       "      <td>ford</td>\n",
       "      <td>No</td>\n",
       "      <td>149317</td>\n",
       "      <td>1991-2000</td>\n",
       "    </tr>\n",
       "    <tr>\n",
       "      <th>605</th>\n",
       "      <td>245732</td>\n",
       "      <td>privat</td>\n",
       "      <td>Angebot</td>\n",
       "      <td>suv</td>\n",
       "      <td>2004</td>\n",
       "      <td>manuell</td>\n",
       "      <td>150</td>\n",
       "      <td>andere</td>\n",
       "      <td>125000</td>\n",
       "      <td>12</td>\n",
       "      <td>benzin</td>\n",
       "      <td>ford</td>\n",
       "      <td>No</td>\n",
       "      <td>369350</td>\n",
       "      <td>2001-2010</td>\n",
       "    </tr>\n",
       "    <tr>\n",
       "      <th>606</th>\n",
       "      <td>246748</td>\n",
       "      <td>privat</td>\n",
       "      <td>Angebot</td>\n",
       "      <td>suv</td>\n",
       "      <td>1998</td>\n",
       "      <td>automatik</td>\n",
       "      <td>147</td>\n",
       "      <td>andere</td>\n",
       "      <td>150000</td>\n",
       "      <td>6</td>\n",
       "      <td>benzin</td>\n",
       "      <td>ford</td>\n",
       "      <td>No</td>\n",
       "      <td>166000</td>\n",
       "      <td>1991-2000</td>\n",
       "    </tr>\n",
       "    <tr>\n",
       "      <th>607</th>\n",
       "      <td>247662</td>\n",
       "      <td>privat</td>\n",
       "      <td>Angebot</td>\n",
       "      <td>suv</td>\n",
       "      <td>2012</td>\n",
       "      <td>manuell</td>\n",
       "      <td>140</td>\n",
       "      <td>kuga</td>\n",
       "      <td>125000</td>\n",
       "      <td>3</td>\n",
       "      <td>diesel</td>\n",
       "      <td>ford</td>\n",
       "      <td>No</td>\n",
       "      <td>1369500</td>\n",
       "      <td>NaN</td>\n",
       "    </tr>\n",
       "    <tr>\n",
       "      <th>608</th>\n",
       "      <td>247781</td>\n",
       "      <td>privat</td>\n",
       "      <td>Angebot</td>\n",
       "      <td>suv</td>\n",
       "      <td>2010</td>\n",
       "      <td>manuell</td>\n",
       "      <td>136</td>\n",
       "      <td>kuga</td>\n",
       "      <td>90000</td>\n",
       "      <td>1</td>\n",
       "      <td>diesel</td>\n",
       "      <td>ford</td>\n",
       "      <td>No</td>\n",
       "      <td>1286500</td>\n",
       "      <td>2001-2010</td>\n",
       "    </tr>\n",
       "  </tbody>\n",
       "</table>\n",
       "<p>609 rows × 15 columns</p>\n",
       "</div>"
      ],
      "text/plain": [
       "     Unnamed: 0  seller offerType vehicleType  yearOfRegistration    gearbox  \\\n",
       "0           636  privat   Angebot         suv                2014    manuell   \n",
       "1          1237  privat   Angebot         suv                2012    manuell   \n",
       "2          2187  privat   Angebot         suv                1998  automatik   \n",
       "3          2235  privat   Angebot         suv                2009    manuell   \n",
       "4          2390  privat   Angebot         suv                2014  automatik   \n",
       "..          ...     ...       ...         ...                 ...        ...   \n",
       "604      245444  privat   Angebot         suv                1998  automatik   \n",
       "605      245732  privat   Angebot         suv                2004    manuell   \n",
       "606      246748  privat   Angebot         suv                1998  automatik   \n",
       "607      247662  privat   Angebot         suv                2012    manuell   \n",
       "608      247781  privat   Angebot         suv                2010    manuell   \n",
       "\n",
       "     powerPS   model  kilometer  monthOfRegistration fuelType brand  \\\n",
       "0        163    kuga      30000                    7   diesel  ford   \n",
       "1        140    kuga      90000                   11   diesel  ford   \n",
       "2        204  andere     150000                    3   benzin  ford   \n",
       "3        136    kuga     150000                    9   diesel  ford   \n",
       "4        163    kuga      90000                    6   diesel  ford   \n",
       "..       ...     ...        ...                  ...      ...   ...   \n",
       "604      207  andere     150000                    9   benzin  ford   \n",
       "605      150  andere     125000                   12   benzin  ford   \n",
       "606      147  andere     150000                    6   benzin  ford   \n",
       "607      140    kuga     125000                    3   diesel  ford   \n",
       "608      136    kuga      90000                    1   diesel  ford   \n",
       "\n",
       "    notRepairedDamage    price Years_group  \n",
       "0                  No  2153850         NaN  \n",
       "1                  No  1236700         NaN  \n",
       "2                 Yes    58100   1991-2000  \n",
       "3                  No   912170   2001-2010  \n",
       "4                  No  1659917         NaN  \n",
       "..                ...      ...         ...  \n",
       "604                No   149317   1991-2000  \n",
       "605                No   369350   2001-2010  \n",
       "606                No   166000   1991-2000  \n",
       "607                No  1369500         NaN  \n",
       "608                No  1286500   2001-2010  \n",
       "\n",
       "[609 rows x 15 columns]"
      ]
     },
     "execution_count": 143,
     "metadata": {},
     "output_type": "execute_result"
    }
   ],
   "source": [
    "ford"
   ]
  },
  {
   "cell_type": "code",
   "execution_count": 4,
   "id": "92898447",
   "metadata": {},
   "outputs": [
    {
     "data": {
      "text/html": [
       "<div>\n",
       "<style scoped>\n",
       "    .dataframe tbody tr th:only-of-type {\n",
       "        vertical-align: middle;\n",
       "    }\n",
       "\n",
       "    .dataframe tbody tr th {\n",
       "        vertical-align: top;\n",
       "    }\n",
       "\n",
       "    .dataframe thead th {\n",
       "        text-align: right;\n",
       "    }\n",
       "</style>\n",
       "<table border=\"1\" class=\"dataframe\">\n",
       "  <thead>\n",
       "    <tr style=\"text-align: right;\">\n",
       "      <th></th>\n",
       "      <th>Unnamed: 0</th>\n",
       "      <th>seller</th>\n",
       "      <th>offerType</th>\n",
       "      <th>vehicleType</th>\n",
       "      <th>yearOfRegistration</th>\n",
       "      <th>gearbox</th>\n",
       "      <th>powerPS</th>\n",
       "      <th>model</th>\n",
       "      <th>kilometer</th>\n",
       "      <th>monthOfRegistration</th>\n",
       "      <th>fuelType</th>\n",
       "      <th>brand</th>\n",
       "      <th>notRepairedDamage</th>\n",
       "      <th>price</th>\n",
       "      <th>Years_group</th>\n",
       "    </tr>\n",
       "  </thead>\n",
       "  <tbody>\n",
       "    <tr>\n",
       "      <th>0</th>\n",
       "      <td>636</td>\n",
       "      <td>privat</td>\n",
       "      <td>Angebot</td>\n",
       "      <td>suv</td>\n",
       "      <td>2014</td>\n",
       "      <td>manuell</td>\n",
       "      <td>163</td>\n",
       "      <td>kuga</td>\n",
       "      <td>30000</td>\n",
       "      <td>7</td>\n",
       "      <td>diesel</td>\n",
       "      <td>ford</td>\n",
       "      <td>No</td>\n",
       "      <td>2153850</td>\n",
       "      <td>NaN</td>\n",
       "    </tr>\n",
       "    <tr>\n",
       "      <th>1</th>\n",
       "      <td>1237</td>\n",
       "      <td>privat</td>\n",
       "      <td>Angebot</td>\n",
       "      <td>suv</td>\n",
       "      <td>2012</td>\n",
       "      <td>manuell</td>\n",
       "      <td>140</td>\n",
       "      <td>kuga</td>\n",
       "      <td>90000</td>\n",
       "      <td>11</td>\n",
       "      <td>diesel</td>\n",
       "      <td>ford</td>\n",
       "      <td>No</td>\n",
       "      <td>1236700</td>\n",
       "      <td>NaN</td>\n",
       "    </tr>\n",
       "    <tr>\n",
       "      <th>2</th>\n",
       "      <td>2187</td>\n",
       "      <td>privat</td>\n",
       "      <td>Angebot</td>\n",
       "      <td>suv</td>\n",
       "      <td>1998</td>\n",
       "      <td>automatik</td>\n",
       "      <td>204</td>\n",
       "      <td>andere</td>\n",
       "      <td>150000</td>\n",
       "      <td>3</td>\n",
       "      <td>benzin</td>\n",
       "      <td>ford</td>\n",
       "      <td>Yes</td>\n",
       "      <td>58100</td>\n",
       "      <td>1991-2000</td>\n",
       "    </tr>\n",
       "    <tr>\n",
       "      <th>3</th>\n",
       "      <td>2235</td>\n",
       "      <td>privat</td>\n",
       "      <td>Angebot</td>\n",
       "      <td>suv</td>\n",
       "      <td>2009</td>\n",
       "      <td>manuell</td>\n",
       "      <td>136</td>\n",
       "      <td>kuga</td>\n",
       "      <td>150000</td>\n",
       "      <td>9</td>\n",
       "      <td>diesel</td>\n",
       "      <td>ford</td>\n",
       "      <td>No</td>\n",
       "      <td>912170</td>\n",
       "      <td>2001-2010</td>\n",
       "    </tr>\n",
       "    <tr>\n",
       "      <th>4</th>\n",
       "      <td>2390</td>\n",
       "      <td>privat</td>\n",
       "      <td>Angebot</td>\n",
       "      <td>suv</td>\n",
       "      <td>2014</td>\n",
       "      <td>automatik</td>\n",
       "      <td>163</td>\n",
       "      <td>kuga</td>\n",
       "      <td>90000</td>\n",
       "      <td>6</td>\n",
       "      <td>diesel</td>\n",
       "      <td>ford</td>\n",
       "      <td>No</td>\n",
       "      <td>1659917</td>\n",
       "      <td>NaN</td>\n",
       "    </tr>\n",
       "  </tbody>\n",
       "</table>\n",
       "</div>"
      ],
      "text/plain": [
       "   Unnamed: 0  seller offerType vehicleType  yearOfRegistration    gearbox  \\\n",
       "0         636  privat   Angebot         suv                2014    manuell   \n",
       "1        1237  privat   Angebot         suv                2012    manuell   \n",
       "2        2187  privat   Angebot         suv                1998  automatik   \n",
       "3        2235  privat   Angebot         suv                2009    manuell   \n",
       "4        2390  privat   Angebot         suv                2014  automatik   \n",
       "\n",
       "   powerPS   model  kilometer  monthOfRegistration fuelType brand  \\\n",
       "0      163    kuga      30000                    7   diesel  ford   \n",
       "1      140    kuga      90000                   11   diesel  ford   \n",
       "2      204  andere     150000                    3   benzin  ford   \n",
       "3      136    kuga     150000                    9   diesel  ford   \n",
       "4      163    kuga      90000                    6   diesel  ford   \n",
       "\n",
       "  notRepairedDamage    price Years_group  \n",
       "0                No  2153850         NaN  \n",
       "1                No  1236700         NaN  \n",
       "2               Yes    58100   1991-2000  \n",
       "3                No   912170   2001-2010  \n",
       "4                No  1659917         NaN  "
      ]
     },
     "execution_count": 4,
     "metadata": {},
     "output_type": "execute_result"
    }
   ],
   "source": [
    "ford.head()"
   ]
  },
  {
   "cell_type": "code",
   "execution_count": 5,
   "id": "25b2370b",
   "metadata": {},
   "outputs": [
    {
     "data": {
      "text/html": [
       "<div>\n",
       "<style scoped>\n",
       "    .dataframe tbody tr th:only-of-type {\n",
       "        vertical-align: middle;\n",
       "    }\n",
       "\n",
       "    .dataframe tbody tr th {\n",
       "        vertical-align: top;\n",
       "    }\n",
       "\n",
       "    .dataframe thead th {\n",
       "        text-align: right;\n",
       "    }\n",
       "</style>\n",
       "<table border=\"1\" class=\"dataframe\">\n",
       "  <thead>\n",
       "    <tr style=\"text-align: right;\">\n",
       "      <th></th>\n",
       "      <th>Unnamed: 0</th>\n",
       "      <th>seller</th>\n",
       "      <th>offerType</th>\n",
       "      <th>vehicleType</th>\n",
       "      <th>yearOfRegistration</th>\n",
       "      <th>gearbox</th>\n",
       "      <th>powerPS</th>\n",
       "      <th>model</th>\n",
       "      <th>kilometer</th>\n",
       "      <th>monthOfRegistration</th>\n",
       "      <th>fuelType</th>\n",
       "      <th>brand</th>\n",
       "      <th>notRepairedDamage</th>\n",
       "      <th>price</th>\n",
       "      <th>Years_group</th>\n",
       "    </tr>\n",
       "  </thead>\n",
       "  <tbody>\n",
       "    <tr>\n",
       "      <th>604</th>\n",
       "      <td>245444</td>\n",
       "      <td>privat</td>\n",
       "      <td>Angebot</td>\n",
       "      <td>suv</td>\n",
       "      <td>1998</td>\n",
       "      <td>automatik</td>\n",
       "      <td>207</td>\n",
       "      <td>andere</td>\n",
       "      <td>150000</td>\n",
       "      <td>9</td>\n",
       "      <td>benzin</td>\n",
       "      <td>ford</td>\n",
       "      <td>No</td>\n",
       "      <td>149317</td>\n",
       "      <td>1991-2000</td>\n",
       "    </tr>\n",
       "    <tr>\n",
       "      <th>605</th>\n",
       "      <td>245732</td>\n",
       "      <td>privat</td>\n",
       "      <td>Angebot</td>\n",
       "      <td>suv</td>\n",
       "      <td>2004</td>\n",
       "      <td>manuell</td>\n",
       "      <td>150</td>\n",
       "      <td>andere</td>\n",
       "      <td>125000</td>\n",
       "      <td>12</td>\n",
       "      <td>benzin</td>\n",
       "      <td>ford</td>\n",
       "      <td>No</td>\n",
       "      <td>369350</td>\n",
       "      <td>2001-2010</td>\n",
       "    </tr>\n",
       "    <tr>\n",
       "      <th>606</th>\n",
       "      <td>246748</td>\n",
       "      <td>privat</td>\n",
       "      <td>Angebot</td>\n",
       "      <td>suv</td>\n",
       "      <td>1998</td>\n",
       "      <td>automatik</td>\n",
       "      <td>147</td>\n",
       "      <td>andere</td>\n",
       "      <td>150000</td>\n",
       "      <td>6</td>\n",
       "      <td>benzin</td>\n",
       "      <td>ford</td>\n",
       "      <td>No</td>\n",
       "      <td>166000</td>\n",
       "      <td>1991-2000</td>\n",
       "    </tr>\n",
       "    <tr>\n",
       "      <th>607</th>\n",
       "      <td>247662</td>\n",
       "      <td>privat</td>\n",
       "      <td>Angebot</td>\n",
       "      <td>suv</td>\n",
       "      <td>2012</td>\n",
       "      <td>manuell</td>\n",
       "      <td>140</td>\n",
       "      <td>kuga</td>\n",
       "      <td>125000</td>\n",
       "      <td>3</td>\n",
       "      <td>diesel</td>\n",
       "      <td>ford</td>\n",
       "      <td>No</td>\n",
       "      <td>1369500</td>\n",
       "      <td>NaN</td>\n",
       "    </tr>\n",
       "    <tr>\n",
       "      <th>608</th>\n",
       "      <td>247781</td>\n",
       "      <td>privat</td>\n",
       "      <td>Angebot</td>\n",
       "      <td>suv</td>\n",
       "      <td>2010</td>\n",
       "      <td>manuell</td>\n",
       "      <td>136</td>\n",
       "      <td>kuga</td>\n",
       "      <td>90000</td>\n",
       "      <td>1</td>\n",
       "      <td>diesel</td>\n",
       "      <td>ford</td>\n",
       "      <td>No</td>\n",
       "      <td>1286500</td>\n",
       "      <td>2001-2010</td>\n",
       "    </tr>\n",
       "  </tbody>\n",
       "</table>\n",
       "</div>"
      ],
      "text/plain": [
       "     Unnamed: 0  seller offerType vehicleType  yearOfRegistration    gearbox  \\\n",
       "604      245444  privat   Angebot         suv                1998  automatik   \n",
       "605      245732  privat   Angebot         suv                2004    manuell   \n",
       "606      246748  privat   Angebot         suv                1998  automatik   \n",
       "607      247662  privat   Angebot         suv                2012    manuell   \n",
       "608      247781  privat   Angebot         suv                2010    manuell   \n",
       "\n",
       "     powerPS   model  kilometer  monthOfRegistration fuelType brand  \\\n",
       "604      207  andere     150000                    9   benzin  ford   \n",
       "605      150  andere     125000                   12   benzin  ford   \n",
       "606      147  andere     150000                    6   benzin  ford   \n",
       "607      140    kuga     125000                    3   diesel  ford   \n",
       "608      136    kuga      90000                    1   diesel  ford   \n",
       "\n",
       "    notRepairedDamage    price Years_group  \n",
       "604                No   149317   1991-2000  \n",
       "605                No   369350   2001-2010  \n",
       "606                No   166000   1991-2000  \n",
       "607                No  1369500         NaN  \n",
       "608                No  1286500   2001-2010  "
      ]
     },
     "execution_count": 5,
     "metadata": {},
     "output_type": "execute_result"
    }
   ],
   "source": [
    "ford.tail()"
   ]
  },
  {
   "cell_type": "code",
   "execution_count": 8,
   "id": "b6b86ea1",
   "metadata": {},
   "outputs": [
    {
     "data": {
      "text/html": [
       "<div>\n",
       "<style scoped>\n",
       "    .dataframe tbody tr th:only-of-type {\n",
       "        vertical-align: middle;\n",
       "    }\n",
       "\n",
       "    .dataframe tbody tr th {\n",
       "        vertical-align: top;\n",
       "    }\n",
       "\n",
       "    .dataframe thead th {\n",
       "        text-align: right;\n",
       "    }\n",
       "</style>\n",
       "<table border=\"1\" class=\"dataframe\">\n",
       "  <thead>\n",
       "    <tr style=\"text-align: right;\">\n",
       "      <th></th>\n",
       "      <th>Unnamed: 0</th>\n",
       "      <th>seller</th>\n",
       "      <th>offerType</th>\n",
       "      <th>vehicleType</th>\n",
       "      <th>yearOfRegistration</th>\n",
       "      <th>gearbox</th>\n",
       "      <th>powerPS</th>\n",
       "      <th>model</th>\n",
       "      <th>kilometer</th>\n",
       "      <th>monthOfRegistration</th>\n",
       "      <th>fuelType</th>\n",
       "      <th>brand</th>\n",
       "      <th>notRepairedDamage</th>\n",
       "      <th>price</th>\n",
       "      <th>Years_group</th>\n",
       "    </tr>\n",
       "  </thead>\n",
       "  <tbody>\n",
       "    <tr>\n",
       "      <th>46</th>\n",
       "      <td>15835</td>\n",
       "      <td>privat</td>\n",
       "      <td>Angebot</td>\n",
       "      <td>suv</td>\n",
       "      <td>2008</td>\n",
       "      <td>manuell</td>\n",
       "      <td>136</td>\n",
       "      <td>kuga</td>\n",
       "      <td>60000</td>\n",
       "      <td>11</td>\n",
       "      <td>diesel</td>\n",
       "      <td>ford</td>\n",
       "      <td>No</td>\n",
       "      <td>539500</td>\n",
       "      <td>2001-2010</td>\n",
       "    </tr>\n",
       "  </tbody>\n",
       "</table>\n",
       "</div>"
      ],
      "text/plain": [
       "    Unnamed: 0  seller offerType vehicleType  yearOfRegistration  gearbox  \\\n",
       "46       15835  privat   Angebot         suv                2008  manuell   \n",
       "\n",
       "    powerPS model  kilometer  monthOfRegistration fuelType brand  \\\n",
       "46      136  kuga      60000                   11   diesel  ford   \n",
       "\n",
       "   notRepairedDamage   price Years_group  \n",
       "46                No  539500   2001-2010  "
      ]
     },
     "execution_count": 8,
     "metadata": {},
     "output_type": "execute_result"
    }
   ],
   "source": [
    "ford.sample()"
   ]
  },
  {
   "cell_type": "code",
   "execution_count": 9,
   "id": "e00793e9",
   "metadata": {},
   "outputs": [
    {
     "data": {
      "text/plain": [
       "2"
      ]
     },
     "execution_count": 9,
     "metadata": {},
     "output_type": "execute_result"
    }
   ],
   "source": [
    "ford.ndim"
   ]
  },
  {
   "cell_type": "code",
   "execution_count": 11,
   "id": "09717492",
   "metadata": {},
   "outputs": [
    {
     "name": "stdout",
     "output_type": "stream",
     "text": [
      "<class 'pandas.core.frame.DataFrame'>\n",
      "RangeIndex: 609 entries, 0 to 608\n",
      "Data columns (total 15 columns):\n",
      " #   Column               Non-Null Count  Dtype \n",
      "---  ------               --------------  ----- \n",
      " 0   Unnamed: 0           609 non-null    int64 \n",
      " 1   seller               609 non-null    object\n",
      " 2   offerType            609 non-null    object\n",
      " 3   vehicleType          609 non-null    object\n",
      " 4   yearOfRegistration   609 non-null    int64 \n",
      " 5   gearbox              609 non-null    object\n",
      " 6   powerPS              609 non-null    int64 \n",
      " 7   model                609 non-null    object\n",
      " 8   kilometer            609 non-null    int64 \n",
      " 9   monthOfRegistration  609 non-null    int64 \n",
      " 10  fuelType             609 non-null    object\n",
      " 11  brand                609 non-null    object\n",
      " 12  notRepairedDamage    609 non-null    object\n",
      " 13  price                609 non-null    int64 \n",
      " 14  Years_group          395 non-null    object\n",
      "dtypes: int64(6), object(9)\n",
      "memory usage: 71.5+ KB\n"
     ]
    }
   ],
   "source": [
    "ford.info()"
   ]
  },
  {
   "cell_type": "code",
   "execution_count": 12,
   "id": "8a2c82a1",
   "metadata": {},
   "outputs": [
    {
     "data": {
      "text/plain": [
       "Unnamed: 0             609\n",
       "seller                   1\n",
       "offerType                1\n",
       "vehicleType              1\n",
       "yearOfRegistration      40\n",
       "gearbox                  2\n",
       "powerPS                 84\n",
       "model                    6\n",
       "kilometer               13\n",
       "monthOfRegistration     13\n",
       "fuelType                 3\n",
       "brand                    1\n",
       "notRepairedDamage        2\n",
       "price                  316\n",
       "Years_group              4\n",
       "dtype: int64"
      ]
     },
     "execution_count": 12,
     "metadata": {},
     "output_type": "execute_result"
    }
   ],
   "source": [
    "ford.nunique()"
   ]
  },
  {
   "cell_type": "code",
   "execution_count": 13,
   "id": "8a8d73f3",
   "metadata": {},
   "outputs": [
    {
     "data": {
      "text/plain": [
       "Unnamed: 0               0\n",
       "seller                   0\n",
       "offerType                0\n",
       "vehicleType              0\n",
       "yearOfRegistration       0\n",
       "gearbox                  0\n",
       "powerPS                  0\n",
       "model                    0\n",
       "kilometer                0\n",
       "monthOfRegistration      0\n",
       "fuelType                 0\n",
       "brand                    0\n",
       "notRepairedDamage        0\n",
       "price                    0\n",
       "Years_group            214\n",
       "dtype: int64"
      ]
     },
     "execution_count": 13,
     "metadata": {},
     "output_type": "execute_result"
    }
   ],
   "source": [
    "ford.isnull().sum()"
   ]
  },
  {
   "cell_type": "code",
   "execution_count": 14,
   "id": "d9784a70",
   "metadata": {},
   "outputs": [
    {
     "data": {
      "text/html": [
       "<div>\n",
       "<style scoped>\n",
       "    .dataframe tbody tr th:only-of-type {\n",
       "        vertical-align: middle;\n",
       "    }\n",
       "\n",
       "    .dataframe tbody tr th {\n",
       "        vertical-align: top;\n",
       "    }\n",
       "\n",
       "    .dataframe thead th {\n",
       "        text-align: right;\n",
       "    }\n",
       "</style>\n",
       "<table border=\"1\" class=\"dataframe\">\n",
       "  <thead>\n",
       "    <tr style=\"text-align: right;\">\n",
       "      <th></th>\n",
       "      <th>Unnamed: 0</th>\n",
       "      <th>yearOfRegistration</th>\n",
       "      <th>powerPS</th>\n",
       "      <th>kilometer</th>\n",
       "      <th>monthOfRegistration</th>\n",
       "      <th>price</th>\n",
       "    </tr>\n",
       "  </thead>\n",
       "  <tbody>\n",
       "    <tr>\n",
       "      <th>count</th>\n",
       "      <td>609.000000</td>\n",
       "      <td>609.000000</td>\n",
       "      <td>609.000000</td>\n",
       "      <td>609.000000</td>\n",
       "      <td>609.000000</td>\n",
       "      <td>6.090000e+02</td>\n",
       "    </tr>\n",
       "    <tr>\n",
       "      <th>mean</th>\n",
       "      <td>119883.436782</td>\n",
       "      <td>2005.837438</td>\n",
       "      <td>161.336617</td>\n",
       "      <td>98374.384236</td>\n",
       "      <td>6.451560</td>\n",
       "      <td>1.009851e+06</td>\n",
       "    </tr>\n",
       "    <tr>\n",
       "      <th>std</th>\n",
       "      <td>71939.903788</td>\n",
       "      <td>8.604706</td>\n",
       "      <td>50.954411</td>\n",
       "      <td>47580.275664</td>\n",
       "      <td>3.500663</td>\n",
       "      <td>6.701365e+05</td>\n",
       "    </tr>\n",
       "    <tr>\n",
       "      <th>min</th>\n",
       "      <td>636.000000</td>\n",
       "      <td>1951.000000</td>\n",
       "      <td>0.000000</td>\n",
       "      <td>5000.000000</td>\n",
       "      <td>0.000000</td>\n",
       "      <td>0.000000e+00</td>\n",
       "    </tr>\n",
       "    <tr>\n",
       "      <th>25%</th>\n",
       "      <td>55175.000000</td>\n",
       "      <td>2001.000000</td>\n",
       "      <td>136.000000</td>\n",
       "      <td>60000.000000</td>\n",
       "      <td>3.000000</td>\n",
       "      <td>4.067000e+05</td>\n",
       "    </tr>\n",
       "    <tr>\n",
       "      <th>50%</th>\n",
       "      <td>123146.000000</td>\n",
       "      <td>2009.000000</td>\n",
       "      <td>150.000000</td>\n",
       "      <td>100000.000000</td>\n",
       "      <td>6.000000</td>\n",
       "      <td>1.037500e+06</td>\n",
       "    </tr>\n",
       "    <tr>\n",
       "      <th>75%</th>\n",
       "      <td>182306.000000</td>\n",
       "      <td>2012.000000</td>\n",
       "      <td>177.000000</td>\n",
       "      <td>150000.000000</td>\n",
       "      <td>10.000000</td>\n",
       "      <td>1.410917e+06</td>\n",
       "    </tr>\n",
       "    <tr>\n",
       "      <th>max</th>\n",
       "      <td>247781.000000</td>\n",
       "      <td>2016.000000</td>\n",
       "      <td>518.000000</td>\n",
       "      <td>150000.000000</td>\n",
       "      <td>12.000000</td>\n",
       "      <td>4.897000e+06</td>\n",
       "    </tr>\n",
       "  </tbody>\n",
       "</table>\n",
       "</div>"
      ],
      "text/plain": [
       "          Unnamed: 0  yearOfRegistration     powerPS      kilometer  \\\n",
       "count     609.000000          609.000000  609.000000     609.000000   \n",
       "mean   119883.436782         2005.837438  161.336617   98374.384236   \n",
       "std     71939.903788            8.604706   50.954411   47580.275664   \n",
       "min       636.000000         1951.000000    0.000000    5000.000000   \n",
       "25%     55175.000000         2001.000000  136.000000   60000.000000   \n",
       "50%    123146.000000         2009.000000  150.000000  100000.000000   \n",
       "75%    182306.000000         2012.000000  177.000000  150000.000000   \n",
       "max    247781.000000         2016.000000  518.000000  150000.000000   \n",
       "\n",
       "       monthOfRegistration         price  \n",
       "count           609.000000  6.090000e+02  \n",
       "mean              6.451560  1.009851e+06  \n",
       "std               3.500663  6.701365e+05  \n",
       "min               0.000000  0.000000e+00  \n",
       "25%               3.000000  4.067000e+05  \n",
       "50%               6.000000  1.037500e+06  \n",
       "75%              10.000000  1.410917e+06  \n",
       "max              12.000000  4.897000e+06  "
      ]
     },
     "execution_count": 14,
     "metadata": {},
     "output_type": "execute_result"
    }
   ],
   "source": [
    "ford.describe()"
   ]
  },
  {
   "cell_type": "code",
   "execution_count": 15,
   "id": "dd751d01",
   "metadata": {},
   "outputs": [
    {
     "data": {
      "text/html": [
       "<div>\n",
       "<style scoped>\n",
       "    .dataframe tbody tr th:only-of-type {\n",
       "        vertical-align: middle;\n",
       "    }\n",
       "\n",
       "    .dataframe tbody tr th {\n",
       "        vertical-align: top;\n",
       "    }\n",
       "\n",
       "    .dataframe thead th {\n",
       "        text-align: right;\n",
       "    }\n",
       "</style>\n",
       "<table border=\"1\" class=\"dataframe\">\n",
       "  <thead>\n",
       "    <tr style=\"text-align: right;\">\n",
       "      <th></th>\n",
       "      <th>Unnamed: 0</th>\n",
       "      <th>seller</th>\n",
       "      <th>offerType</th>\n",
       "      <th>vehicleType</th>\n",
       "      <th>yearOfRegistration</th>\n",
       "      <th>gearbox</th>\n",
       "      <th>powerPS</th>\n",
       "      <th>model</th>\n",
       "      <th>kilometer</th>\n",
       "      <th>monthOfRegistration</th>\n",
       "      <th>fuelType</th>\n",
       "      <th>brand</th>\n",
       "      <th>notRepairedDamage</th>\n",
       "      <th>price</th>\n",
       "      <th>Years_group</th>\n",
       "    </tr>\n",
       "  </thead>\n",
       "  <tbody>\n",
       "    <tr>\n",
       "      <th>101</th>\n",
       "      <td>37458</td>\n",
       "      <td>privat</td>\n",
       "      <td>Angebot</td>\n",
       "      <td>suv</td>\n",
       "      <td>2001</td>\n",
       "      <td>automatik</td>\n",
       "      <td>205</td>\n",
       "      <td>andere</td>\n",
       "      <td>150000</td>\n",
       "      <td>1</td>\n",
       "      <td>lpg</td>\n",
       "      <td>ford</td>\n",
       "      <td>Yes</td>\n",
       "      <td>83000</td>\n",
       "      <td>2001-2010</td>\n",
       "    </tr>\n",
       "  </tbody>\n",
       "</table>\n",
       "</div>"
      ],
      "text/plain": [
       "     Unnamed: 0  seller offerType vehicleType  yearOfRegistration    gearbox  \\\n",
       "101       37458  privat   Angebot         suv                2001  automatik   \n",
       "\n",
       "     powerPS   model  kilometer  monthOfRegistration fuelType brand  \\\n",
       "101      205  andere     150000                    1      lpg  ford   \n",
       "\n",
       "    notRepairedDamage  price Years_group  \n",
       "101               Yes  83000   2001-2010  "
      ]
     },
     "execution_count": 15,
     "metadata": {},
     "output_type": "execute_result"
    }
   ],
   "source": [
    "ford.sample()"
   ]
  },
  {
   "cell_type": "code",
   "execution_count": 16,
   "id": "549ab836",
   "metadata": {},
   "outputs": [
    {
     "data": {
      "text/plain": [
       "2012    68\n",
       "2010    59\n",
       "2009    53\n",
       "2008    50\n",
       "2011    46\n",
       "2015    33\n",
       "2014    32\n",
       "2013    29\n",
       "1998    28\n",
       "1996    23\n",
       "2001    21\n",
       "1997    20\n",
       "2006    18\n",
       "1995    15\n",
       "2002    15\n",
       "2004    13\n",
       "2000    10\n",
       "2003    10\n",
       "2005     9\n",
       "2007     9\n",
       "1999     8\n",
       "1994     7\n",
       "1993     6\n",
       "1989     3\n",
       "1978     3\n",
       "1977     2\n",
       "1991     2\n",
       "1990     2\n",
       "1992     2\n",
       "1972     2\n",
       "1987     2\n",
       "1955     1\n",
       "2016     1\n",
       "1980     1\n",
       "1963     1\n",
       "1986     1\n",
       "1965     1\n",
       "1966     1\n",
       "1951     1\n",
       "1971     1\n",
       "Name: yearOfRegistration, dtype: int64"
      ]
     },
     "execution_count": 16,
     "metadata": {},
     "output_type": "execute_result"
    }
   ],
   "source": [
    "ford['yearOfRegistration'].value_counts()"
   ]
  },
  {
   "cell_type": "code",
   "execution_count": 17,
   "id": "7ae2c6c1",
   "metadata": {},
   "outputs": [
    {
     "data": {
      "text/plain": [
       "manuell      380\n",
       "automatik    229\n",
       "Name: gearbox, dtype: int64"
      ]
     },
     "execution_count": 17,
     "metadata": {},
     "output_type": "execute_result"
    }
   ],
   "source": [
    "ford['gearbox'].value_counts()"
   ]
  },
  {
   "cell_type": "code",
   "execution_count": 18,
   "id": "c62343ea",
   "metadata": {},
   "outputs": [
    {
     "data": {
      "text/plain": [
       "136    107\n",
       "140     92\n",
       "163     63\n",
       "150     63\n",
       "200     29\n",
       "      ... \n",
       "286      1\n",
       "243      1\n",
       "77       1\n",
       "379      1\n",
       "147      1\n",
       "Name: powerPS, Length: 84, dtype: int64"
      ]
     },
     "execution_count": 18,
     "metadata": {},
     "output_type": "execute_result"
    }
   ],
   "source": [
    "ford['powerPS'].value_counts()"
   ]
  },
  {
   "cell_type": "code",
   "execution_count": 19,
   "id": "b3f00d26",
   "metadata": {},
   "outputs": [
    {
     "data": {
      "text/plain": [
       "kuga       333\n",
       "andere     268\n",
       "s_max        3\n",
       "c_max        3\n",
       "transit      1\n",
       "galaxy       1\n",
       "Name: model, dtype: int64"
      ]
     },
     "execution_count": 19,
     "metadata": {},
     "output_type": "execute_result"
    }
   ],
   "source": [
    "ford['model'].value_counts()"
   ]
  },
  {
   "cell_type": "code",
   "execution_count": 20,
   "id": "d58a28f9",
   "metadata": {},
   "outputs": [
    {
     "data": {
      "text/plain": [
       "150000    223\n",
       "60000      64\n",
       "125000     50\n",
       "90000      43\n",
       "80000      42\n",
       "70000      35\n",
       "100000     33\n",
       "20000      29\n",
       "30000      24\n",
       "50000      24\n",
       "40000      17\n",
       "10000      17\n",
       "5000        8\n",
       "Name: kilometer, dtype: int64"
      ]
     },
     "execution_count": 20,
     "metadata": {},
     "output_type": "execute_result"
    }
   ],
   "source": [
    "ford['kilometer'].value_counts()"
   ]
  },
  {
   "cell_type": "code",
   "execution_count": 21,
   "id": "400f4b07",
   "metadata": {},
   "outputs": [
    {
     "data": {
      "text/plain": [
       "11    79\n",
       "7     68\n",
       "6     63\n",
       "3     59\n",
       "10    49\n",
       "2     49\n",
       "5     47\n",
       "1     44\n",
       "9     42\n",
       "4     38\n",
       "12    36\n",
       "8     25\n",
       "0     10\n",
       "Name: monthOfRegistration, dtype: int64"
      ]
     },
     "execution_count": 21,
     "metadata": {},
     "output_type": "execute_result"
    }
   ],
   "source": [
    "ford['monthOfRegistration'].value_counts()"
   ]
  },
  {
   "cell_type": "code",
   "execution_count": 22,
   "id": "0b447ff0",
   "metadata": {},
   "outputs": [
    {
     "data": {
      "text/plain": [
       "diesel    341\n",
       "benzin    229\n",
       "lpg        39\n",
       "Name: fuelType, dtype: int64"
      ]
     },
     "execution_count": 22,
     "metadata": {},
     "output_type": "execute_result"
    }
   ],
   "source": [
    "ford['fuelType'].value_counts()"
   ]
  },
  {
   "cell_type": "code",
   "execution_count": 23,
   "id": "f8a17c46",
   "metadata": {},
   "outputs": [
    {
     "data": {
      "text/plain": [
       "No     551\n",
       "Yes     58\n",
       "Name: notRepairedDamage, dtype: int64"
      ]
     },
     "execution_count": 23,
     "metadata": {},
     "output_type": "execute_result"
    }
   ],
   "source": [
    "ford['notRepairedDamage'].value_counts()"
   ]
  },
  {
   "cell_type": "code",
   "execution_count": 24,
   "id": "85b56f45",
   "metadata": {},
   "outputs": [
    {
     "name": "stderr",
     "output_type": "stream",
     "text": [
      "C:\\Users\\kalwa\\Anaconda3\\lib\\site-packages\\seaborn\\distributions.py:2619: FutureWarning: `distplot` is a deprecated function and will be removed in a future version. Please adapt your code to use either `displot` (a figure-level function with similar flexibility) or `histplot` (an axes-level function for histograms).\n",
      "  warnings.warn(msg, FutureWarning)\n"
     ]
    },
    {
     "data": {
      "text/plain": [
       "<AxesSubplot:xlabel='yearOfRegistration', ylabel='Density'>"
      ]
     },
     "execution_count": 24,
     "metadata": {},
     "output_type": "execute_result"
    },
    {
     "data": {
      "image/png": "[encoded data removed]",
      "text/plain": [
       "<Figure size 1440x720 with 1 Axes>"
      ]
     },
     "metadata": {
      "needs_background": "light"
     },
     "output_type": "display_data"
    }
   ],
   "source": [
    "plt.figure(figsize=(20,10))\n",
    "\n",
    "sb.distplot(ford['yearOfRegistration'],bins=5)\n"
   ]
  },
  {
   "cell_type": "code",
   "execution_count": 25,
   "id": "82de604c",
   "metadata": {},
   "outputs": [],
   "source": [
    "# Most of the Registration has been in the between 1990-2018"
   ]
  },
  {
   "cell_type": "code",
   "execution_count": 26,
   "id": "35b3195a",
   "metadata": {},
   "outputs": [
    {
     "name": "stderr",
     "output_type": "stream",
     "text": [
      "C:\\Users\\kalwa\\Anaconda3\\lib\\site-packages\\seaborn\\distributions.py:2619: FutureWarning: `distplot` is a deprecated function and will be removed in a future version. Please adapt your code to use either `displot` (a figure-level function with similar flexibility) or `histplot` (an axes-level function for histograms).\n",
      "  warnings.warn(msg, FutureWarning)\n"
     ]
    },
    {
     "data": {
      "text/plain": [
       "<AxesSubplot:xlabel='kilometer', ylabel='Density'>"
      ]
     },
     "execution_count": 26,
     "metadata": {},
     "output_type": "execute_result"
    },
    {
     "data": {
      "image/png": "[encoded data removed]",
      "text/plain": [
       "<Figure size 1440x720 with 1 Axes>"
      ]
     },
     "metadata": {
      "needs_background": "light"
     },
     "output_type": "display_data"
    }
   ],
   "source": [
    "plt.figure(figsize=(20,10))\n",
    "\n",
    "sb.distplot(ford['kilometer'],bins=5)\n"
   ]
  },
  {
   "cell_type": "code",
   "execution_count": 27,
   "id": "802057c4",
   "metadata": {},
   "outputs": [],
   "source": [
    "# Most of the cars has been between 50000-150000 km "
   ]
  },
  {
   "cell_type": "code",
   "execution_count": 29,
   "id": "3162ee23",
   "metadata": {},
   "outputs": [
    {
     "name": "stderr",
     "output_type": "stream",
     "text": [
      "C:\\Users\\kalwa\\Anaconda3\\lib\\site-packages\\seaborn\\distributions.py:2619: FutureWarning: `distplot` is a deprecated function and will be removed in a future version. Please adapt your code to use either `displot` (a figure-level function with similar flexibility) or `histplot` (an axes-level function for histograms).\n",
      "  warnings.warn(msg, FutureWarning)\n"
     ]
    },
    {
     "data": {
      "text/plain": [
       "<AxesSubplot:xlabel='powerPS', ylabel='Density'>"
      ]
     },
     "execution_count": 29,
     "metadata": {},
     "output_type": "execute_result"
    },
    {
     "data": {
      "image/png": "[encoded data removed]",
      "text/plain": [
       "<Figure size 1440x720 with 1 Axes>"
      ]
     },
     "metadata": {
      "needs_background": "light"
     },
     "output_type": "display_data"
    }
   ],
   "source": [
    "plt.figure(figsize=(20,10))\n",
    "sb.distplot(ford['powerPS'],bins=10)"
   ]
  },
  {
   "cell_type": "code",
   "execution_count": 30,
   "id": "b11d66d3",
   "metadata": {},
   "outputs": [],
   "source": [
    "# Most Ford car with power between 100-200 power Ps has been used "
   ]
  },
  {
   "cell_type": "code",
   "execution_count": 33,
   "id": "f6bbd3cb",
   "metadata": {},
   "outputs": [
    {
     "data": {
      "text/plain": [
       "<AxesSubplot:xlabel='Years_group', ylabel='count'>"
      ]
     },
     "execution_count": 33,
     "metadata": {},
     "output_type": "execute_result"
    },
    {
     "data": {
      "image/png": "[encoded data removed]",
      "text/plain": [
       "<Figure size 1440x720 with 1 Axes>"
      ]
     },
     "metadata": {
      "needs_background": "light"
     },
     "output_type": "display_data"
    }
   ],
   "source": [
    "plt.figure(figsize=(20,10))\n",
    "sb.countplot(x='Years_group',hue='gearbox',data=ford)"
   ]
  },
  {
   "cell_type": "code",
   "execution_count": 34,
   "id": "31274b6e",
   "metadata": {},
   "outputs": [
    {
     "data": {
      "text/plain": [
       "(array([266.,  46.,   1.,   1.,   0.,   0.,   0.]),\n",
       " array([1000000, 2000000, 3000000, 4000000, 5000000, 6000000, 7000000,\n",
       "        8000000]),\n",
       " <BarContainer object of 7 artists>)"
      ]
     },
     "execution_count": 34,
     "metadata": {},
     "output_type": "execute_result"
    },
    {
     "data": {
      "image/png": "[encoded data removed]",
      "text/plain": [
       "<Figure size 1440x720 with 1 Axes>"
      ]
     },
     "metadata": {
      "needs_background": "light"
     },
     "output_type": "display_data"
    }
   ],
   "source": [
    "plt.figure(figsize=(20,10))\n",
    "plt.title('yearOfRegistration')\n",
    "plt.xlabel('Price')\n",
    "\n",
    "plt.hist(ford['price'],bins=np.arange(1000000,9000000,1000000))"
   ]
  },
  {
   "cell_type": "code",
   "execution_count": 36,
   "id": "9d7cc746",
   "metadata": {},
   "outputs": [
    {
     "data": {
      "text/plain": [
       "<AxesSubplot:xlabel='model', ylabel='price'>"
      ]
     },
     "execution_count": 36,
     "metadata": {},
     "output_type": "execute_result"
    },
    {
     "data": {
      "image/png": "[encoded data removed]",
      "text/plain": [
       "<Figure size 1440x720 with 1 Axes>"
      ]
     },
     "metadata": {
      "needs_background": "light"
     },
     "output_type": "display_data"
    }
   ],
   "source": [
    "plt.figure(figsize=(20,10))\n",
    "\n",
    "sb.barplot(x='model',y='price',data=ford,hue='gearbox')"
   ]
  },
  {
   "cell_type": "code",
   "execution_count": 37,
   "id": "b81aa48d",
   "metadata": {},
   "outputs": [
    {
     "data": {
      "text/plain": [
       "<AxesSubplot:xlabel='count', ylabel='model'>"
      ]
     },
     "execution_count": 37,
     "metadata": {},
     "output_type": "execute_result"
    },
    {
     "data": {
      "image/png": "[encoded data removed]",
      "text/plain": [
       "<Figure size 1440x720 with 1 Axes>"
      ]
     },
     "metadata": {
      "needs_background": "light"
     },
     "output_type": "display_data"
    }
   ],
   "source": [
    "plt.figure(figsize=(20,10))\n",
    "\n",
    "sb.countplot(y='model',data=ford)"
   ]
  },
  {
   "cell_type": "code",
   "execution_count": 39,
   "id": "c690f138",
   "metadata": {},
   "outputs": [
    {
     "data": {
      "text/plain": [
       "kuga       333\n",
       "andere     268\n",
       "s_max        3\n",
       "c_max        3\n",
       "transit      1\n",
       "galaxy       1\n",
       "Name: model, dtype: int64"
      ]
     },
     "execution_count": 39,
     "metadata": {},
     "output_type": "execute_result"
    }
   ],
   "source": [
    "ford['model'].value_counts()"
   ]
  },
  {
   "cell_type": "code",
   "execution_count": 42,
   "id": "e6bc6ab1",
   "metadata": {},
   "outputs": [
    {
     "data": {
      "text/plain": [
       "kuga       54.679803\n",
       "andere     44.006568\n",
       "s_max       0.492611\n",
       "c_max       0.492611\n",
       "transit     0.164204\n",
       "galaxy      0.164204\n",
       "Name: model, dtype: float64"
      ]
     },
     "execution_count": 42,
     "metadata": {},
     "output_type": "execute_result"
    }
   ],
   "source": [
    "ford['model'].value_counts()*100/ford['model'].value_counts().sum()"
   ]
  },
  {
   "cell_type": "code",
   "execution_count": 44,
   "id": "f9384ec1",
   "metadata": {},
   "outputs": [
    {
     "data": {
      "text/plain": [
       "<AxesSubplot:xlabel='count', ylabel='fuelType'>"
      ]
     },
     "execution_count": 44,
     "metadata": {},
     "output_type": "execute_result"
    },
    {
     "data": {
      "image/png": "[encoded data removed]",
      "text/plain": [
       "<Figure size 1440x720 with 1 Axes>"
      ]
     },
     "metadata": {
      "needs_background": "light"
     },
     "output_type": "display_data"
    }
   ],
   "source": [
    "plt.figure(figsize=(20,10))\n",
    "\n",
    "sb.countplot(y='fuelType',data=ford)"
   ]
  },
  {
   "cell_type": "code",
   "execution_count": 46,
   "id": "6d365eae",
   "metadata": {},
   "outputs": [
    {
     "data": {
      "text/plain": [
       "diesel    55.993432\n",
       "benzin    37.602627\n",
       "lpg        6.403941\n",
       "Name: fuelType, dtype: float64"
      ]
     },
     "execution_count": 46,
     "metadata": {},
     "output_type": "execute_result"
    }
   ],
   "source": [
    "ford['fuelType'].value_counts()*100/ford['fuelType'].value_counts().sum()"
   ]
  },
  {
   "cell_type": "code",
   "execution_count": 47,
   "id": "d28ed6e7",
   "metadata": {},
   "outputs": [
    {
     "data": {
      "text/plain": [
       "<AxesSubplot:xlabel='Years_group', ylabel='count'>"
      ]
     },
     "execution_count": 47,
     "metadata": {},
     "output_type": "execute_result"
    },
    {
     "data": {
      "image/png": "[encoded data removed]",
      "text/plain": [
       "<Figure size 1440x720 with 1 Axes>"
      ]
     },
     "metadata": {
      "needs_background": "light"
     },
     "output_type": "display_data"
    }
   ],
   "source": [
    "plt.figure(figsize=(20,10))\n",
    "sb.countplot(x='Years_group',data=ford,hue='gearbox')"
   ]
  },
  {
   "cell_type": "code",
   "execution_count": 48,
   "id": "b31bc070",
   "metadata": {},
   "outputs": [],
   "source": [
    "#  Most ford cars using is automatic gears is in between 1991-2000 \n",
    "#  Most ford cars using  is automatic gears is in betwwen 2001-2010 \n",
    "# Most of the cars in ford prefer  automatic gears\n"
   ]
  },
  {
   "cell_type": "code",
   "execution_count": 49,
   "id": "5e090dc4",
   "metadata": {},
   "outputs": [
    {
     "data": {
      "text/plain": [
       "<AxesSubplot:xlabel='kilometer', ylabel='count'>"
      ]
     },
     "execution_count": 49,
     "metadata": {},
     "output_type": "execute_result"
    },
    {
     "data": {
      "image/png": "[encoded data removed]",
      "text/plain": [
       "<Figure size 1440x720 with 1 Axes>"
      ]
     },
     "metadata": {
      "needs_background": "light"
     },
     "output_type": "display_data"
    }
   ],
   "source": [
    "plt.figure(figsize=(20,10))\n",
    "sb.countplot(x='kilometer',data=ford,hue='model')"
   ]
  },
  {
   "cell_type": "code",
   "execution_count": 50,
   "id": "a73d43b2",
   "metadata": {},
   "outputs": [],
   "source": [
    "# In this case above 150000 km reached with mode Andere are more in this data "
   ]
  },
  {
   "cell_type": "code",
   "execution_count": 52,
   "id": "9b77424b",
   "metadata": {},
   "outputs": [
    {
     "data": {
      "text/plain": [
       "No     90.47619\n",
       "Yes     9.52381\n",
       "Name: notRepairedDamage, dtype: float64"
      ]
     },
     "execution_count": 52,
     "metadata": {},
     "output_type": "execute_result"
    }
   ],
   "source": [
    "ford['notRepairedDamage'].value_counts()*100/ford['notRepairedDamage'].value_counts().sum()"
   ]
  },
  {
   "cell_type": "code",
   "execution_count": 57,
   "id": "3673b79b",
   "metadata": {},
   "outputs": [
    {
     "name": "stderr",
     "output_type": "stream",
     "text": [
      "C:\\Users\\kalwa\\Anaconda3\\lib\\site-packages\\seaborn\\_decorators.py:36: FutureWarning: Pass the following variable as a keyword arg: x. From version 0.12, the only valid positional argument will be `data`, and passing other arguments without an explicit keyword will result in an error or misinterpretation.\n",
      "  warnings.warn(\n"
     ]
    },
    {
     "data": {
      "text/plain": [
       "<AxesSubplot:xlabel='price'>"
      ]
     },
     "execution_count": 57,
     "metadata": {},
     "output_type": "execute_result"
    },
    {
     "data": {
      "image/png": "[encoded data removed]",
      "text/plain": [
       "<Figure size 432x288 with 1 Axes>"
      ]
     },
     "metadata": {
      "needs_background": "light"
     },
     "output_type": "display_data"
    }
   ],
   "source": [
    "sb.boxplot(ford['price'])"
   ]
  },
  {
   "cell_type": "code",
   "execution_count": 56,
   "id": "443aade0",
   "metadata": {},
   "outputs": [],
   "source": [
    "ford=ford[ford['price']<300000]"
   ]
  },
  {
   "cell_type": "code",
   "execution_count": 58,
   "id": "581c7f83",
   "metadata": {},
   "outputs": [
    {
     "data": {
      "text/html": [
       "<div>\n",
       "<style scoped>\n",
       "    .dataframe tbody tr th:only-of-type {\n",
       "        vertical-align: middle;\n",
       "    }\n",
       "\n",
       "    .dataframe tbody tr th {\n",
       "        vertical-align: top;\n",
       "    }\n",
       "\n",
       "    .dataframe thead th {\n",
       "        text-align: right;\n",
       "    }\n",
       "</style>\n",
       "<table border=\"1\" class=\"dataframe\">\n",
       "  <thead>\n",
       "    <tr style=\"text-align: right;\">\n",
       "      <th></th>\n",
       "      <th>Unnamed: 0</th>\n",
       "      <th>seller</th>\n",
       "      <th>offerType</th>\n",
       "      <th>vehicleType</th>\n",
       "      <th>yearOfRegistration</th>\n",
       "      <th>gearbox</th>\n",
       "      <th>powerPS</th>\n",
       "      <th>model</th>\n",
       "      <th>kilometer</th>\n",
       "      <th>monthOfRegistration</th>\n",
       "      <th>fuelType</th>\n",
       "      <th>brand</th>\n",
       "      <th>notRepairedDamage</th>\n",
       "      <th>price</th>\n",
       "      <th>Years_group</th>\n",
       "    </tr>\n",
       "  </thead>\n",
       "  <tbody>\n",
       "    <tr>\n",
       "      <th>124</th>\n",
       "      <td>44071</td>\n",
       "      <td>privat</td>\n",
       "      <td>Angebot</td>\n",
       "      <td>suv</td>\n",
       "      <td>1998</td>\n",
       "      <td>automatik</td>\n",
       "      <td>207</td>\n",
       "      <td>andere</td>\n",
       "      <td>150000</td>\n",
       "      <td>1</td>\n",
       "      <td>benzin</td>\n",
       "      <td>ford</td>\n",
       "      <td>No</td>\n",
       "      <td>0</td>\n",
       "      <td>1991-2000</td>\n",
       "    </tr>\n",
       "  </tbody>\n",
       "</table>\n",
       "</div>"
      ],
      "text/plain": [
       "     Unnamed: 0  seller offerType vehicleType  yearOfRegistration    gearbox  \\\n",
       "124       44071  privat   Angebot         suv                1998  automatik   \n",
       "\n",
       "     powerPS   model  kilometer  monthOfRegistration fuelType brand  \\\n",
       "124      207  andere     150000                    1   benzin  ford   \n",
       "\n",
       "    notRepairedDamage  price Years_group  \n",
       "124                No      0   1991-2000  "
      ]
     },
     "execution_count": 58,
     "metadata": {},
     "output_type": "execute_result"
    }
   ],
   "source": [
    "ford.sample()"
   ]
  },
  {
   "cell_type": "code",
   "execution_count": 63,
   "id": "f286326e",
   "metadata": {},
   "outputs": [
    {
     "data": {
      "text/plain": [
       "Index(['Unnamed: 0', 'seller', 'offerType', 'vehicleType',\n",
       "       'yearOfRegistration', 'gearbox', 'powerPS', 'model', 'kilometer',\n",
       "       'monthOfRegistration', 'fuelType', 'brand', 'notRepairedDamage',\n",
       "       'price', 'Years_group'],\n",
       "      dtype='object')"
      ]
     },
     "execution_count": 63,
     "metadata": {},
     "output_type": "execute_result"
    }
   ],
   "source": [
    "ford.columns"
   ]
  },
  {
   "cell_type": "code",
   "execution_count": 64,
   "id": "7ea1e3d6",
   "metadata": {},
   "outputs": [],
   "source": [
    "ford=ford.drop(['Unnamed: 0', 'seller', 'offerType','vehicleType','brand','Years_group'],axis=1)"
   ]
  },
  {
   "cell_type": "code",
   "execution_count": 65,
   "id": "68fb48d0",
   "metadata": {},
   "outputs": [
    {
     "data": {
      "text/html": [
       "<div>\n",
       "<style scoped>\n",
       "    .dataframe tbody tr th:only-of-type {\n",
       "        vertical-align: middle;\n",
       "    }\n",
       "\n",
       "    .dataframe tbody tr th {\n",
       "        vertical-align: top;\n",
       "    }\n",
       "\n",
       "    .dataframe thead th {\n",
       "        text-align: right;\n",
       "    }\n",
       "</style>\n",
       "<table border=\"1\" class=\"dataframe\">\n",
       "  <thead>\n",
       "    <tr style=\"text-align: right;\">\n",
       "      <th></th>\n",
       "      <th>yearOfRegistration</th>\n",
       "      <th>gearbox</th>\n",
       "      <th>powerPS</th>\n",
       "      <th>model</th>\n",
       "      <th>kilometer</th>\n",
       "      <th>monthOfRegistration</th>\n",
       "      <th>fuelType</th>\n",
       "      <th>notRepairedDamage</th>\n",
       "      <th>price</th>\n",
       "    </tr>\n",
       "  </thead>\n",
       "  <tbody>\n",
       "    <tr>\n",
       "      <th>2</th>\n",
       "      <td>1998</td>\n",
       "      <td>automatik</td>\n",
       "      <td>204</td>\n",
       "      <td>andere</td>\n",
       "      <td>150000</td>\n",
       "      <td>3</td>\n",
       "      <td>benzin</td>\n",
       "      <td>Yes</td>\n",
       "      <td>58100</td>\n",
       "    </tr>\n",
       "    <tr>\n",
       "      <th>5</th>\n",
       "      <td>1998</td>\n",
       "      <td>automatik</td>\n",
       "      <td>207</td>\n",
       "      <td>andere</td>\n",
       "      <td>150000</td>\n",
       "      <td>10</td>\n",
       "      <td>lpg</td>\n",
       "      <td>Yes</td>\n",
       "      <td>83000</td>\n",
       "    </tr>\n",
       "    <tr>\n",
       "      <th>9</th>\n",
       "      <td>1998</td>\n",
       "      <td>manuell</td>\n",
       "      <td>115</td>\n",
       "      <td>andere</td>\n",
       "      <td>150000</td>\n",
       "      <td>1</td>\n",
       "      <td>benzin</td>\n",
       "      <td>No</td>\n",
       "      <td>215800</td>\n",
       "    </tr>\n",
       "    <tr>\n",
       "      <th>20</th>\n",
       "      <td>1989</td>\n",
       "      <td>manuell</td>\n",
       "      <td>140</td>\n",
       "      <td>andere</td>\n",
       "      <td>150000</td>\n",
       "      <td>5</td>\n",
       "      <td>lpg</td>\n",
       "      <td>Yes</td>\n",
       "      <td>78850</td>\n",
       "    </tr>\n",
       "    <tr>\n",
       "      <th>23</th>\n",
       "      <td>1992</td>\n",
       "      <td>manuell</td>\n",
       "      <td>145</td>\n",
       "      <td>andere</td>\n",
       "      <td>150000</td>\n",
       "      <td>7</td>\n",
       "      <td>benzin</td>\n",
       "      <td>Yes</td>\n",
       "      <td>244850</td>\n",
       "    </tr>\n",
       "    <tr>\n",
       "      <th>...</th>\n",
       "      <td>...</td>\n",
       "      <td>...</td>\n",
       "      <td>...</td>\n",
       "      <td>...</td>\n",
       "      <td>...</td>\n",
       "      <td>...</td>\n",
       "      <td>...</td>\n",
       "      <td>...</td>\n",
       "      <td>...</td>\n",
       "    </tr>\n",
       "    <tr>\n",
       "      <th>574</th>\n",
       "      <td>1998</td>\n",
       "      <td>automatik</td>\n",
       "      <td>207</td>\n",
       "      <td>andere</td>\n",
       "      <td>150000</td>\n",
       "      <td>3</td>\n",
       "      <td>benzin</td>\n",
       "      <td>No</td>\n",
       "      <td>165917</td>\n",
       "    </tr>\n",
       "    <tr>\n",
       "      <th>584</th>\n",
       "      <td>2003</td>\n",
       "      <td>automatik</td>\n",
       "      <td>102</td>\n",
       "      <td>galaxy</td>\n",
       "      <td>150000</td>\n",
       "      <td>1</td>\n",
       "      <td>diesel</td>\n",
       "      <td>No</td>\n",
       "      <td>236550</td>\n",
       "    </tr>\n",
       "    <tr>\n",
       "      <th>589</th>\n",
       "      <td>1996</td>\n",
       "      <td>automatik</td>\n",
       "      <td>156</td>\n",
       "      <td>andere</td>\n",
       "      <td>150000</td>\n",
       "      <td>2</td>\n",
       "      <td>lpg</td>\n",
       "      <td>Yes</td>\n",
       "      <td>207500</td>\n",
       "    </tr>\n",
       "    <tr>\n",
       "      <th>604</th>\n",
       "      <td>1998</td>\n",
       "      <td>automatik</td>\n",
       "      <td>207</td>\n",
       "      <td>andere</td>\n",
       "      <td>150000</td>\n",
       "      <td>9</td>\n",
       "      <td>benzin</td>\n",
       "      <td>No</td>\n",
       "      <td>149317</td>\n",
       "    </tr>\n",
       "    <tr>\n",
       "      <th>606</th>\n",
       "      <td>1998</td>\n",
       "      <td>automatik</td>\n",
       "      <td>147</td>\n",
       "      <td>andere</td>\n",
       "      <td>150000</td>\n",
       "      <td>6</td>\n",
       "      <td>benzin</td>\n",
       "      <td>No</td>\n",
       "      <td>166000</td>\n",
       "    </tr>\n",
       "  </tbody>\n",
       "</table>\n",
       "<p>116 rows × 9 columns</p>\n",
       "</div>"
      ],
      "text/plain": [
       "     yearOfRegistration    gearbox  powerPS   model  kilometer  \\\n",
       "2                  1998  automatik      204  andere     150000   \n",
       "5                  1998  automatik      207  andere     150000   \n",
       "9                  1998    manuell      115  andere     150000   \n",
       "20                 1989    manuell      140  andere     150000   \n",
       "23                 1992    manuell      145  andere     150000   \n",
       "..                  ...        ...      ...     ...        ...   \n",
       "574                1998  automatik      207  andere     150000   \n",
       "584                2003  automatik      102  galaxy     150000   \n",
       "589                1996  automatik      156  andere     150000   \n",
       "604                1998  automatik      207  andere     150000   \n",
       "606                1998  automatik      147  andere     150000   \n",
       "\n",
       "     monthOfRegistration fuelType notRepairedDamage   price  \n",
       "2                      3   benzin               Yes   58100  \n",
       "5                     10      lpg               Yes   83000  \n",
       "9                      1   benzin                No  215800  \n",
       "20                     5      lpg               Yes   78850  \n",
       "23                     7   benzin               Yes  244850  \n",
       "..                   ...      ...               ...     ...  \n",
       "574                    3   benzin                No  165917  \n",
       "584                    1   diesel                No  236550  \n",
       "589                    2      lpg               Yes  207500  \n",
       "604                    9   benzin                No  149317  \n",
       "606                    6   benzin                No  166000  \n",
       "\n",
       "[116 rows x 9 columns]"
      ]
     },
     "execution_count": 65,
     "metadata": {},
     "output_type": "execute_result"
    }
   ],
   "source": [
    "ford"
   ]
  },
  {
   "cell_type": "code",
   "execution_count": 66,
   "id": "e11d6aa6",
   "metadata": {},
   "outputs": [],
   "source": [
    "from sklearn.preprocessing import LabelEncoder\n",
    "enc=LabelEncoder()"
   ]
  },
  {
   "cell_type": "code",
   "execution_count": 67,
   "id": "cfbbcc2d",
   "metadata": {},
   "outputs": [],
   "source": [
    "data=['gearbox','fuelType','model','notRepairedDamage']"
   ]
  },
  {
   "cell_type": "code",
   "execution_count": 68,
   "id": "c25e48ca",
   "metadata": {},
   "outputs": [],
   "source": [
    "for x in data:\n",
    "    ford[x]=enc.fit_transform(ford[x])"
   ]
  },
  {
   "cell_type": "code",
   "execution_count": 69,
   "id": "48166299",
   "metadata": {},
   "outputs": [
    {
     "data": {
      "text/html": [
       "<div>\n",
       "<style scoped>\n",
       "    .dataframe tbody tr th:only-of-type {\n",
       "        vertical-align: middle;\n",
       "    }\n",
       "\n",
       "    .dataframe tbody tr th {\n",
       "        vertical-align: top;\n",
       "    }\n",
       "\n",
       "    .dataframe thead th {\n",
       "        text-align: right;\n",
       "    }\n",
       "</style>\n",
       "<table border=\"1\" class=\"dataframe\">\n",
       "  <thead>\n",
       "    <tr style=\"text-align: right;\">\n",
       "      <th></th>\n",
       "      <th>yearOfRegistration</th>\n",
       "      <th>gearbox</th>\n",
       "      <th>powerPS</th>\n",
       "      <th>model</th>\n",
       "      <th>kilometer</th>\n",
       "      <th>monthOfRegistration</th>\n",
       "      <th>fuelType</th>\n",
       "      <th>notRepairedDamage</th>\n",
       "      <th>price</th>\n",
       "    </tr>\n",
       "  </thead>\n",
       "  <tbody>\n",
       "    <tr>\n",
       "      <th>2</th>\n",
       "      <td>1998</td>\n",
       "      <td>0</td>\n",
       "      <td>204</td>\n",
       "      <td>0</td>\n",
       "      <td>150000</td>\n",
       "      <td>3</td>\n",
       "      <td>0</td>\n",
       "      <td>1</td>\n",
       "      <td>58100</td>\n",
       "    </tr>\n",
       "    <tr>\n",
       "      <th>5</th>\n",
       "      <td>1998</td>\n",
       "      <td>0</td>\n",
       "      <td>207</td>\n",
       "      <td>0</td>\n",
       "      <td>150000</td>\n",
       "      <td>10</td>\n",
       "      <td>2</td>\n",
       "      <td>1</td>\n",
       "      <td>83000</td>\n",
       "    </tr>\n",
       "    <tr>\n",
       "      <th>9</th>\n",
       "      <td>1998</td>\n",
       "      <td>1</td>\n",
       "      <td>115</td>\n",
       "      <td>0</td>\n",
       "      <td>150000</td>\n",
       "      <td>1</td>\n",
       "      <td>0</td>\n",
       "      <td>0</td>\n",
       "      <td>215800</td>\n",
       "    </tr>\n",
       "    <tr>\n",
       "      <th>20</th>\n",
       "      <td>1989</td>\n",
       "      <td>1</td>\n",
       "      <td>140</td>\n",
       "      <td>0</td>\n",
       "      <td>150000</td>\n",
       "      <td>5</td>\n",
       "      <td>2</td>\n",
       "      <td>1</td>\n",
       "      <td>78850</td>\n",
       "    </tr>\n",
       "    <tr>\n",
       "      <th>23</th>\n",
       "      <td>1992</td>\n",
       "      <td>1</td>\n",
       "      <td>145</td>\n",
       "      <td>0</td>\n",
       "      <td>150000</td>\n",
       "      <td>7</td>\n",
       "      <td>0</td>\n",
       "      <td>1</td>\n",
       "      <td>244850</td>\n",
       "    </tr>\n",
       "    <tr>\n",
       "      <th>...</th>\n",
       "      <td>...</td>\n",
       "      <td>...</td>\n",
       "      <td>...</td>\n",
       "      <td>...</td>\n",
       "      <td>...</td>\n",
       "      <td>...</td>\n",
       "      <td>...</td>\n",
       "      <td>...</td>\n",
       "      <td>...</td>\n",
       "    </tr>\n",
       "    <tr>\n",
       "      <th>574</th>\n",
       "      <td>1998</td>\n",
       "      <td>0</td>\n",
       "      <td>207</td>\n",
       "      <td>0</td>\n",
       "      <td>150000</td>\n",
       "      <td>3</td>\n",
       "      <td>0</td>\n",
       "      <td>0</td>\n",
       "      <td>165917</td>\n",
       "    </tr>\n",
       "    <tr>\n",
       "      <th>584</th>\n",
       "      <td>2003</td>\n",
       "      <td>0</td>\n",
       "      <td>102</td>\n",
       "      <td>1</td>\n",
       "      <td>150000</td>\n",
       "      <td>1</td>\n",
       "      <td>1</td>\n",
       "      <td>0</td>\n",
       "      <td>236550</td>\n",
       "    </tr>\n",
       "    <tr>\n",
       "      <th>589</th>\n",
       "      <td>1996</td>\n",
       "      <td>0</td>\n",
       "      <td>156</td>\n",
       "      <td>0</td>\n",
       "      <td>150000</td>\n",
       "      <td>2</td>\n",
       "      <td>2</td>\n",
       "      <td>1</td>\n",
       "      <td>207500</td>\n",
       "    </tr>\n",
       "    <tr>\n",
       "      <th>604</th>\n",
       "      <td>1998</td>\n",
       "      <td>0</td>\n",
       "      <td>207</td>\n",
       "      <td>0</td>\n",
       "      <td>150000</td>\n",
       "      <td>9</td>\n",
       "      <td>0</td>\n",
       "      <td>0</td>\n",
       "      <td>149317</td>\n",
       "    </tr>\n",
       "    <tr>\n",
       "      <th>606</th>\n",
       "      <td>1998</td>\n",
       "      <td>0</td>\n",
       "      <td>147</td>\n",
       "      <td>0</td>\n",
       "      <td>150000</td>\n",
       "      <td>6</td>\n",
       "      <td>0</td>\n",
       "      <td>0</td>\n",
       "      <td>166000</td>\n",
       "    </tr>\n",
       "  </tbody>\n",
       "</table>\n",
       "<p>116 rows × 9 columns</p>\n",
       "</div>"
      ],
      "text/plain": [
       "     yearOfRegistration  gearbox  powerPS  model  kilometer  \\\n",
       "2                  1998        0      204      0     150000   \n",
       "5                  1998        0      207      0     150000   \n",
       "9                  1998        1      115      0     150000   \n",
       "20                 1989        1      140      0     150000   \n",
       "23                 1992        1      145      0     150000   \n",
       "..                  ...      ...      ...    ...        ...   \n",
       "574                1998        0      207      0     150000   \n",
       "584                2003        0      102      1     150000   \n",
       "589                1996        0      156      0     150000   \n",
       "604                1998        0      207      0     150000   \n",
       "606                1998        0      147      0     150000   \n",
       "\n",
       "     monthOfRegistration  fuelType  notRepairedDamage   price  \n",
       "2                      3         0                  1   58100  \n",
       "5                     10         2                  1   83000  \n",
       "9                      1         0                  0  215800  \n",
       "20                     5         2                  1   78850  \n",
       "23                     7         0                  1  244850  \n",
       "..                   ...       ...                ...     ...  \n",
       "574                    3         0                  0  165917  \n",
       "584                    1         1                  0  236550  \n",
       "589                    2         2                  1  207500  \n",
       "604                    9         0                  0  149317  \n",
       "606                    6         0                  0  166000  \n",
       "\n",
       "[116 rows x 9 columns]"
      ]
     },
     "execution_count": 69,
     "metadata": {},
     "output_type": "execute_result"
    }
   ],
   "source": [
    "ford"
   ]
  },
  {
   "cell_type": "code",
   "execution_count": 121,
   "id": "0c405cfa",
   "metadata": {},
   "outputs": [
    {
     "data": {
      "text/html": [
       "<div>\n",
       "<style scoped>\n",
       "    .dataframe tbody tr th:only-of-type {\n",
       "        vertical-align: middle;\n",
       "    }\n",
       "\n",
       "    .dataframe tbody tr th {\n",
       "        vertical-align: top;\n",
       "    }\n",
       "\n",
       "    .dataframe thead th {\n",
       "        text-align: right;\n",
       "    }\n",
       "</style>\n",
       "<table border=\"1\" class=\"dataframe\">\n",
       "  <thead>\n",
       "    <tr style=\"text-align: right;\">\n",
       "      <th></th>\n",
       "      <th>powerPS</th>\n",
       "      <th>model</th>\n",
       "      <th>kilometer</th>\n",
       "      <th>monthOfRegistration</th>\n",
       "      <th>fuelType</th>\n",
       "      <th>price</th>\n",
       "      <th>notRepairedDamage</th>\n",
       "    </tr>\n",
       "  </thead>\n",
       "  <tbody>\n",
       "    <tr>\n",
       "      <th>2</th>\n",
       "      <td>204</td>\n",
       "      <td>0</td>\n",
       "      <td>150000</td>\n",
       "      <td>3</td>\n",
       "      <td>0</td>\n",
       "      <td>58100</td>\n",
       "      <td>1</td>\n",
       "    </tr>\n",
       "    <tr>\n",
       "      <th>5</th>\n",
       "      <td>207</td>\n",
       "      <td>0</td>\n",
       "      <td>150000</td>\n",
       "      <td>10</td>\n",
       "      <td>2</td>\n",
       "      <td>83000</td>\n",
       "      <td>1</td>\n",
       "    </tr>\n",
       "    <tr>\n",
       "      <th>9</th>\n",
       "      <td>115</td>\n",
       "      <td>0</td>\n",
       "      <td>150000</td>\n",
       "      <td>1</td>\n",
       "      <td>0</td>\n",
       "      <td>215800</td>\n",
       "      <td>0</td>\n",
       "    </tr>\n",
       "    <tr>\n",
       "      <th>20</th>\n",
       "      <td>140</td>\n",
       "      <td>0</td>\n",
       "      <td>150000</td>\n",
       "      <td>5</td>\n",
       "      <td>2</td>\n",
       "      <td>78850</td>\n",
       "      <td>1</td>\n",
       "    </tr>\n",
       "    <tr>\n",
       "      <th>23</th>\n",
       "      <td>145</td>\n",
       "      <td>0</td>\n",
       "      <td>150000</td>\n",
       "      <td>7</td>\n",
       "      <td>0</td>\n",
       "      <td>244850</td>\n",
       "      <td>1</td>\n",
       "    </tr>\n",
       "  </tbody>\n",
       "</table>\n",
       "</div>"
      ],
      "text/plain": [
       "    powerPS  model  kilometer  monthOfRegistration  fuelType   price  \\\n",
       "2       204      0     150000                    3         0   58100   \n",
       "5       207      0     150000                   10         2   83000   \n",
       "9       115      0     150000                    1         0  215800   \n",
       "20      140      0     150000                    5         2   78850   \n",
       "23      145      0     150000                    7         0  244850   \n",
       "\n",
       "    notRepairedDamage  \n",
       "2                   1  \n",
       "5                   1  \n",
       "9                   0  \n",
       "20                  1  \n",
       "23                  1  "
      ]
     },
     "execution_count": 121,
     "metadata": {},
     "output_type": "execute_result"
    }
   ],
   "source": [
    "x=ford.iloc[:,1:8]\n",
    "x.head()"
   ]
  },
  {
   "cell_type": "code",
   "execution_count": 122,
   "id": "9c87be48",
   "metadata": {},
   "outputs": [
    {
     "data": {
      "text/plain": [
       "2      58100\n",
       "5      83000\n",
       "9     215800\n",
       "20     78850\n",
       "23    244850\n",
       "Name: price, dtype: int64"
      ]
     },
     "execution_count": 122,
     "metadata": {},
     "output_type": "execute_result"
    }
   ],
   "source": [
    "y=ford.price\n",
    "y.head()"
   ]
  },
  {
   "cell_type": "code",
   "execution_count": 123,
   "id": "48ed0a75",
   "metadata": {},
   "outputs": [],
   "source": [
    "from sklearn.model_selection import train_test_split\n",
    "x_train, x_test, y_train, y_test = train_test_split(x,y, test_size=0.3, random_state=11)"
   ]
  },
  {
   "cell_type": "code",
   "execution_count": 130,
   "id": "4ec22337",
   "metadata": {},
   "outputs": [
    {
     "data": {
      "text/html": [
       "<div>\n",
       "<style scoped>\n",
       "    .dataframe tbody tr th:only-of-type {\n",
       "        vertical-align: middle;\n",
       "    }\n",
       "\n",
       "    .dataframe tbody tr th {\n",
       "        vertical-align: top;\n",
       "    }\n",
       "\n",
       "    .dataframe thead th {\n",
       "        text-align: right;\n",
       "    }\n",
       "</style>\n",
       "<table border=\"1\" class=\"dataframe\">\n",
       "  <thead>\n",
       "    <tr style=\"text-align: right;\">\n",
       "      <th></th>\n",
       "      <th>powerPS</th>\n",
       "      <th>model</th>\n",
       "      <th>kilometer</th>\n",
       "      <th>monthOfRegistration</th>\n",
       "      <th>fuelType</th>\n",
       "      <th>price</th>\n",
       "      <th>notRepairedDamage</th>\n",
       "    </tr>\n",
       "  </thead>\n",
       "  <tbody>\n",
       "    <tr>\n",
       "      <th>198</th>\n",
       "      <td>114</td>\n",
       "      <td>0</td>\n",
       "      <td>150000</td>\n",
       "      <td>9</td>\n",
       "      <td>2</td>\n",
       "      <td>124417</td>\n",
       "      <td>0</td>\n",
       "    </tr>\n",
       "    <tr>\n",
       "      <th>507</th>\n",
       "      <td>124</td>\n",
       "      <td>0</td>\n",
       "      <td>125000</td>\n",
       "      <td>4</td>\n",
       "      <td>0</td>\n",
       "      <td>165917</td>\n",
       "      <td>0</td>\n",
       "    </tr>\n",
       "    <tr>\n",
       "      <th>51</th>\n",
       "      <td>156</td>\n",
       "      <td>0</td>\n",
       "      <td>150000</td>\n",
       "      <td>1</td>\n",
       "      <td>0</td>\n",
       "      <td>165917</td>\n",
       "      <td>0</td>\n",
       "    </tr>\n",
       "    <tr>\n",
       "      <th>149</th>\n",
       "      <td>207</td>\n",
       "      <td>0</td>\n",
       "      <td>150000</td>\n",
       "      <td>8</td>\n",
       "      <td>0</td>\n",
       "      <td>131970</td>\n",
       "      <td>0</td>\n",
       "    </tr>\n",
       "    <tr>\n",
       "      <th>304</th>\n",
       "      <td>156</td>\n",
       "      <td>0</td>\n",
       "      <td>150000</td>\n",
       "      <td>7</td>\n",
       "      <td>0</td>\n",
       "      <td>107900</td>\n",
       "      <td>1</td>\n",
       "    </tr>\n",
       "  </tbody>\n",
       "</table>\n",
       "</div>"
      ],
      "text/plain": [
       "     powerPS  model  kilometer  monthOfRegistration  fuelType   price  \\\n",
       "198      114      0     150000                    9         2  124417   \n",
       "507      124      0     125000                    4         0  165917   \n",
       "51       156      0     150000                    1         0  165917   \n",
       "149      207      0     150000                    8         0  131970   \n",
       "304      156      0     150000                    7         0  107900   \n",
       "\n",
       "     notRepairedDamage  \n",
       "198                  0  \n",
       "507                  0  \n",
       "51                   0  \n",
       "149                  0  \n",
       "304                  1  "
      ]
     },
     "execution_count": 130,
     "metadata": {},
     "output_type": "execute_result"
    }
   ],
   "source": [
    "x_train.head()"
   ]
  },
  {
   "cell_type": "code",
   "execution_count": 131,
   "id": "ae032395",
   "metadata": {},
   "outputs": [
    {
     "data": {
      "text/plain": [
       "198    124417\n",
       "507    165917\n",
       "51     165917\n",
       "149    131970\n",
       "304    107900\n",
       "Name: price, dtype: int64"
      ]
     },
     "execution_count": 131,
     "metadata": {},
     "output_type": "execute_result"
    }
   ],
   "source": [
    "y_train.head()"
   ]
  },
  {
   "cell_type": "markdown",
   "id": "2bccd5b3",
   "metadata": {},
   "source": [
    "# LinearRegression"
   ]
  },
  {
   "cell_type": "code",
   "execution_count": 132,
   "id": "985cd586",
   "metadata": {},
   "outputs": [
    {
     "data": {
      "text/plain": [
       "LinearRegression()"
      ]
     },
     "execution_count": 132,
     "metadata": {},
     "output_type": "execute_result"
    }
   ],
   "source": [
    "from sklearn.linear_model import LinearRegression\n",
    "model_lr=LinearRegression()\n",
    "model_lr.fit(x_train,y_train)"
   ]
  },
  {
   "cell_type": "code",
   "execution_count": 133,
   "id": "29b8e2f4",
   "metadata": {},
   "outputs": [],
   "source": [
    "predict_price = model_lr.predict(x_test)\n"
   ]
  },
  {
   "cell_type": "code",
   "execution_count": 134,
   "id": "f8511c44",
   "metadata": {},
   "outputs": [],
   "source": [
    "from sklearn.metrics import r2_score"
   ]
  },
  {
   "cell_type": "code",
   "execution_count": 135,
   "id": "b82594af",
   "metadata": {},
   "outputs": [
    {
     "data": {
      "text/plain": [
       "1.0"
      ]
     },
     "execution_count": 135,
     "metadata": {},
     "output_type": "execute_result"
    }
   ],
   "source": [
    "r2_score(predict_price,y_test)"
   ]
  },
  {
   "cell_type": "markdown",
   "id": "c6a2e51f",
   "metadata": {},
   "source": [
    "# KNeighborsRegressor"
   ]
  },
  {
   "cell_type": "code",
   "execution_count": 136,
   "id": "f571d8e6",
   "metadata": {},
   "outputs": [
    {
     "data": {
      "text/plain": [
       "KNeighborsRegressor(n_neighbors=1)"
      ]
     },
     "execution_count": 136,
     "metadata": {},
     "output_type": "execute_result"
    }
   ],
   "source": [
    "from sklearn.neighbors import KNeighborsRegressor\n",
    "model_knc=KNeighborsRegressor(n_neighbors=1)\n",
    "model_knc.fit(x_train,y_train)"
   ]
  },
  {
   "cell_type": "code",
   "execution_count": 137,
   "id": "684d3127",
   "metadata": {},
   "outputs": [],
   "source": [
    "predict_knc=model_knc.predict(x_test)\n"
   ]
  },
  {
   "cell_type": "code",
   "execution_count": 138,
   "id": "0b1f618c",
   "metadata": {},
   "outputs": [
    {
     "data": {
      "text/plain": [
       "0.9988011503882522"
      ]
     },
     "execution_count": 138,
     "metadata": {},
     "output_type": "execute_result"
    }
   ],
   "source": [
    "r2_score(predict_knc,y_test)"
   ]
  },
  {
   "cell_type": "markdown",
   "id": "f12d16a0",
   "metadata": {},
   "source": [
    "# RandomForestRegressor"
   ]
  },
  {
   "cell_type": "code",
   "execution_count": 139,
   "id": "721f5a3c",
   "metadata": {},
   "outputs": [
    {
     "data": {
      "text/plain": [
       "RandomForestRegressor()"
      ]
     },
     "execution_count": 139,
     "metadata": {},
     "output_type": "execute_result"
    }
   ],
   "source": [
    "from sklearn.ensemble import RandomForestRegressor\n",
    "model_rfc=RandomForestRegressor()\n",
    "model_rfc.fit(x_train,y_train)"
   ]
  },
  {
   "cell_type": "code",
   "execution_count": 91,
   "id": "d7098022",
   "metadata": {},
   "outputs": [],
   "source": [
    "pedict_frc = model_rfc.predict(x_test)\n"
   ]
  },
  {
   "cell_type": "code",
   "execution_count": 92,
   "id": "9b9dbfa7",
   "metadata": {},
   "outputs": [
    {
     "data": {
      "text/plain": [
       "0.997602419518516"
      ]
     },
     "execution_count": 92,
     "metadata": {},
     "output_type": "execute_result"
    }
   ],
   "source": [
    "r2_score(pedict_frc,y_test)"
   ]
  },
  {
   "cell_type": "markdown",
   "id": "67b6ed71",
   "metadata": {},
   "source": [
    "# DecisionTreeRegressor"
   ]
  },
  {
   "cell_type": "code",
   "execution_count": 93,
   "id": "f1c3ec07",
   "metadata": {},
   "outputs": [
    {
     "data": {
      "text/plain": [
       "DecisionTreeRegressor()"
      ]
     },
     "execution_count": 93,
     "metadata": {},
     "output_type": "execute_result"
    }
   ],
   "source": [
    "from sklearn.tree import DecisionTreeRegressor\n",
    "model_dtc = DecisionTreeRegressor()\n",
    "model_dtc.fit(x_train,y_train)"
   ]
  },
  {
   "cell_type": "code",
   "execution_count": 94,
   "id": "555a5efa",
   "metadata": {},
   "outputs": [],
   "source": [
    "predict_dtc = model_dtc.predict(x_test)\n",
    "from sklearn.metrics import r2_score\n"
   ]
  },
  {
   "cell_type": "code",
   "execution_count": 95,
   "id": "9ad0a210",
   "metadata": {},
   "outputs": [
    {
     "data": {
      "text/plain": [
       "0.9985877218958025"
      ]
     },
     "execution_count": 95,
     "metadata": {},
     "output_type": "execute_result"
    }
   ],
   "source": [
    "r2_score(predict_dtc,y_test)"
   ]
  },
  {
   "cell_type": "markdown",
   "id": "ab591e58",
   "metadata": {},
   "source": [
    "# All data which has been collectd and  appllied  in Regressor Model of Machine Learning are below:\n",
    "\n",
    "LinearRegression-1.0\n",
    "\n",
    "KNeighborsRegressor : 0.9988011503882522\n",
    "\n",
    "RandomForestRegressor : 0.997602419518516\n",
    "\n",
    "DecisionTreeRegressor  : 0.9985877218958025\n",
    "\n",
    "LinearRegression is giving the  best  results from others Regression models"
   ]
  },
  {
   "cell_type": "code",
   "execution_count": 96,
   "id": "639e42b5",
   "metadata": {},
   "outputs": [
    {
     "data": {
      "text/html": [
       "<div>\n",
       "<style scoped>\n",
       "    .dataframe tbody tr th:only-of-type {\n",
       "        vertical-align: middle;\n",
       "    }\n",
       "\n",
       "    .dataframe tbody tr th {\n",
       "        vertical-align: top;\n",
       "    }\n",
       "\n",
       "    .dataframe thead th {\n",
       "        text-align: right;\n",
       "    }\n",
       "</style>\n",
       "<table border=\"1\" class=\"dataframe\">\n",
       "  <thead>\n",
       "    <tr style=\"text-align: right;\">\n",
       "      <th></th>\n",
       "      <th>yearOfRegistration</th>\n",
       "      <th>gearbox</th>\n",
       "      <th>powerPS</th>\n",
       "      <th>model</th>\n",
       "      <th>kilometer</th>\n",
       "      <th>monthOfRegistration</th>\n",
       "      <th>fuelType</th>\n",
       "      <th>notRepairedDamage</th>\n",
       "      <th>price</th>\n",
       "    </tr>\n",
       "  </thead>\n",
       "  <tbody>\n",
       "    <tr>\n",
       "      <th>2</th>\n",
       "      <td>1998</td>\n",
       "      <td>0</td>\n",
       "      <td>204</td>\n",
       "      <td>0</td>\n",
       "      <td>150000</td>\n",
       "      <td>3</td>\n",
       "      <td>0</td>\n",
       "      <td>1</td>\n",
       "      <td>58100</td>\n",
       "    </tr>\n",
       "    <tr>\n",
       "      <th>5</th>\n",
       "      <td>1998</td>\n",
       "      <td>0</td>\n",
       "      <td>207</td>\n",
       "      <td>0</td>\n",
       "      <td>150000</td>\n",
       "      <td>10</td>\n",
       "      <td>2</td>\n",
       "      <td>1</td>\n",
       "      <td>83000</td>\n",
       "    </tr>\n",
       "    <tr>\n",
       "      <th>9</th>\n",
       "      <td>1998</td>\n",
       "      <td>1</td>\n",
       "      <td>115</td>\n",
       "      <td>0</td>\n",
       "      <td>150000</td>\n",
       "      <td>1</td>\n",
       "      <td>0</td>\n",
       "      <td>0</td>\n",
       "      <td>215800</td>\n",
       "    </tr>\n",
       "    <tr>\n",
       "      <th>20</th>\n",
       "      <td>1989</td>\n",
       "      <td>1</td>\n",
       "      <td>140</td>\n",
       "      <td>0</td>\n",
       "      <td>150000</td>\n",
       "      <td>5</td>\n",
       "      <td>2</td>\n",
       "      <td>1</td>\n",
       "      <td>78850</td>\n",
       "    </tr>\n",
       "    <tr>\n",
       "      <th>23</th>\n",
       "      <td>1992</td>\n",
       "      <td>1</td>\n",
       "      <td>145</td>\n",
       "      <td>0</td>\n",
       "      <td>150000</td>\n",
       "      <td>7</td>\n",
       "      <td>0</td>\n",
       "      <td>1</td>\n",
       "      <td>244850</td>\n",
       "    </tr>\n",
       "    <tr>\n",
       "      <th>...</th>\n",
       "      <td>...</td>\n",
       "      <td>...</td>\n",
       "      <td>...</td>\n",
       "      <td>...</td>\n",
       "      <td>...</td>\n",
       "      <td>...</td>\n",
       "      <td>...</td>\n",
       "      <td>...</td>\n",
       "      <td>...</td>\n",
       "    </tr>\n",
       "    <tr>\n",
       "      <th>574</th>\n",
       "      <td>1998</td>\n",
       "      <td>0</td>\n",
       "      <td>207</td>\n",
       "      <td>0</td>\n",
       "      <td>150000</td>\n",
       "      <td>3</td>\n",
       "      <td>0</td>\n",
       "      <td>0</td>\n",
       "      <td>165917</td>\n",
       "    </tr>\n",
       "    <tr>\n",
       "      <th>584</th>\n",
       "      <td>2003</td>\n",
       "      <td>0</td>\n",
       "      <td>102</td>\n",
       "      <td>1</td>\n",
       "      <td>150000</td>\n",
       "      <td>1</td>\n",
       "      <td>1</td>\n",
       "      <td>0</td>\n",
       "      <td>236550</td>\n",
       "    </tr>\n",
       "    <tr>\n",
       "      <th>589</th>\n",
       "      <td>1996</td>\n",
       "      <td>0</td>\n",
       "      <td>156</td>\n",
       "      <td>0</td>\n",
       "      <td>150000</td>\n",
       "      <td>2</td>\n",
       "      <td>2</td>\n",
       "      <td>1</td>\n",
       "      <td>207500</td>\n",
       "    </tr>\n",
       "    <tr>\n",
       "      <th>604</th>\n",
       "      <td>1998</td>\n",
       "      <td>0</td>\n",
       "      <td>207</td>\n",
       "      <td>0</td>\n",
       "      <td>150000</td>\n",
       "      <td>9</td>\n",
       "      <td>0</td>\n",
       "      <td>0</td>\n",
       "      <td>149317</td>\n",
       "    </tr>\n",
       "    <tr>\n",
       "      <th>606</th>\n",
       "      <td>1998</td>\n",
       "      <td>0</td>\n",
       "      <td>147</td>\n",
       "      <td>0</td>\n",
       "      <td>150000</td>\n",
       "      <td>6</td>\n",
       "      <td>0</td>\n",
       "      <td>0</td>\n",
       "      <td>166000</td>\n",
       "    </tr>\n",
       "  </tbody>\n",
       "</table>\n",
       "<p>116 rows × 9 columns</p>\n",
       "</div>"
      ],
      "text/plain": [
       "     yearOfRegistration  gearbox  powerPS  model  kilometer  \\\n",
       "2                  1998        0      204      0     150000   \n",
       "5                  1998        0      207      0     150000   \n",
       "9                  1998        1      115      0     150000   \n",
       "20                 1989        1      140      0     150000   \n",
       "23                 1992        1      145      0     150000   \n",
       "..                  ...      ...      ...    ...        ...   \n",
       "574                1998        0      207      0     150000   \n",
       "584                2003        0      102      1     150000   \n",
       "589                1996        0      156      0     150000   \n",
       "604                1998        0      207      0     150000   \n",
       "606                1998        0      147      0     150000   \n",
       "\n",
       "     monthOfRegistration  fuelType  notRepairedDamage   price  \n",
       "2                      3         0                  1   58100  \n",
       "5                     10         2                  1   83000  \n",
       "9                      1         0                  0  215800  \n",
       "20                     5         2                  1   78850  \n",
       "23                     7         0                  1  244850  \n",
       "..                   ...       ...                ...     ...  \n",
       "574                    3         0                  0  165917  \n",
       "584                    1         1                  0  236550  \n",
       "589                    2         2                  1  207500  \n",
       "604                    9         0                  0  149317  \n",
       "606                    6         0                  0  166000  \n",
       "\n",
       "[116 rows x 9 columns]"
      ]
     },
     "execution_count": 96,
     "metadata": {},
     "output_type": "execute_result"
    }
   ],
   "source": [
    "ford"
   ]
  },
  {
   "cell_type": "code",
   "execution_count": 98,
   "id": "cc74fd9b",
   "metadata": {},
   "outputs": [],
   "source": [
    "ford = ford.iloc[:,[1,2,3,4,5,6,8,7]]"
   ]
  },
  {
   "cell_type": "code",
   "execution_count": 99,
   "id": "188c70dc",
   "metadata": {},
   "outputs": [
    {
     "data": {
      "text/html": [
       "<div>\n",
       "<style scoped>\n",
       "    .dataframe tbody tr th:only-of-type {\n",
       "        vertical-align: middle;\n",
       "    }\n",
       "\n",
       "    .dataframe tbody tr th {\n",
       "        vertical-align: top;\n",
       "    }\n",
       "\n",
       "    .dataframe thead th {\n",
       "        text-align: right;\n",
       "    }\n",
       "</style>\n",
       "<table border=\"1\" class=\"dataframe\">\n",
       "  <thead>\n",
       "    <tr style=\"text-align: right;\">\n",
       "      <th></th>\n",
       "      <th>gearbox</th>\n",
       "      <th>powerPS</th>\n",
       "      <th>model</th>\n",
       "      <th>kilometer</th>\n",
       "      <th>monthOfRegistration</th>\n",
       "      <th>fuelType</th>\n",
       "      <th>price</th>\n",
       "      <th>notRepairedDamage</th>\n",
       "    </tr>\n",
       "  </thead>\n",
       "  <tbody>\n",
       "    <tr>\n",
       "      <th>2</th>\n",
       "      <td>0</td>\n",
       "      <td>204</td>\n",
       "      <td>0</td>\n",
       "      <td>150000</td>\n",
       "      <td>3</td>\n",
       "      <td>0</td>\n",
       "      <td>58100</td>\n",
       "      <td>1</td>\n",
       "    </tr>\n",
       "    <tr>\n",
       "      <th>5</th>\n",
       "      <td>0</td>\n",
       "      <td>207</td>\n",
       "      <td>0</td>\n",
       "      <td>150000</td>\n",
       "      <td>10</td>\n",
       "      <td>2</td>\n",
       "      <td>83000</td>\n",
       "      <td>1</td>\n",
       "    </tr>\n",
       "    <tr>\n",
       "      <th>9</th>\n",
       "      <td>1</td>\n",
       "      <td>115</td>\n",
       "      <td>0</td>\n",
       "      <td>150000</td>\n",
       "      <td>1</td>\n",
       "      <td>0</td>\n",
       "      <td>215800</td>\n",
       "      <td>0</td>\n",
       "    </tr>\n",
       "    <tr>\n",
       "      <th>20</th>\n",
       "      <td>1</td>\n",
       "      <td>140</td>\n",
       "      <td>0</td>\n",
       "      <td>150000</td>\n",
       "      <td>5</td>\n",
       "      <td>2</td>\n",
       "      <td>78850</td>\n",
       "      <td>1</td>\n",
       "    </tr>\n",
       "    <tr>\n",
       "      <th>23</th>\n",
       "      <td>1</td>\n",
       "      <td>145</td>\n",
       "      <td>0</td>\n",
       "      <td>150000</td>\n",
       "      <td>7</td>\n",
       "      <td>0</td>\n",
       "      <td>244850</td>\n",
       "      <td>1</td>\n",
       "    </tr>\n",
       "    <tr>\n",
       "      <th>...</th>\n",
       "      <td>...</td>\n",
       "      <td>...</td>\n",
       "      <td>...</td>\n",
       "      <td>...</td>\n",
       "      <td>...</td>\n",
       "      <td>...</td>\n",
       "      <td>...</td>\n",
       "      <td>...</td>\n",
       "    </tr>\n",
       "    <tr>\n",
       "      <th>574</th>\n",
       "      <td>0</td>\n",
       "      <td>207</td>\n",
       "      <td>0</td>\n",
       "      <td>150000</td>\n",
       "      <td>3</td>\n",
       "      <td>0</td>\n",
       "      <td>165917</td>\n",
       "      <td>0</td>\n",
       "    </tr>\n",
       "    <tr>\n",
       "      <th>584</th>\n",
       "      <td>0</td>\n",
       "      <td>102</td>\n",
       "      <td>1</td>\n",
       "      <td>150000</td>\n",
       "      <td>1</td>\n",
       "      <td>1</td>\n",
       "      <td>236550</td>\n",
       "      <td>0</td>\n",
       "    </tr>\n",
       "    <tr>\n",
       "      <th>589</th>\n",
       "      <td>0</td>\n",
       "      <td>156</td>\n",
       "      <td>0</td>\n",
       "      <td>150000</td>\n",
       "      <td>2</td>\n",
       "      <td>2</td>\n",
       "      <td>207500</td>\n",
       "      <td>1</td>\n",
       "    </tr>\n",
       "    <tr>\n",
       "      <th>604</th>\n",
       "      <td>0</td>\n",
       "      <td>207</td>\n",
       "      <td>0</td>\n",
       "      <td>150000</td>\n",
       "      <td>9</td>\n",
       "      <td>0</td>\n",
       "      <td>149317</td>\n",
       "      <td>0</td>\n",
       "    </tr>\n",
       "    <tr>\n",
       "      <th>606</th>\n",
       "      <td>0</td>\n",
       "      <td>147</td>\n",
       "      <td>0</td>\n",
       "      <td>150000</td>\n",
       "      <td>6</td>\n",
       "      <td>0</td>\n",
       "      <td>166000</td>\n",
       "      <td>0</td>\n",
       "    </tr>\n",
       "  </tbody>\n",
       "</table>\n",
       "<p>116 rows × 8 columns</p>\n",
       "</div>"
      ],
      "text/plain": [
       "     gearbox  powerPS  model  kilometer  monthOfRegistration  fuelType  \\\n",
       "2          0      204      0     150000                    3         0   \n",
       "5          0      207      0     150000                   10         2   \n",
       "9          1      115      0     150000                    1         0   \n",
       "20         1      140      0     150000                    5         2   \n",
       "23         1      145      0     150000                    7         0   \n",
       "..       ...      ...    ...        ...                  ...       ...   \n",
       "574        0      207      0     150000                    3         0   \n",
       "584        0      102      1     150000                    1         1   \n",
       "589        0      156      0     150000                    2         2   \n",
       "604        0      207      0     150000                    9         0   \n",
       "606        0      147      0     150000                    6         0   \n",
       "\n",
       "      price  notRepairedDamage  \n",
       "2     58100                  1  \n",
       "5     83000                  1  \n",
       "9    215800                  0  \n",
       "20    78850                  1  \n",
       "23   244850                  1  \n",
       "..      ...                ...  \n",
       "574  165917                  0  \n",
       "584  236550                  0  \n",
       "589  207500                  1  \n",
       "604  149317                  0  \n",
       "606  166000                  0  \n",
       "\n",
       "[116 rows x 8 columns]"
      ]
     },
     "execution_count": 99,
     "metadata": {},
     "output_type": "execute_result"
    }
   ],
   "source": [
    "ford"
   ]
  },
  {
   "cell_type": "code",
   "execution_count": 100,
   "id": "415dfdf4",
   "metadata": {},
   "outputs": [
    {
     "data": {
      "text/html": [
       "<div>\n",
       "<style scoped>\n",
       "    .dataframe tbody tr th:only-of-type {\n",
       "        vertical-align: middle;\n",
       "    }\n",
       "\n",
       "    .dataframe tbody tr th {\n",
       "        vertical-align: top;\n",
       "    }\n",
       "\n",
       "    .dataframe thead th {\n",
       "        text-align: right;\n",
       "    }\n",
       "</style>\n",
       "<table border=\"1\" class=\"dataframe\">\n",
       "  <thead>\n",
       "    <tr style=\"text-align: right;\">\n",
       "      <th></th>\n",
       "      <th>powerPS</th>\n",
       "      <th>model</th>\n",
       "      <th>kilometer</th>\n",
       "      <th>monthOfRegistration</th>\n",
       "      <th>fuelType</th>\n",
       "      <th>price</th>\n",
       "    </tr>\n",
       "  </thead>\n",
       "  <tbody>\n",
       "    <tr>\n",
       "      <th>2</th>\n",
       "      <td>204</td>\n",
       "      <td>0</td>\n",
       "      <td>150000</td>\n",
       "      <td>3</td>\n",
       "      <td>0</td>\n",
       "      <td>58100</td>\n",
       "    </tr>\n",
       "    <tr>\n",
       "      <th>5</th>\n",
       "      <td>207</td>\n",
       "      <td>0</td>\n",
       "      <td>150000</td>\n",
       "      <td>10</td>\n",
       "      <td>2</td>\n",
       "      <td>83000</td>\n",
       "    </tr>\n",
       "    <tr>\n",
       "      <th>9</th>\n",
       "      <td>115</td>\n",
       "      <td>0</td>\n",
       "      <td>150000</td>\n",
       "      <td>1</td>\n",
       "      <td>0</td>\n",
       "      <td>215800</td>\n",
       "    </tr>\n",
       "    <tr>\n",
       "      <th>20</th>\n",
       "      <td>140</td>\n",
       "      <td>0</td>\n",
       "      <td>150000</td>\n",
       "      <td>5</td>\n",
       "      <td>2</td>\n",
       "      <td>78850</td>\n",
       "    </tr>\n",
       "    <tr>\n",
       "      <th>23</th>\n",
       "      <td>145</td>\n",
       "      <td>0</td>\n",
       "      <td>150000</td>\n",
       "      <td>7</td>\n",
       "      <td>0</td>\n",
       "      <td>244850</td>\n",
       "    </tr>\n",
       "  </tbody>\n",
       "</table>\n",
       "</div>"
      ],
      "text/plain": [
       "    powerPS  model  kilometer  monthOfRegistration  fuelType   price\n",
       "2       204      0     150000                    3         0   58100\n",
       "5       207      0     150000                   10         2   83000\n",
       "9       115      0     150000                    1         0  215800\n",
       "20      140      0     150000                    5         2   78850\n",
       "23      145      0     150000                    7         0  244850"
      ]
     },
     "execution_count": 100,
     "metadata": {},
     "output_type": "execute_result"
    }
   ],
   "source": [
    "x=ford.iloc[:,1:7]\n",
    "x.head()"
   ]
  },
  {
   "cell_type": "code",
   "execution_count": 101,
   "id": "1e0acb53",
   "metadata": {},
   "outputs": [
    {
     "data": {
      "text/plain": [
       "2     1\n",
       "5     1\n",
       "9     0\n",
       "20    1\n",
       "23    1\n",
       "Name: notRepairedDamage, dtype: int32"
      ]
     },
     "execution_count": 101,
     "metadata": {},
     "output_type": "execute_result"
    }
   ],
   "source": [
    "y=ford.notRepairedDamage\n",
    "y.head()"
   ]
  },
  {
   "cell_type": "code",
   "execution_count": 102,
   "id": "4aca9cc6",
   "metadata": {},
   "outputs": [],
   "source": [
    "from sklearn.model_selection import train_test_split\n",
    "x_train, x_test, y_train, y_test = train_test_split(x,y, test_size=0.3, random_state=11)"
   ]
  },
  {
   "cell_type": "code",
   "execution_count": 103,
   "id": "9c79c836",
   "metadata": {},
   "outputs": [
    {
     "data": {
      "text/html": [
       "<div>\n",
       "<style scoped>\n",
       "    .dataframe tbody tr th:only-of-type {\n",
       "        vertical-align: middle;\n",
       "    }\n",
       "\n",
       "    .dataframe tbody tr th {\n",
       "        vertical-align: top;\n",
       "    }\n",
       "\n",
       "    .dataframe thead th {\n",
       "        text-align: right;\n",
       "    }\n",
       "</style>\n",
       "<table border=\"1\" class=\"dataframe\">\n",
       "  <thead>\n",
       "    <tr style=\"text-align: right;\">\n",
       "      <th></th>\n",
       "      <th>powerPS</th>\n",
       "      <th>model</th>\n",
       "      <th>kilometer</th>\n",
       "      <th>monthOfRegistration</th>\n",
       "      <th>fuelType</th>\n",
       "      <th>price</th>\n",
       "    </tr>\n",
       "  </thead>\n",
       "  <tbody>\n",
       "    <tr>\n",
       "      <th>198</th>\n",
       "      <td>114</td>\n",
       "      <td>0</td>\n",
       "      <td>150000</td>\n",
       "      <td>9</td>\n",
       "      <td>2</td>\n",
       "      <td>124417</td>\n",
       "    </tr>\n",
       "    <tr>\n",
       "      <th>507</th>\n",
       "      <td>124</td>\n",
       "      <td>0</td>\n",
       "      <td>125000</td>\n",
       "      <td>4</td>\n",
       "      <td>0</td>\n",
       "      <td>165917</td>\n",
       "    </tr>\n",
       "    <tr>\n",
       "      <th>51</th>\n",
       "      <td>156</td>\n",
       "      <td>0</td>\n",
       "      <td>150000</td>\n",
       "      <td>1</td>\n",
       "      <td>0</td>\n",
       "      <td>165917</td>\n",
       "    </tr>\n",
       "    <tr>\n",
       "      <th>149</th>\n",
       "      <td>207</td>\n",
       "      <td>0</td>\n",
       "      <td>150000</td>\n",
       "      <td>8</td>\n",
       "      <td>0</td>\n",
       "      <td>131970</td>\n",
       "    </tr>\n",
       "    <tr>\n",
       "      <th>304</th>\n",
       "      <td>156</td>\n",
       "      <td>0</td>\n",
       "      <td>150000</td>\n",
       "      <td>7</td>\n",
       "      <td>0</td>\n",
       "      <td>107900</td>\n",
       "    </tr>\n",
       "  </tbody>\n",
       "</table>\n",
       "</div>"
      ],
      "text/plain": [
       "     powerPS  model  kilometer  monthOfRegistration  fuelType   price\n",
       "198      114      0     150000                    9         2  124417\n",
       "507      124      0     125000                    4         0  165917\n",
       "51       156      0     150000                    1         0  165917\n",
       "149      207      0     150000                    8         0  131970\n",
       "304      156      0     150000                    7         0  107900"
      ]
     },
     "execution_count": 103,
     "metadata": {},
     "output_type": "execute_result"
    }
   ],
   "source": [
    "x_train.head()"
   ]
  },
  {
   "cell_type": "code",
   "execution_count": 104,
   "id": "0aaf8806",
   "metadata": {},
   "outputs": [
    {
     "data": {
      "text/plain": [
       "198    0\n",
       "507    0\n",
       "51     0\n",
       "149    0\n",
       "304    1\n",
       "Name: notRepairedDamage, dtype: int32"
      ]
     },
     "execution_count": 104,
     "metadata": {},
     "output_type": "execute_result"
    }
   ],
   "source": [
    "y_train.head()"
   ]
  },
  {
   "cell_type": "markdown",
   "id": "eaa3a4e4",
   "metadata": {},
   "source": [
    "# DecisionTreeClassifier"
   ]
  },
  {
   "cell_type": "code",
   "execution_count": 106,
   "id": "ac564185",
   "metadata": {},
   "outputs": [],
   "source": [
    "from sklearn.tree import DecisionTreeClassifier"
   ]
  },
  {
   "cell_type": "code",
   "execution_count": 107,
   "id": "1f7b2e5b",
   "metadata": {},
   "outputs": [
    {
     "data": {
      "text/plain": [
       "DecisionTreeClassifier()"
      ]
     },
     "execution_count": 107,
     "metadata": {},
     "output_type": "execute_result"
    }
   ],
   "source": [
    "model_dtc = DecisionTreeClassifier()\n",
    "model_dtc.fit(x_train,y_train)"
   ]
  },
  {
   "cell_type": "code",
   "execution_count": 108,
   "id": "8a787a44",
   "metadata": {},
   "outputs": [],
   "source": [
    "predict_dtc = model_dtc.predict(x_test)"
   ]
  },
  {
   "cell_type": "code",
   "execution_count": 109,
   "id": "70580f30",
   "metadata": {},
   "outputs": [],
   "source": [
    "from sklearn.metrics import accuracy_score, confusion_matrix"
   ]
  },
  {
   "cell_type": "code",
   "execution_count": 110,
   "id": "4943361b",
   "metadata": {},
   "outputs": [
    {
     "data": {
      "text/plain": [
       "0.6571428571428571"
      ]
     },
     "execution_count": 110,
     "metadata": {},
     "output_type": "execute_result"
    }
   ],
   "source": [
    "accuracy_score(predict_dtc,y_test)"
   ]
  },
  {
   "cell_type": "code",
   "execution_count": 111,
   "id": "321f3cd1",
   "metadata": {},
   "outputs": [
    {
     "data": {
      "text/plain": [
       "array([[17,  7],\n",
       "       [ 5,  6]], dtype=int64)"
      ]
     },
     "execution_count": 111,
     "metadata": {},
     "output_type": "execute_result"
    }
   ],
   "source": [
    "confusion_matrix(predict_dtc,y_test)"
   ]
  },
  {
   "cell_type": "markdown",
   "id": "076bdbbe",
   "metadata": {},
   "source": [
    "# RandomForestClassifier"
   ]
  },
  {
   "cell_type": "code",
   "execution_count": 112,
   "id": "3304f203",
   "metadata": {},
   "outputs": [],
   "source": [
    "from sklearn.ensemble import RandomForestClassifier"
   ]
  },
  {
   "cell_type": "code",
   "execution_count": 113,
   "id": "8edf2ae3",
   "metadata": {},
   "outputs": [
    {
     "data": {
      "text/plain": [
       "RandomForestClassifier()"
      ]
     },
     "execution_count": 113,
     "metadata": {},
     "output_type": "execute_result"
    }
   ],
   "source": [
    "model_rfc = RandomForestClassifier()\n",
    "model_rfc.fit(x_train,y_train)"
   ]
  },
  {
   "cell_type": "code",
   "execution_count": 114,
   "id": "e7f886e3",
   "metadata": {},
   "outputs": [],
   "source": [
    "pedict_frc = model_rfc.predict(x_test)"
   ]
  },
  {
   "cell_type": "code",
   "execution_count": 115,
   "id": "89cf2d5d",
   "metadata": {},
   "outputs": [
    {
     "data": {
      "text/plain": [
       "0.6285714285714286"
      ]
     },
     "execution_count": 115,
     "metadata": {},
     "output_type": "execute_result"
    }
   ],
   "source": [
    "accuracy_score(pedict_frc,y_test)"
   ]
  },
  {
   "cell_type": "code",
   "execution_count": 116,
   "id": "9ab7c90f",
   "metadata": {},
   "outputs": [
    {
     "data": {
      "text/plain": [
       "array([[17,  8],\n",
       "       [ 5,  5]], dtype=int64)"
      ]
     },
     "execution_count": 116,
     "metadata": {},
     "output_type": "execute_result"
    }
   ],
   "source": [
    "confusion_matrix(pedict_frc,y_test)"
   ]
  },
  {
   "cell_type": "markdown",
   "id": "4192116e",
   "metadata": {},
   "source": [
    "# SVC"
   ]
  },
  {
   "cell_type": "code",
   "execution_count": 117,
   "id": "cda382ac",
   "metadata": {},
   "outputs": [],
   "source": [
    "from sklearn.svm import SVC"
   ]
  },
  {
   "cell_type": "code",
   "execution_count": 118,
   "id": "52d37eea",
   "metadata": {},
   "outputs": [
    {
     "data": {
      "text/plain": [
       "SVC()"
      ]
     },
     "execution_count": 118,
     "metadata": {},
     "output_type": "execute_result"
    }
   ],
   "source": [
    "model_svc = SVC(kernel= 'rbf')\n",
    "model_svc.fit(x_train,y_train)"
   ]
  },
  {
   "cell_type": "code",
   "execution_count": 119,
   "id": "66715d8b",
   "metadata": {},
   "outputs": [],
   "source": [
    "predict_svc = model_svc.predict(x_test)"
   ]
  },
  {
   "cell_type": "code",
   "execution_count": 120,
   "id": "a412de2e",
   "metadata": {},
   "outputs": [
    {
     "data": {
      "text/plain": [
       "0.6285714285714286"
      ]
     },
     "execution_count": 120,
     "metadata": {},
     "output_type": "execute_result"
    }
   ],
   "source": [
    "accuracy_score(predict_svc,y_test)"
   ]
  },
  {
   "cell_type": "markdown",
   "id": "2b477277",
   "metadata": {},
   "source": [
    "# All data which has been collectd and  appllied  in Classifier Model of Machine Learning are below:\n",
    "\n",
    "DecisionTreeClassifier: 0.6571428571428571\n",
    "\n",
    "RandomForestRegressor : 0.6285714285714286\n",
    "\n",
    "SVC  : 0.6285714285714286\n",
    "\n",
    "# DecisionTreeClassifier is giving the  best  results from others Regression models"
   ]
  },
  {
   "cell_type": "code",
   "execution_count": null,
   "id": "0bfebb86",
   "metadata": {},
   "outputs": [],
   "source": []
  },
  {
   "cell_type": "code",
   "execution_count": null,
   "id": "fd3861b1",
   "metadata": {},
   "outputs": [],
   "source": []
  },
  {
   "cell_type": "code",
   "execution_count": null,
   "id": "8b60932c",
   "metadata": {},
   "outputs": [],
   "source": []
  }
 ],
 "metadata": {
  "kernelspec": {
   "display_name": "Python 3 (ipykernel)",
   "language": "python",
   "name": "python3"
  },
  "language_info": {
   "codemirror_mode": {
    "name": "ipython",
    "version": 3
   },
   "file_extension": ".py",
   "mimetype": "text/x-python",
   "name": "python",
   "nbconvert_exporter": "python",
   "pygments_lexer": "ipython3",
   "version": "3.9.12"
  }
 },
 "nbformat": 4,
 "nbformat_minor": 5
}
