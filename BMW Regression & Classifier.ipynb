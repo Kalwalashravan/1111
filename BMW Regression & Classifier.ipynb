{
 "cells": [
  {
   "cell_type": "code",
   "execution_count": 1,
   "id": "34953915",
   "metadata": {},
   "outputs": [],
   "source": [
    "import numpy as np\n",
    "import pandas as pd\n",
    "import matplotlib.pyplot as plt\n",
    "import seaborn as sb"
   ]
  },
  {
   "cell_type": "code",
   "execution_count": 139,
   "id": "1a12cdb8",
   "metadata": {},
   "outputs": [],
   "source": [
    "bmw=pd.read_csv(\"C:\\\\Users\\\\kalwa\\\\Downloads\\\\Project\\\\Bmw.csv\")"
   ]
  },
  {
   "cell_type": "code",
   "execution_count": 140,
   "id": "2d08a432",
   "metadata": {},
   "outputs": [
    {
     "data": {
      "text/html": [
       "<div>\n",
       "<style scoped>\n",
       "    .dataframe tbody tr th:only-of-type {\n",
       "        vertical-align: middle;\n",
       "    }\n",
       "\n",
       "    .dataframe tbody tr th {\n",
       "        vertical-align: top;\n",
       "    }\n",
       "\n",
       "    .dataframe thead th {\n",
       "        text-align: right;\n",
       "    }\n",
       "</style>\n",
       "<table border=\"1\" class=\"dataframe\">\n",
       "  <thead>\n",
       "    <tr style=\"text-align: right;\">\n",
       "      <th></th>\n",
       "      <th>Unnamed: 0</th>\n",
       "      <th>seller</th>\n",
       "      <th>offerType</th>\n",
       "      <th>vehicleType</th>\n",
       "      <th>yearOfRegistration</th>\n",
       "      <th>gearbox</th>\n",
       "      <th>powerPS</th>\n",
       "      <th>model</th>\n",
       "      <th>kilometer</th>\n",
       "      <th>monthOfRegistration</th>\n",
       "      <th>fuelType</th>\n",
       "      <th>brand</th>\n",
       "      <th>notRepairedDamage</th>\n",
       "      <th>price</th>\n",
       "      <th>Years_group</th>\n",
       "    </tr>\n",
       "  </thead>\n",
       "  <tbody>\n",
       "    <tr>\n",
       "      <th>0</th>\n",
       "      <td>1030</td>\n",
       "      <td>privat</td>\n",
       "      <td>Angebot</td>\n",
       "      <td>suv</td>\n",
       "      <td>2014</td>\n",
       "      <td>automatik</td>\n",
       "      <td>190</td>\n",
       "      <td>x_reihe</td>\n",
       "      <td>30000</td>\n",
       "      <td>8</td>\n",
       "      <td>diesel</td>\n",
       "      <td>bmw</td>\n",
       "      <td>No</td>\n",
       "      <td>3527500</td>\n",
       "      <td>2011-2020</td>\n",
       "    </tr>\n",
       "    <tr>\n",
       "      <th>1</th>\n",
       "      <td>1332</td>\n",
       "      <td>privat</td>\n",
       "      <td>Angebot</td>\n",
       "      <td>suv</td>\n",
       "      <td>2011</td>\n",
       "      <td>automatik</td>\n",
       "      <td>184</td>\n",
       "      <td>x_reihe</td>\n",
       "      <td>60000</td>\n",
       "      <td>6</td>\n",
       "      <td>diesel</td>\n",
       "      <td>bmw</td>\n",
       "      <td>No</td>\n",
       "      <td>2772200</td>\n",
       "      <td>2011-2020</td>\n",
       "    </tr>\n",
       "    <tr>\n",
       "      <th>2</th>\n",
       "      <td>1650</td>\n",
       "      <td>privat</td>\n",
       "      <td>Angebot</td>\n",
       "      <td>suv</td>\n",
       "      <td>2011</td>\n",
       "      <td>automatik</td>\n",
       "      <td>245</td>\n",
       "      <td>x_reihe</td>\n",
       "      <td>125000</td>\n",
       "      <td>1</td>\n",
       "      <td>diesel</td>\n",
       "      <td>bmw</td>\n",
       "      <td>No</td>\n",
       "      <td>2232700</td>\n",
       "      <td>2011-2020</td>\n",
       "    </tr>\n",
       "    <tr>\n",
       "      <th>3</th>\n",
       "      <td>1846</td>\n",
       "      <td>privat</td>\n",
       "      <td>Angebot</td>\n",
       "      <td>suv</td>\n",
       "      <td>2010</td>\n",
       "      <td>automatik</td>\n",
       "      <td>177</td>\n",
       "      <td>x_reihe</td>\n",
       "      <td>125000</td>\n",
       "      <td>1</td>\n",
       "      <td>diesel</td>\n",
       "      <td>bmw</td>\n",
       "      <td>No</td>\n",
       "      <td>1659917</td>\n",
       "      <td>2001-2010</td>\n",
       "    </tr>\n",
       "    <tr>\n",
       "      <th>4</th>\n",
       "      <td>1918</td>\n",
       "      <td>privat</td>\n",
       "      <td>Angebot</td>\n",
       "      <td>suv</td>\n",
       "      <td>2004</td>\n",
       "      <td>manuell</td>\n",
       "      <td>150</td>\n",
       "      <td>x_reihe</td>\n",
       "      <td>125000</td>\n",
       "      <td>12</td>\n",
       "      <td>diesel</td>\n",
       "      <td>bmw</td>\n",
       "      <td>No</td>\n",
       "      <td>987700</td>\n",
       "      <td>2001-2010</td>\n",
       "    </tr>\n",
       "    <tr>\n",
       "      <th>...</th>\n",
       "      <td>...</td>\n",
       "      <td>...</td>\n",
       "      <td>...</td>\n",
       "      <td>...</td>\n",
       "      <td>...</td>\n",
       "      <td>...</td>\n",
       "      <td>...</td>\n",
       "      <td>...</td>\n",
       "      <td>...</td>\n",
       "      <td>...</td>\n",
       "      <td>...</td>\n",
       "      <td>...</td>\n",
       "      <td>...</td>\n",
       "      <td>...</td>\n",
       "      <td>...</td>\n",
       "    </tr>\n",
       "    <tr>\n",
       "      <th>827</th>\n",
       "      <td>248370</td>\n",
       "      <td>privat</td>\n",
       "      <td>Angebot</td>\n",
       "      <td>suv</td>\n",
       "      <td>2004</td>\n",
       "      <td>automatik</td>\n",
       "      <td>192</td>\n",
       "      <td>x_reihe</td>\n",
       "      <td>150000</td>\n",
       "      <td>7</td>\n",
       "      <td>lpg</td>\n",
       "      <td>bmw</td>\n",
       "      <td>No</td>\n",
       "      <td>489700</td>\n",
       "      <td>2001-2010</td>\n",
       "    </tr>\n",
       "    <tr>\n",
       "      <th>828</th>\n",
       "      <td>248601</td>\n",
       "      <td>privat</td>\n",
       "      <td>Angebot</td>\n",
       "      <td>suv</td>\n",
       "      <td>2005</td>\n",
       "      <td>manuell</td>\n",
       "      <td>218</td>\n",
       "      <td>x_reihe</td>\n",
       "      <td>150000</td>\n",
       "      <td>12</td>\n",
       "      <td>diesel</td>\n",
       "      <td>bmw</td>\n",
       "      <td>No</td>\n",
       "      <td>821700</td>\n",
       "      <td>2001-2010</td>\n",
       "    </tr>\n",
       "    <tr>\n",
       "      <th>829</th>\n",
       "      <td>248719</td>\n",
       "      <td>privat</td>\n",
       "      <td>Angebot</td>\n",
       "      <td>suv</td>\n",
       "      <td>2012</td>\n",
       "      <td>automatik</td>\n",
       "      <td>245</td>\n",
       "      <td>x_reihe</td>\n",
       "      <td>90000</td>\n",
       "      <td>9</td>\n",
       "      <td>diesel</td>\n",
       "      <td>bmw</td>\n",
       "      <td>No</td>\n",
       "      <td>3141550</td>\n",
       "      <td>2011-2020</td>\n",
       "    </tr>\n",
       "    <tr>\n",
       "      <th>830</th>\n",
       "      <td>248896</td>\n",
       "      <td>privat</td>\n",
       "      <td>Angebot</td>\n",
       "      <td>suv</td>\n",
       "      <td>2008</td>\n",
       "      <td>automatik</td>\n",
       "      <td>286</td>\n",
       "      <td>x_reihe</td>\n",
       "      <td>100000</td>\n",
       "      <td>12</td>\n",
       "      <td>diesel</td>\n",
       "      <td>bmw</td>\n",
       "      <td>No</td>\n",
       "      <td>1012600</td>\n",
       "      <td>2001-2010</td>\n",
       "    </tr>\n",
       "    <tr>\n",
       "      <th>831</th>\n",
       "      <td>249033</td>\n",
       "      <td>privat</td>\n",
       "      <td>Angebot</td>\n",
       "      <td>suv</td>\n",
       "      <td>2008</td>\n",
       "      <td>automatik</td>\n",
       "      <td>235</td>\n",
       "      <td>x_reihe</td>\n",
       "      <td>100000</td>\n",
       "      <td>1</td>\n",
       "      <td>diesel</td>\n",
       "      <td>bmw</td>\n",
       "      <td>No</td>\n",
       "      <td>1950500</td>\n",
       "      <td>2001-2010</td>\n",
       "    </tr>\n",
       "  </tbody>\n",
       "</table>\n",
       "<p>832 rows × 15 columns</p>\n",
       "</div>"
      ],
      "text/plain": [
       "     Unnamed: 0  seller offerType vehicleType  yearOfRegistration    gearbox  \\\n",
       "0          1030  privat   Angebot         suv                2014  automatik   \n",
       "1          1332  privat   Angebot         suv                2011  automatik   \n",
       "2          1650  privat   Angebot         suv                2011  automatik   \n",
       "3          1846  privat   Angebot         suv                2010  automatik   \n",
       "4          1918  privat   Angebot         suv                2004    manuell   \n",
       "..          ...     ...       ...         ...                 ...        ...   \n",
       "827      248370  privat   Angebot         suv                2004  automatik   \n",
       "828      248601  privat   Angebot         suv                2005    manuell   \n",
       "829      248719  privat   Angebot         suv                2012  automatik   \n",
       "830      248896  privat   Angebot         suv                2008  automatik   \n",
       "831      249033  privat   Angebot         suv                2008  automatik   \n",
       "\n",
       "     powerPS    model  kilometer  monthOfRegistration fuelType brand  \\\n",
       "0        190  x_reihe      30000                    8   diesel   bmw   \n",
       "1        184  x_reihe      60000                    6   diesel   bmw   \n",
       "2        245  x_reihe     125000                    1   diesel   bmw   \n",
       "3        177  x_reihe     125000                    1   diesel   bmw   \n",
       "4        150  x_reihe     125000                   12   diesel   bmw   \n",
       "..       ...      ...        ...                  ...      ...   ...   \n",
       "827      192  x_reihe     150000                    7      lpg   bmw   \n",
       "828      218  x_reihe     150000                   12   diesel   bmw   \n",
       "829      245  x_reihe      90000                    9   diesel   bmw   \n",
       "830      286  x_reihe     100000                   12   diesel   bmw   \n",
       "831      235  x_reihe     100000                    1   diesel   bmw   \n",
       "\n",
       "    notRepairedDamage    price Years_group  \n",
       "0                  No  3527500   2011-2020  \n",
       "1                  No  2772200   2011-2020  \n",
       "2                  No  2232700   2011-2020  \n",
       "3                  No  1659917   2001-2010  \n",
       "4                  No   987700   2001-2010  \n",
       "..                ...      ...         ...  \n",
       "827                No   489700   2001-2010  \n",
       "828                No   821700   2001-2010  \n",
       "829                No  3141550   2011-2020  \n",
       "830                No  1012600   2001-2010  \n",
       "831                No  1950500   2001-2010  \n",
       "\n",
       "[832 rows x 15 columns]"
      ]
     },
     "execution_count": 140,
     "metadata": {},
     "output_type": "execute_result"
    }
   ],
   "source": [
    "bmw"
   ]
  },
  {
   "cell_type": "code",
   "execution_count": 5,
   "id": "f5d3974e",
   "metadata": {},
   "outputs": [
    {
     "data": {
      "text/html": [
       "<div>\n",
       "<style scoped>\n",
       "    .dataframe tbody tr th:only-of-type {\n",
       "        vertical-align: middle;\n",
       "    }\n",
       "\n",
       "    .dataframe tbody tr th {\n",
       "        vertical-align: top;\n",
       "    }\n",
       "\n",
       "    .dataframe thead th {\n",
       "        text-align: right;\n",
       "    }\n",
       "</style>\n",
       "<table border=\"1\" class=\"dataframe\">\n",
       "  <thead>\n",
       "    <tr style=\"text-align: right;\">\n",
       "      <th></th>\n",
       "      <th>Unnamed: 0</th>\n",
       "      <th>seller</th>\n",
       "      <th>offerType</th>\n",
       "      <th>vehicleType</th>\n",
       "      <th>yearOfRegistration</th>\n",
       "      <th>gearbox</th>\n",
       "      <th>powerPS</th>\n",
       "      <th>model</th>\n",
       "      <th>kilometer</th>\n",
       "      <th>monthOfRegistration</th>\n",
       "      <th>fuelType</th>\n",
       "      <th>brand</th>\n",
       "      <th>notRepairedDamage</th>\n",
       "      <th>price</th>\n",
       "      <th>Years_group</th>\n",
       "    </tr>\n",
       "  </thead>\n",
       "  <tbody>\n",
       "    <tr>\n",
       "      <th>0</th>\n",
       "      <td>1030</td>\n",
       "      <td>privat</td>\n",
       "      <td>Angebot</td>\n",
       "      <td>suv</td>\n",
       "      <td>2014</td>\n",
       "      <td>automatik</td>\n",
       "      <td>190</td>\n",
       "      <td>x_reihe</td>\n",
       "      <td>30000</td>\n",
       "      <td>8</td>\n",
       "      <td>diesel</td>\n",
       "      <td>bmw</td>\n",
       "      <td>No</td>\n",
       "      <td>3527500</td>\n",
       "      <td>2011-2020</td>\n",
       "    </tr>\n",
       "    <tr>\n",
       "      <th>1</th>\n",
       "      <td>1332</td>\n",
       "      <td>privat</td>\n",
       "      <td>Angebot</td>\n",
       "      <td>suv</td>\n",
       "      <td>2011</td>\n",
       "      <td>automatik</td>\n",
       "      <td>184</td>\n",
       "      <td>x_reihe</td>\n",
       "      <td>60000</td>\n",
       "      <td>6</td>\n",
       "      <td>diesel</td>\n",
       "      <td>bmw</td>\n",
       "      <td>No</td>\n",
       "      <td>2772200</td>\n",
       "      <td>2011-2020</td>\n",
       "    </tr>\n",
       "    <tr>\n",
       "      <th>2</th>\n",
       "      <td>1650</td>\n",
       "      <td>privat</td>\n",
       "      <td>Angebot</td>\n",
       "      <td>suv</td>\n",
       "      <td>2011</td>\n",
       "      <td>automatik</td>\n",
       "      <td>245</td>\n",
       "      <td>x_reihe</td>\n",
       "      <td>125000</td>\n",
       "      <td>1</td>\n",
       "      <td>diesel</td>\n",
       "      <td>bmw</td>\n",
       "      <td>No</td>\n",
       "      <td>2232700</td>\n",
       "      <td>2011-2020</td>\n",
       "    </tr>\n",
       "    <tr>\n",
       "      <th>3</th>\n",
       "      <td>1846</td>\n",
       "      <td>privat</td>\n",
       "      <td>Angebot</td>\n",
       "      <td>suv</td>\n",
       "      <td>2010</td>\n",
       "      <td>automatik</td>\n",
       "      <td>177</td>\n",
       "      <td>x_reihe</td>\n",
       "      <td>125000</td>\n",
       "      <td>1</td>\n",
       "      <td>diesel</td>\n",
       "      <td>bmw</td>\n",
       "      <td>No</td>\n",
       "      <td>1659917</td>\n",
       "      <td>2001-2010</td>\n",
       "    </tr>\n",
       "    <tr>\n",
       "      <th>4</th>\n",
       "      <td>1918</td>\n",
       "      <td>privat</td>\n",
       "      <td>Angebot</td>\n",
       "      <td>suv</td>\n",
       "      <td>2004</td>\n",
       "      <td>manuell</td>\n",
       "      <td>150</td>\n",
       "      <td>x_reihe</td>\n",
       "      <td>125000</td>\n",
       "      <td>12</td>\n",
       "      <td>diesel</td>\n",
       "      <td>bmw</td>\n",
       "      <td>No</td>\n",
       "      <td>987700</td>\n",
       "      <td>2001-2010</td>\n",
       "    </tr>\n",
       "  </tbody>\n",
       "</table>\n",
       "</div>"
      ],
      "text/plain": [
       "   Unnamed: 0  seller offerType vehicleType  yearOfRegistration    gearbox  \\\n",
       "0        1030  privat   Angebot         suv                2014  automatik   \n",
       "1        1332  privat   Angebot         suv                2011  automatik   \n",
       "2        1650  privat   Angebot         suv                2011  automatik   \n",
       "3        1846  privat   Angebot         suv                2010  automatik   \n",
       "4        1918  privat   Angebot         suv                2004    manuell   \n",
       "\n",
       "   powerPS    model  kilometer  monthOfRegistration fuelType brand  \\\n",
       "0      190  x_reihe      30000                    8   diesel   bmw   \n",
       "1      184  x_reihe      60000                    6   diesel   bmw   \n",
       "2      245  x_reihe     125000                    1   diesel   bmw   \n",
       "3      177  x_reihe     125000                    1   diesel   bmw   \n",
       "4      150  x_reihe     125000                   12   diesel   bmw   \n",
       "\n",
       "  notRepairedDamage    price Years_group  \n",
       "0                No  3527500   2011-2020  \n",
       "1                No  2772200   2011-2020  \n",
       "2                No  2232700   2011-2020  \n",
       "3                No  1659917   2001-2010  \n",
       "4                No   987700   2001-2010  "
      ]
     },
     "execution_count": 5,
     "metadata": {},
     "output_type": "execute_result"
    }
   ],
   "source": [
    "bmw.head()"
   ]
  },
  {
   "cell_type": "code",
   "execution_count": 6,
   "id": "cffb4e31",
   "metadata": {},
   "outputs": [
    {
     "data": {
      "text/html": [
       "<div>\n",
       "<style scoped>\n",
       "    .dataframe tbody tr th:only-of-type {\n",
       "        vertical-align: middle;\n",
       "    }\n",
       "\n",
       "    .dataframe tbody tr th {\n",
       "        vertical-align: top;\n",
       "    }\n",
       "\n",
       "    .dataframe thead th {\n",
       "        text-align: right;\n",
       "    }\n",
       "</style>\n",
       "<table border=\"1\" class=\"dataframe\">\n",
       "  <thead>\n",
       "    <tr style=\"text-align: right;\">\n",
       "      <th></th>\n",
       "      <th>Unnamed: 0</th>\n",
       "      <th>seller</th>\n",
       "      <th>offerType</th>\n",
       "      <th>vehicleType</th>\n",
       "      <th>yearOfRegistration</th>\n",
       "      <th>gearbox</th>\n",
       "      <th>powerPS</th>\n",
       "      <th>model</th>\n",
       "      <th>kilometer</th>\n",
       "      <th>monthOfRegistration</th>\n",
       "      <th>fuelType</th>\n",
       "      <th>brand</th>\n",
       "      <th>notRepairedDamage</th>\n",
       "      <th>price</th>\n",
       "      <th>Years_group</th>\n",
       "    </tr>\n",
       "  </thead>\n",
       "  <tbody>\n",
       "    <tr>\n",
       "      <th>827</th>\n",
       "      <td>248370</td>\n",
       "      <td>privat</td>\n",
       "      <td>Angebot</td>\n",
       "      <td>suv</td>\n",
       "      <td>2004</td>\n",
       "      <td>automatik</td>\n",
       "      <td>192</td>\n",
       "      <td>x_reihe</td>\n",
       "      <td>150000</td>\n",
       "      <td>7</td>\n",
       "      <td>lpg</td>\n",
       "      <td>bmw</td>\n",
       "      <td>No</td>\n",
       "      <td>489700</td>\n",
       "      <td>2001-2010</td>\n",
       "    </tr>\n",
       "    <tr>\n",
       "      <th>828</th>\n",
       "      <td>248601</td>\n",
       "      <td>privat</td>\n",
       "      <td>Angebot</td>\n",
       "      <td>suv</td>\n",
       "      <td>2005</td>\n",
       "      <td>manuell</td>\n",
       "      <td>218</td>\n",
       "      <td>x_reihe</td>\n",
       "      <td>150000</td>\n",
       "      <td>12</td>\n",
       "      <td>diesel</td>\n",
       "      <td>bmw</td>\n",
       "      <td>No</td>\n",
       "      <td>821700</td>\n",
       "      <td>2001-2010</td>\n",
       "    </tr>\n",
       "    <tr>\n",
       "      <th>829</th>\n",
       "      <td>248719</td>\n",
       "      <td>privat</td>\n",
       "      <td>Angebot</td>\n",
       "      <td>suv</td>\n",
       "      <td>2012</td>\n",
       "      <td>automatik</td>\n",
       "      <td>245</td>\n",
       "      <td>x_reihe</td>\n",
       "      <td>90000</td>\n",
       "      <td>9</td>\n",
       "      <td>diesel</td>\n",
       "      <td>bmw</td>\n",
       "      <td>No</td>\n",
       "      <td>3141550</td>\n",
       "      <td>2011-2020</td>\n",
       "    </tr>\n",
       "    <tr>\n",
       "      <th>830</th>\n",
       "      <td>248896</td>\n",
       "      <td>privat</td>\n",
       "      <td>Angebot</td>\n",
       "      <td>suv</td>\n",
       "      <td>2008</td>\n",
       "      <td>automatik</td>\n",
       "      <td>286</td>\n",
       "      <td>x_reihe</td>\n",
       "      <td>100000</td>\n",
       "      <td>12</td>\n",
       "      <td>diesel</td>\n",
       "      <td>bmw</td>\n",
       "      <td>No</td>\n",
       "      <td>1012600</td>\n",
       "      <td>2001-2010</td>\n",
       "    </tr>\n",
       "    <tr>\n",
       "      <th>831</th>\n",
       "      <td>249033</td>\n",
       "      <td>privat</td>\n",
       "      <td>Angebot</td>\n",
       "      <td>suv</td>\n",
       "      <td>2008</td>\n",
       "      <td>automatik</td>\n",
       "      <td>235</td>\n",
       "      <td>x_reihe</td>\n",
       "      <td>100000</td>\n",
       "      <td>1</td>\n",
       "      <td>diesel</td>\n",
       "      <td>bmw</td>\n",
       "      <td>No</td>\n",
       "      <td>1950500</td>\n",
       "      <td>2001-2010</td>\n",
       "    </tr>\n",
       "  </tbody>\n",
       "</table>\n",
       "</div>"
      ],
      "text/plain": [
       "     Unnamed: 0  seller offerType vehicleType  yearOfRegistration    gearbox  \\\n",
       "827      248370  privat   Angebot         suv                2004  automatik   \n",
       "828      248601  privat   Angebot         suv                2005    manuell   \n",
       "829      248719  privat   Angebot         suv                2012  automatik   \n",
       "830      248896  privat   Angebot         suv                2008  automatik   \n",
       "831      249033  privat   Angebot         suv                2008  automatik   \n",
       "\n",
       "     powerPS    model  kilometer  monthOfRegistration fuelType brand  \\\n",
       "827      192  x_reihe     150000                    7      lpg   bmw   \n",
       "828      218  x_reihe     150000                   12   diesel   bmw   \n",
       "829      245  x_reihe      90000                    9   diesel   bmw   \n",
       "830      286  x_reihe     100000                   12   diesel   bmw   \n",
       "831      235  x_reihe     100000                    1   diesel   bmw   \n",
       "\n",
       "    notRepairedDamage    price Years_group  \n",
       "827                No   489700   2001-2010  \n",
       "828                No   821700   2001-2010  \n",
       "829                No  3141550   2011-2020  \n",
       "830                No  1012600   2001-2010  \n",
       "831                No  1950500   2001-2010  "
      ]
     },
     "execution_count": 6,
     "metadata": {},
     "output_type": "execute_result"
    }
   ],
   "source": [
    "bmw.tail()"
   ]
  },
  {
   "cell_type": "code",
   "execution_count": 7,
   "id": "18a3977b",
   "metadata": {},
   "outputs": [
    {
     "data": {
      "text/html": [
       "<div>\n",
       "<style scoped>\n",
       "    .dataframe tbody tr th:only-of-type {\n",
       "        vertical-align: middle;\n",
       "    }\n",
       "\n",
       "    .dataframe tbody tr th {\n",
       "        vertical-align: top;\n",
       "    }\n",
       "\n",
       "    .dataframe thead th {\n",
       "        text-align: right;\n",
       "    }\n",
       "</style>\n",
       "<table border=\"1\" class=\"dataframe\">\n",
       "  <thead>\n",
       "    <tr style=\"text-align: right;\">\n",
       "      <th></th>\n",
       "      <th>Unnamed: 0</th>\n",
       "      <th>seller</th>\n",
       "      <th>offerType</th>\n",
       "      <th>vehicleType</th>\n",
       "      <th>yearOfRegistration</th>\n",
       "      <th>gearbox</th>\n",
       "      <th>powerPS</th>\n",
       "      <th>model</th>\n",
       "      <th>kilometer</th>\n",
       "      <th>monthOfRegistration</th>\n",
       "      <th>fuelType</th>\n",
       "      <th>brand</th>\n",
       "      <th>notRepairedDamage</th>\n",
       "      <th>price</th>\n",
       "      <th>Years_group</th>\n",
       "    </tr>\n",
       "  </thead>\n",
       "  <tbody>\n",
       "    <tr>\n",
       "      <th>333</th>\n",
       "      <td>97898</td>\n",
       "      <td>privat</td>\n",
       "      <td>Angebot</td>\n",
       "      <td>suv</td>\n",
       "      <td>2000</td>\n",
       "      <td>automatik</td>\n",
       "      <td>286</td>\n",
       "      <td>x_reihe</td>\n",
       "      <td>150000</td>\n",
       "      <td>0</td>\n",
       "      <td>benzin</td>\n",
       "      <td>bmw</td>\n",
       "      <td>No</td>\n",
       "      <td>539500</td>\n",
       "      <td>1991-2000</td>\n",
       "    </tr>\n",
       "  </tbody>\n",
       "</table>\n",
       "</div>"
      ],
      "text/plain": [
       "     Unnamed: 0  seller offerType vehicleType  yearOfRegistration    gearbox  \\\n",
       "333       97898  privat   Angebot         suv                2000  automatik   \n",
       "\n",
       "     powerPS    model  kilometer  monthOfRegistration fuelType brand  \\\n",
       "333      286  x_reihe     150000                    0   benzin   bmw   \n",
       "\n",
       "    notRepairedDamage   price Years_group  \n",
       "333                No  539500   1991-2000  "
      ]
     },
     "execution_count": 7,
     "metadata": {},
     "output_type": "execute_result"
    }
   ],
   "source": [
    "bmw.sample()"
   ]
  },
  {
   "cell_type": "code",
   "execution_count": 8,
   "id": "0dbe6455",
   "metadata": {},
   "outputs": [
    {
     "data": {
      "text/plain": [
       "2"
      ]
     },
     "execution_count": 8,
     "metadata": {},
     "output_type": "execute_result"
    }
   ],
   "source": [
    "bmw.ndim"
   ]
  },
  {
   "cell_type": "code",
   "execution_count": 9,
   "id": "2d663193",
   "metadata": {},
   "outputs": [
    {
     "name": "stdout",
     "output_type": "stream",
     "text": [
      "<class 'pandas.core.frame.DataFrame'>\n",
      "RangeIndex: 832 entries, 0 to 831\n",
      "Data columns (total 15 columns):\n",
      " #   Column               Non-Null Count  Dtype \n",
      "---  ------               --------------  ----- \n",
      " 0   Unnamed: 0           832 non-null    int64 \n",
      " 1   seller               832 non-null    object\n",
      " 2   offerType            832 non-null    object\n",
      " 3   vehicleType          832 non-null    object\n",
      " 4   yearOfRegistration   832 non-null    int64 \n",
      " 5   gearbox              832 non-null    object\n",
      " 6   powerPS              832 non-null    int64 \n",
      " 7   model                832 non-null    object\n",
      " 8   kilometer            832 non-null    int64 \n",
      " 9   monthOfRegistration  832 non-null    int64 \n",
      " 10  fuelType             832 non-null    object\n",
      " 11  brand                832 non-null    object\n",
      " 12  notRepairedDamage    832 non-null    object\n",
      " 13  price                832 non-null    int64 \n",
      " 14  Years_group          832 non-null    object\n",
      "dtypes: int64(6), object(9)\n",
      "memory usage: 97.6+ KB\n"
     ]
    }
   ],
   "source": [
    "bmw.info()"
   ]
  },
  {
   "cell_type": "code",
   "execution_count": 10,
   "id": "90168f38",
   "metadata": {},
   "outputs": [
    {
     "data": {
      "text/plain": [
       "Unnamed: 0             832\n",
       "seller                   1\n",
       "offerType                1\n",
       "vehicleType              1\n",
       "yearOfRegistration      18\n",
       "gearbox                  2\n",
       "powerPS                 58\n",
       "model                    5\n",
       "kilometer               13\n",
       "monthOfRegistration     13\n",
       "fuelType                 4\n",
       "brand                    1\n",
       "notRepairedDamage        2\n",
       "price                  395\n",
       "Years_group              3\n",
       "dtype: int64"
      ]
     },
     "execution_count": 10,
     "metadata": {},
     "output_type": "execute_result"
    }
   ],
   "source": [
    "bmw.nunique()"
   ]
  },
  {
   "cell_type": "code",
   "execution_count": 12,
   "id": "cb02b6a3",
   "metadata": {},
   "outputs": [
    {
     "data": {
      "text/plain": [
       "Unnamed: 0             0\n",
       "seller                 0\n",
       "offerType              0\n",
       "vehicleType            0\n",
       "yearOfRegistration     0\n",
       "gearbox                0\n",
       "powerPS                0\n",
       "model                  0\n",
       "kilometer              0\n",
       "monthOfRegistration    0\n",
       "fuelType               0\n",
       "brand                  0\n",
       "notRepairedDamage      0\n",
       "price                  0\n",
       "Years_group            0\n",
       "dtype: int64"
      ]
     },
     "execution_count": 12,
     "metadata": {},
     "output_type": "execute_result"
    }
   ],
   "source": [
    "bmw.isnull().sum()"
   ]
  },
  {
   "cell_type": "code",
   "execution_count": 13,
   "id": "4a69538a",
   "metadata": {},
   "outputs": [
    {
     "data": {
      "text/html": [
       "<div>\n",
       "<style scoped>\n",
       "    .dataframe tbody tr th:only-of-type {\n",
       "        vertical-align: middle;\n",
       "    }\n",
       "\n",
       "    .dataframe tbody tr th {\n",
       "        vertical-align: top;\n",
       "    }\n",
       "\n",
       "    .dataframe thead th {\n",
       "        text-align: right;\n",
       "    }\n",
       "</style>\n",
       "<table border=\"1\" class=\"dataframe\">\n",
       "  <thead>\n",
       "    <tr style=\"text-align: right;\">\n",
       "      <th></th>\n",
       "      <th>Unnamed: 0</th>\n",
       "      <th>yearOfRegistration</th>\n",
       "      <th>powerPS</th>\n",
       "      <th>kilometer</th>\n",
       "      <th>monthOfRegistration</th>\n",
       "      <th>price</th>\n",
       "    </tr>\n",
       "  </thead>\n",
       "  <tbody>\n",
       "    <tr>\n",
       "      <th>count</th>\n",
       "      <td>832.000000</td>\n",
       "      <td>832.000000</td>\n",
       "      <td>832.000000</td>\n",
       "      <td>832.000000</td>\n",
       "      <td>832.000000</td>\n",
       "      <td>8.320000e+02</td>\n",
       "    </tr>\n",
       "    <tr>\n",
       "      <th>mean</th>\n",
       "      <td>123808.651442</td>\n",
       "      <td>2007.447115</td>\n",
       "      <td>209.612981</td>\n",
       "      <td>122944.711538</td>\n",
       "      <td>6.674279</td>\n",
       "      <td>1.405709e+06</td>\n",
       "    </tr>\n",
       "    <tr>\n",
       "      <th>std</th>\n",
       "      <td>72363.295040</td>\n",
       "      <td>3.504454</td>\n",
       "      <td>65.894725</td>\n",
       "      <td>41175.353007</td>\n",
       "      <td>3.599493</td>\n",
       "      <td>8.919607e+05</td>\n",
       "    </tr>\n",
       "    <tr>\n",
       "      <th>min</th>\n",
       "      <td>1030.000000</td>\n",
       "      <td>1999.000000</td>\n",
       "      <td>0.000000</td>\n",
       "      <td>5000.000000</td>\n",
       "      <td>0.000000</td>\n",
       "      <td>0.000000e+00</td>\n",
       "    </tr>\n",
       "    <tr>\n",
       "      <th>25%</th>\n",
       "      <td>61484.000000</td>\n",
       "      <td>2005.000000</td>\n",
       "      <td>177.000000</td>\n",
       "      <td>100000.000000</td>\n",
       "      <td>4.000000</td>\n",
       "      <td>7.885000e+05</td>\n",
       "    </tr>\n",
       "    <tr>\n",
       "      <th>50%</th>\n",
       "      <td>120737.500000</td>\n",
       "      <td>2007.000000</td>\n",
       "      <td>218.000000</td>\n",
       "      <td>150000.000000</td>\n",
       "      <td>7.000000</td>\n",
       "      <td>1.120500e+06</td>\n",
       "    </tr>\n",
       "    <tr>\n",
       "      <th>75%</th>\n",
       "      <td>188872.000000</td>\n",
       "      <td>2010.000000</td>\n",
       "      <td>235.000000</td>\n",
       "      <td>150000.000000</td>\n",
       "      <td>10.000000</td>\n",
       "      <td>1.826000e+06</td>\n",
       "    </tr>\n",
       "    <tr>\n",
       "      <th>max</th>\n",
       "      <td>249033.000000</td>\n",
       "      <td>2016.000000</td>\n",
       "      <td>555.000000</td>\n",
       "      <td>150000.000000</td>\n",
       "      <td>12.000000</td>\n",
       "      <td>4.979917e+06</td>\n",
       "    </tr>\n",
       "  </tbody>\n",
       "</table>\n",
       "</div>"
      ],
      "text/plain": [
       "          Unnamed: 0  yearOfRegistration     powerPS      kilometer  \\\n",
       "count     832.000000          832.000000  832.000000     832.000000   \n",
       "mean   123808.651442         2007.447115  209.612981  122944.711538   \n",
       "std     72363.295040            3.504454   65.894725   41175.353007   \n",
       "min      1030.000000         1999.000000    0.000000    5000.000000   \n",
       "25%     61484.000000         2005.000000  177.000000  100000.000000   \n",
       "50%    120737.500000         2007.000000  218.000000  150000.000000   \n",
       "75%    188872.000000         2010.000000  235.000000  150000.000000   \n",
       "max    249033.000000         2016.000000  555.000000  150000.000000   \n",
       "\n",
       "       monthOfRegistration         price  \n",
       "count           832.000000  8.320000e+02  \n",
       "mean              6.674279  1.405709e+06  \n",
       "std               3.599493  8.919607e+05  \n",
       "min               0.000000  0.000000e+00  \n",
       "25%               4.000000  7.885000e+05  \n",
       "50%               7.000000  1.120500e+06  \n",
       "75%              10.000000  1.826000e+06  \n",
       "max              12.000000  4.979917e+06  "
      ]
     },
     "execution_count": 13,
     "metadata": {},
     "output_type": "execute_result"
    }
   ],
   "source": [
    "bmw.describe()"
   ]
  },
  {
   "cell_type": "code",
   "execution_count": 14,
   "id": "e3cdbbed",
   "metadata": {},
   "outputs": [
    {
     "data": {
      "text/html": [
       "<div>\n",
       "<style scoped>\n",
       "    .dataframe tbody tr th:only-of-type {\n",
       "        vertical-align: middle;\n",
       "    }\n",
       "\n",
       "    .dataframe tbody tr th {\n",
       "        vertical-align: top;\n",
       "    }\n",
       "\n",
       "    .dataframe thead th {\n",
       "        text-align: right;\n",
       "    }\n",
       "</style>\n",
       "<table border=\"1\" class=\"dataframe\">\n",
       "  <thead>\n",
       "    <tr style=\"text-align: right;\">\n",
       "      <th></th>\n",
       "      <th>Unnamed: 0</th>\n",
       "      <th>seller</th>\n",
       "      <th>offerType</th>\n",
       "      <th>vehicleType</th>\n",
       "      <th>yearOfRegistration</th>\n",
       "      <th>gearbox</th>\n",
       "      <th>powerPS</th>\n",
       "      <th>model</th>\n",
       "      <th>kilometer</th>\n",
       "      <th>monthOfRegistration</th>\n",
       "      <th>fuelType</th>\n",
       "      <th>brand</th>\n",
       "      <th>notRepairedDamage</th>\n",
       "      <th>price</th>\n",
       "      <th>Years_group</th>\n",
       "    </tr>\n",
       "  </thead>\n",
       "  <tbody>\n",
       "    <tr>\n",
       "      <th>217</th>\n",
       "      <td>63609</td>\n",
       "      <td>privat</td>\n",
       "      <td>Angebot</td>\n",
       "      <td>suv</td>\n",
       "      <td>2009</td>\n",
       "      <td>automatik</td>\n",
       "      <td>286</td>\n",
       "      <td>x_reihe</td>\n",
       "      <td>150000</td>\n",
       "      <td>3</td>\n",
       "      <td>diesel</td>\n",
       "      <td>bmw</td>\n",
       "      <td>No</td>\n",
       "      <td>2863500</td>\n",
       "      <td>2001-2010</td>\n",
       "    </tr>\n",
       "  </tbody>\n",
       "</table>\n",
       "</div>"
      ],
      "text/plain": [
       "     Unnamed: 0  seller offerType vehicleType  yearOfRegistration    gearbox  \\\n",
       "217       63609  privat   Angebot         suv                2009  automatik   \n",
       "\n",
       "     powerPS    model  kilometer  monthOfRegistration fuelType brand  \\\n",
       "217      286  x_reihe     150000                    3   diesel   bmw   \n",
       "\n",
       "    notRepairedDamage    price Years_group  \n",
       "217                No  2863500   2001-2010  "
      ]
     },
     "execution_count": 14,
     "metadata": {},
     "output_type": "execute_result"
    }
   ],
   "source": [
    "bmw.sample()"
   ]
  },
  {
   "cell_type": "code",
   "execution_count": 15,
   "id": "a4a56fc4",
   "metadata": {},
   "outputs": [
    {
     "data": {
      "text/plain": [
       "2008    107\n",
       "2007     98\n",
       "2004     95\n",
       "2006     88\n",
       "2005     75\n",
       "2011     64\n",
       "2010     49\n",
       "2009     49\n",
       "2012     48\n",
       "2003     37\n",
       "2015     25\n",
       "2002     25\n",
       "2014     21\n",
       "2001     21\n",
       "2013     14\n",
       "2016      8\n",
       "2000      7\n",
       "1999      1\n",
       "Name: yearOfRegistration, dtype: int64"
      ]
     },
     "execution_count": 15,
     "metadata": {},
     "output_type": "execute_result"
    }
   ],
   "source": [
    "bmw['yearOfRegistration'].value_counts()"
   ]
  },
  {
   "cell_type": "code",
   "execution_count": 16,
   "id": "9dffd6a5",
   "metadata": {},
   "outputs": [
    {
     "data": {
      "text/plain": [
       "automatik    632\n",
       "manuell      200\n",
       "Name: gearbox, dtype: int64"
      ]
     },
     "execution_count": 16,
     "metadata": {},
     "output_type": "execute_result"
    }
   ],
   "source": [
    "bmw['gearbox'].value_counts()"
   ]
  },
  {
   "cell_type": "code",
   "execution_count": 17,
   "id": "2b09b336",
   "metadata": {},
   "outputs": [
    {
     "data": {
      "text/plain": [
       "218    125\n",
       "286    100\n",
       "150     91\n",
       "184     85\n",
       "235     72\n",
       "177     55\n",
       "204     48\n",
       "143     36\n",
       "0       30\n",
       "231     27\n",
       "190     21\n",
       "245     20\n",
       "306     19\n",
       "258     19\n",
       "192     12\n",
       "230      7\n",
       "355      6\n",
       "320      5\n",
       "360      3\n",
       "313      3\n",
       "292      2\n",
       "347      2\n",
       "485      2\n",
       "276      2\n",
       "205      2\n",
       "163      2\n",
       "187      2\n",
       "285      2\n",
       "212      2\n",
       "220      2\n",
       "256      1\n",
       "211      1\n",
       "237      1\n",
       "555      1\n",
       "160      1\n",
       "173      1\n",
       "217      1\n",
       "232      1\n",
       "206      1\n",
       "314      1\n",
       "365      1\n",
       "149      1\n",
       "330      1\n",
       "178      1\n",
       "243      1\n",
       "234      1\n",
       "370      1\n",
       "195      1\n",
       "170      1\n",
       "261      1\n",
       "381      1\n",
       "118      1\n",
       "185      1\n",
       "219      1\n",
       "272      1\n",
       "183      1\n",
       "140      1\n",
       "259      1\n",
       "Name: powerPS, dtype: int64"
      ]
     },
     "execution_count": 17,
     "metadata": {},
     "output_type": "execute_result"
    }
   ],
   "source": [
    "bmw['powerPS'].value_counts()"
   ]
  },
  {
   "cell_type": "code",
   "execution_count": 18,
   "id": "fa4d8654",
   "metadata": {},
   "outputs": [
    {
     "data": {
      "text/plain": [
       "x_reihe    825\n",
       "3er          3\n",
       "andere       2\n",
       "5er          1\n",
       "m_reihe      1\n",
       "Name: model, dtype: int64"
      ]
     },
     "execution_count": 18,
     "metadata": {},
     "output_type": "execute_result"
    }
   ],
   "source": [
    "bmw['model'].value_counts()"
   ]
  },
  {
   "cell_type": "code",
   "execution_count": 19,
   "id": "d6a3ae1f",
   "metadata": {},
   "outputs": [
    {
     "data": {
      "text/plain": [
       "150000    499\n",
       "125000     99\n",
       "100000     58\n",
       "80000      32\n",
       "70000      23\n",
       "60000      22\n",
       "90000      21\n",
       "30000      19\n",
       "10000      15\n",
       "5000       13\n",
       "20000      13\n",
       "50000      12\n",
       "40000       6\n",
       "Name: kilometer, dtype: int64"
      ]
     },
     "execution_count": 19,
     "metadata": {},
     "output_type": "execute_result"
    }
   ],
   "source": [
    "bmw['kilometer'].value_counts()"
   ]
  },
  {
   "cell_type": "code",
   "execution_count": 20,
   "id": "8922d9a6",
   "metadata": {},
   "outputs": [
    {
     "data": {
      "text/plain": [
       "12    96\n",
       "4     83\n",
       "6     77\n",
       "10    76\n",
       "11    75\n",
       "1     71\n",
       "7     70\n",
       "3     70\n",
       "5     57\n",
       "8     54\n",
       "9     50\n",
       "2     42\n",
       "0     11\n",
       "Name: monthOfRegistration, dtype: int64"
      ]
     },
     "execution_count": 20,
     "metadata": {},
     "output_type": "execute_result"
    }
   ],
   "source": [
    "bmw['monthOfRegistration'].value_counts()"
   ]
  },
  {
   "cell_type": "code",
   "execution_count": 21,
   "id": "cba5bce7",
   "metadata": {},
   "outputs": [
    {
     "data": {
      "text/plain": [
       "diesel    704\n",
       "benzin    105\n",
       "lpg        21\n",
       "hybrid      2\n",
       "Name: fuelType, dtype: int64"
      ]
     },
     "execution_count": 21,
     "metadata": {},
     "output_type": "execute_result"
    }
   ],
   "source": [
    "bmw['fuelType'].value_counts()"
   ]
  },
  {
   "cell_type": "code",
   "execution_count": 22,
   "id": "ea0af242",
   "metadata": {},
   "outputs": [
    {
     "data": {
      "text/plain": [
       "No     804\n",
       "Yes     28\n",
       "Name: notRepairedDamage, dtype: int64"
      ]
     },
     "execution_count": 22,
     "metadata": {},
     "output_type": "execute_result"
    }
   ],
   "source": [
    "bmw['notRepairedDamage'].value_counts()"
   ]
  },
  {
   "cell_type": "code",
   "execution_count": 23,
   "id": "3f15f9f3",
   "metadata": {},
   "outputs": [
    {
     "name": "stderr",
     "output_type": "stream",
     "text": [
      "C:\\Users\\kalwa\\Anaconda3\\lib\\site-packages\\seaborn\\distributions.py:2619: FutureWarning: `distplot` is a deprecated function and will be removed in a future version. Please adapt your code to use either `displot` (a figure-level function with similar flexibility) or `histplot` (an axes-level function for histograms).\n",
      "  warnings.warn(msg, FutureWarning)\n"
     ]
    },
    {
     "data": {
      "text/plain": [
       "<AxesSubplot:xlabel='yearOfRegistration', ylabel='Density'>"
      ]
     },
     "execution_count": 23,
     "metadata": {},
     "output_type": "execute_result"
    },
    {
     "data": {
      "image/png": "[encoded data removed]",
      "text/plain": [
       "<Figure size 1440x720 with 1 Axes>"
      ]
     },
     "metadata": {
      "needs_background": "light"
     },
     "output_type": "display_data"
    }
   ],
   "source": [
    "plt.figure(figsize=(20,10))\n",
    "\n",
    "sb.distplot(bmw['yearOfRegistration'],bins=5)\n"
   ]
  },
  {
   "cell_type": "code",
   "execution_count": 24,
   "id": "7bf94ca8",
   "metadata": {},
   "outputs": [],
   "source": [
    "# Most of the Registration has been in the between 2000-2016"
   ]
  },
  {
   "cell_type": "code",
   "execution_count": 25,
   "id": "314accd6",
   "metadata": {},
   "outputs": [
    {
     "name": "stderr",
     "output_type": "stream",
     "text": [
      "C:\\Users\\kalwa\\Anaconda3\\lib\\site-packages\\seaborn\\distributions.py:2619: FutureWarning: `distplot` is a deprecated function and will be removed in a future version. Please adapt your code to use either `displot` (a figure-level function with similar flexibility) or `histplot` (an axes-level function for histograms).\n",
      "  warnings.warn(msg, FutureWarning)\n"
     ]
    },
    {
     "data": {
      "text/plain": [
       "<AxesSubplot:xlabel='kilometer', ylabel='Density'>"
      ]
     },
     "execution_count": 25,
     "metadata": {},
     "output_type": "execute_result"
    },
    {
     "data": {
      "image/png": "[encoded data removed]",
      "text/plain": [
       "<Figure size 1440x720 with 1 Axes>"
      ]
     },
     "metadata": {
      "needs_background": "light"
     },
     "output_type": "display_data"
    }
   ],
   "source": [
    "plt.figure(figsize=(20,10))\n",
    "\n",
    "sb.distplot(bmw['kilometer'],bins=5)\n"
   ]
  },
  {
   "cell_type": "code",
   "execution_count": 26,
   "id": "83d9f090",
   "metadata": {},
   "outputs": [],
   "source": [
    "# Most of the cars has been between 120000-150000 km "
   ]
  },
  {
   "cell_type": "code",
   "execution_count": 27,
   "id": "d16560c9",
   "metadata": {},
   "outputs": [
    {
     "name": "stderr",
     "output_type": "stream",
     "text": [
      "C:\\Users\\kalwa\\Anaconda3\\lib\\site-packages\\seaborn\\distributions.py:2619: FutureWarning: `distplot` is a deprecated function and will be removed in a future version. Please adapt your code to use either `displot` (a figure-level function with similar flexibility) or `histplot` (an axes-level function for histograms).\n",
      "  warnings.warn(msg, FutureWarning)\n"
     ]
    },
    {
     "data": {
      "text/plain": [
       "<AxesSubplot:xlabel='powerPS', ylabel='Density'>"
      ]
     },
     "execution_count": 27,
     "metadata": {},
     "output_type": "execute_result"
    },
    {
     "data": {
      "image/png": "[encoded data removed]",
      "text/plain": [
       "<Figure size 1440x720 with 1 Axes>"
      ]
     },
     "metadata": {
      "needs_background": "light"
     },
     "output_type": "display_data"
    }
   ],
   "source": [
    "plt.figure(figsize=(20,10))\n",
    "sb.distplot(bmw['powerPS'],bins=10)"
   ]
  },
  {
   "cell_type": "code",
   "execution_count": 28,
   "id": "c1b1eb79",
   "metadata": {},
   "outputs": [],
   "source": [
    "# Most BMW car with power between 110-330 power Ps has been used "
   ]
  },
  {
   "cell_type": "code",
   "execution_count": 29,
   "id": "6570a768",
   "metadata": {},
   "outputs": [
    {
     "data": {
      "text/plain": [
       "<AxesSubplot:xlabel='Years_group', ylabel='count'>"
      ]
     },
     "execution_count": 29,
     "metadata": {},
     "output_type": "execute_result"
    },
    {
     "data": {
      "image/png": "[encoded data removed]",
      "text/plain": [
       "<Figure size 1440x720 with 1 Axes>"
      ]
     },
     "metadata": {
      "needs_background": "light"
     },
     "output_type": "display_data"
    }
   ],
   "source": [
    "plt.figure(figsize=(20,10))\n",
    "sb.countplot(x='Years_group',hue='gearbox',data=bmw)"
   ]
  },
  {
   "cell_type": "code",
   "execution_count": 30,
   "id": "0afbe6a2",
   "metadata": {},
   "outputs": [
    {
     "data": {
      "text/plain": [
       "(array([306., 117.,  48.,  13.,   0.,   0.,   0.]),\n",
       " array([1000000, 2000000, 3000000, 4000000, 5000000, 6000000, 7000000,\n",
       "        8000000]),\n",
       " <BarContainer object of 7 artists>)"
      ]
     },
     "execution_count": 30,
     "metadata": {},
     "output_type": "execute_result"
    },
    {
     "data": {
      "image/png": "[encoded data removed]",
      "text/plain": [
       "<Figure size 1440x720 with 1 Axes>"
      ]
     },
     "metadata": {
      "needs_background": "light"
     },
     "output_type": "display_data"
    }
   ],
   "source": [
    "plt.figure(figsize=(20,10))\n",
    "plt.title('yearOfRegistration')\n",
    "plt.xlabel('Price')\n",
    "\n",
    "plt.hist(bmw['price'],bins=np.arange(1000000,9000000,1000000))"
   ]
  },
  {
   "cell_type": "code",
   "execution_count": 31,
   "id": "3c9c2d9d",
   "metadata": {},
   "outputs": [
    {
     "data": {
      "text/plain": [
       "<AxesSubplot:xlabel='model', ylabel='price'>"
      ]
     },
     "execution_count": 31,
     "metadata": {},
     "output_type": "execute_result"
    },
    {
     "data": {
      "image/png": "[encoded data removed]",
      "text/plain": [
       "<Figure size 1440x720 with 1 Axes>"
      ]
     },
     "metadata": {
      "needs_background": "light"
     },
     "output_type": "display_data"
    }
   ],
   "source": [
    "plt.figure(figsize=(20,10))\n",
    "\n",
    "sb.barplot(x='model',y='price',data=bmw,hue='gearbox')"
   ]
  },
  {
   "cell_type": "code",
   "execution_count": 32,
   "id": "c6d7d0f1",
   "metadata": {},
   "outputs": [
    {
     "data": {
      "text/plain": [
       "<AxesSubplot:xlabel='count', ylabel='model'>"
      ]
     },
     "execution_count": 32,
     "metadata": {},
     "output_type": "execute_result"
    },
    {
     "data": {
      "image/png": "[encoded data removed]",
      "text/plain": [
       "<Figure size 1440x720 with 1 Axes>"
      ]
     },
     "metadata": {
      "needs_background": "light"
     },
     "output_type": "display_data"
    }
   ],
   "source": [
    "plt.figure(figsize=(20,10))\n",
    "\n",
    "sb.countplot(y='model',data=bmw)"
   ]
  },
  {
   "cell_type": "code",
   "execution_count": 34,
   "id": "68ab10b4",
   "metadata": {},
   "outputs": [
    {
     "data": {
      "text/plain": [
       "x_reihe    825\n",
       "3er          3\n",
       "andere       2\n",
       "5er          1\n",
       "m_reihe      1\n",
       "Name: model, dtype: int64"
      ]
     },
     "execution_count": 34,
     "metadata": {},
     "output_type": "execute_result"
    }
   ],
   "source": [
    "bmw['model'].value_counts()"
   ]
  },
  {
   "cell_type": "code",
   "execution_count": 35,
   "id": "2c5fb4dc",
   "metadata": {},
   "outputs": [
    {
     "data": {
      "text/plain": [
       "x_reihe    99.158654\n",
       "3er         0.360577\n",
       "andere      0.240385\n",
       "5er         0.120192\n",
       "m_reihe     0.120192\n",
       "Name: model, dtype: float64"
      ]
     },
     "execution_count": 35,
     "metadata": {},
     "output_type": "execute_result"
    }
   ],
   "source": [
    "bmw['model'].value_counts()*100/bmw['model'].value_counts().sum()"
   ]
  },
  {
   "cell_type": "code",
   "execution_count": 36,
   "id": "dc8f6d15",
   "metadata": {},
   "outputs": [
    {
     "data": {
      "text/plain": [
       "<AxesSubplot:xlabel='count', ylabel='fuelType'>"
      ]
     },
     "execution_count": 36,
     "metadata": {},
     "output_type": "execute_result"
    },
    {
     "data": {
      "image/png": "[encoded data removed]",
      "text/plain": [
       "<Figure size 1440x720 with 1 Axes>"
      ]
     },
     "metadata": {
      "needs_background": "light"
     },
     "output_type": "display_data"
    }
   ],
   "source": [
    "plt.figure(figsize=(20,10))\n",
    "\n",
    "sb.countplot(y='fuelType',data=bmw)"
   ]
  },
  {
   "cell_type": "code",
   "execution_count": 37,
   "id": "0ad345af",
   "metadata": {},
   "outputs": [
    {
     "data": {
      "text/plain": [
       "diesel    84.615385\n",
       "benzin    12.620192\n",
       "lpg        2.524038\n",
       "hybrid     0.240385\n",
       "Name: fuelType, dtype: float64"
      ]
     },
     "execution_count": 37,
     "metadata": {},
     "output_type": "execute_result"
    }
   ],
   "source": [
    "bmw['fuelType'].value_counts()*100/bmw['fuelType'].value_counts().sum()"
   ]
  },
  {
   "cell_type": "code",
   "execution_count": 38,
   "id": "22b067bd",
   "metadata": {},
   "outputs": [
    {
     "data": {
      "text/plain": [
       "<AxesSubplot:xlabel='Years_group', ylabel='count'>"
      ]
     },
     "execution_count": 38,
     "metadata": {},
     "output_type": "execute_result"
    },
    {
     "data": {
      "image/png": "[encoded data removed]",
      "text/plain": [
       "<Figure size 1440x720 with 1 Axes>"
      ]
     },
     "metadata": {
      "needs_background": "light"
     },
     "output_type": "display_data"
    }
   ],
   "source": [
    "plt.figure(figsize=(20,10))\n",
    "sb.countplot(x='Years_group',data=bmw,hue='gearbox')"
   ]
  },
  {
   "cell_type": "code",
   "execution_count": 39,
   "id": "66d96b7a",
   "metadata": {},
   "outputs": [],
   "source": [
    "#  Most BMW cars using is automatic gears is in between 1991-2000 \n",
    "#  Most BMW cars using  is automatic gears is in betwwen 2001-2010 \n",
    "# Most of the cars in BMW prefered  automatic gears\n"
   ]
  },
  {
   "cell_type": "code",
   "execution_count": 40,
   "id": "65a8d4fe",
   "metadata": {},
   "outputs": [
    {
     "data": {
      "text/plain": [
       "<AxesSubplot:xlabel='kilometer', ylabel='count'>"
      ]
     },
     "execution_count": 40,
     "metadata": {},
     "output_type": "execute_result"
    },
    {
     "data": {
      "image/png": "[encoded data removed]",
      "text/plain": [
       "<Figure size 1440x720 with 1 Axes>"
      ]
     },
     "metadata": {
      "needs_background": "light"
     },
     "output_type": "display_data"
    }
   ],
   "source": [
    "plt.figure(figsize=(20,10))\n",
    "sb.countplot(x='kilometer',data=bmw,hue='model')"
   ]
  },
  {
   "cell_type": "code",
   "execution_count": 41,
   "id": "1be0bd77",
   "metadata": {},
   "outputs": [],
   "source": [
    "# In this case above 150000 km reached with mode X_reihe are more in this data "
   ]
  },
  {
   "cell_type": "code",
   "execution_count": 42,
   "id": "9632bc07",
   "metadata": {},
   "outputs": [
    {
     "data": {
      "text/plain": [
       "No     96.634615\n",
       "Yes     3.365385\n",
       "Name: notRepairedDamage, dtype: float64"
      ]
     },
     "execution_count": 42,
     "metadata": {},
     "output_type": "execute_result"
    }
   ],
   "source": [
    "bmw['notRepairedDamage'].value_counts()*100/bmw['notRepairedDamage'].value_counts().sum()"
   ]
  },
  {
   "cell_type": "code",
   "execution_count": 48,
   "id": "eba609cc",
   "metadata": {},
   "outputs": [
    {
     "name": "stderr",
     "output_type": "stream",
     "text": [
      "C:\\Users\\kalwa\\Anaconda3\\lib\\site-packages\\seaborn\\_decorators.py:36: FutureWarning: Pass the following variable as a keyword arg: x. From version 0.12, the only valid positional argument will be `data`, and passing other arguments without an explicit keyword will result in an error or misinterpretation.\n",
      "  warnings.warn(\n"
     ]
    },
    {
     "data": {
      "text/plain": [
       "<AxesSubplot:xlabel='price'>"
      ]
     },
     "execution_count": 48,
     "metadata": {},
     "output_type": "execute_result"
    },
    {
     "data": {
      "image/png": "[encoded data removed]",
      "text/plain": [
       "<Figure size 432x288 with 1 Axes>"
      ]
     },
     "metadata": {
      "needs_background": "light"
     },
     "output_type": "display_data"
    }
   ],
   "source": [
    "sb.boxplot(bmw['price'])"
   ]
  },
  {
   "cell_type": "code",
   "execution_count": 47,
   "id": "6f0b999e",
   "metadata": {},
   "outputs": [],
   "source": [
    "bmw=bmw[bmw['price']<320000]"
   ]
  },
  {
   "cell_type": "code",
   "execution_count": 49,
   "id": "f4ebee13",
   "metadata": {},
   "outputs": [
    {
     "data": {
      "text/html": [
       "<div>\n",
       "<style scoped>\n",
       "    .dataframe tbody tr th:only-of-type {\n",
       "        vertical-align: middle;\n",
       "    }\n",
       "\n",
       "    .dataframe tbody tr th {\n",
       "        vertical-align: top;\n",
       "    }\n",
       "\n",
       "    .dataframe thead th {\n",
       "        text-align: right;\n",
       "    }\n",
       "</style>\n",
       "<table border=\"1\" class=\"dataframe\">\n",
       "  <thead>\n",
       "    <tr style=\"text-align: right;\">\n",
       "      <th></th>\n",
       "      <th>Unnamed: 0</th>\n",
       "      <th>seller</th>\n",
       "      <th>offerType</th>\n",
       "      <th>vehicleType</th>\n",
       "      <th>yearOfRegistration</th>\n",
       "      <th>gearbox</th>\n",
       "      <th>powerPS</th>\n",
       "      <th>model</th>\n",
       "      <th>kilometer</th>\n",
       "      <th>monthOfRegistration</th>\n",
       "      <th>fuelType</th>\n",
       "      <th>brand</th>\n",
       "      <th>notRepairedDamage</th>\n",
       "      <th>price</th>\n",
       "      <th>Years_group</th>\n",
       "    </tr>\n",
       "  </thead>\n",
       "  <tbody>\n",
       "    <tr>\n",
       "      <th>136</th>\n",
       "      <td>37589</td>\n",
       "      <td>privat</td>\n",
       "      <td>Angebot</td>\n",
       "      <td>suv</td>\n",
       "      <td>2007</td>\n",
       "      <td>automatik</td>\n",
       "      <td>235</td>\n",
       "      <td>x_reihe</td>\n",
       "      <td>150000</td>\n",
       "      <td>0</td>\n",
       "      <td>diesel</td>\n",
       "      <td>bmw</td>\n",
       "      <td>No</td>\n",
       "      <td>0</td>\n",
       "      <td>2001-2010</td>\n",
       "    </tr>\n",
       "  </tbody>\n",
       "</table>\n",
       "</div>"
      ],
      "text/plain": [
       "     Unnamed: 0  seller offerType vehicleType  yearOfRegistration    gearbox  \\\n",
       "136       37589  privat   Angebot         suv                2007  automatik   \n",
       "\n",
       "     powerPS    model  kilometer  monthOfRegistration fuelType brand  \\\n",
       "136      235  x_reihe     150000                    0   diesel   bmw   \n",
       "\n",
       "    notRepairedDamage  price Years_group  \n",
       "136                No      0   2001-2010  "
      ]
     },
     "execution_count": 49,
     "metadata": {},
     "output_type": "execute_result"
    }
   ],
   "source": [
    "bmw.sample()"
   ]
  },
  {
   "cell_type": "code",
   "execution_count": 50,
   "id": "f9625022",
   "metadata": {},
   "outputs": [
    {
     "data": {
      "text/plain": [
       "Index(['Unnamed: 0', 'seller', 'offerType', 'vehicleType',\n",
       "       'yearOfRegistration', 'gearbox', 'powerPS', 'model', 'kilometer',\n",
       "       'monthOfRegistration', 'fuelType', 'brand', 'notRepairedDamage',\n",
       "       'price', 'Years_group'],\n",
       "      dtype='object')"
      ]
     },
     "execution_count": 50,
     "metadata": {},
     "output_type": "execute_result"
    }
   ],
   "source": [
    "bmw.columns"
   ]
  },
  {
   "cell_type": "code",
   "execution_count": 51,
   "id": "0fb5965e",
   "metadata": {},
   "outputs": [],
   "source": [
    "bmw=bmw.drop(['Unnamed: 0', 'seller', 'offerType','vehicleType','brand','Years_group'],axis=1)"
   ]
  },
  {
   "cell_type": "code",
   "execution_count": 52,
   "id": "61ed7011",
   "metadata": {},
   "outputs": [
    {
     "data": {
      "text/html": [
       "<div>\n",
       "<style scoped>\n",
       "    .dataframe tbody tr th:only-of-type {\n",
       "        vertical-align: middle;\n",
       "    }\n",
       "\n",
       "    .dataframe tbody tr th {\n",
       "        vertical-align: top;\n",
       "    }\n",
       "\n",
       "    .dataframe thead th {\n",
       "        text-align: right;\n",
       "    }\n",
       "</style>\n",
       "<table border=\"1\" class=\"dataframe\">\n",
       "  <thead>\n",
       "    <tr style=\"text-align: right;\">\n",
       "      <th></th>\n",
       "      <th>yearOfRegistration</th>\n",
       "      <th>gearbox</th>\n",
       "      <th>powerPS</th>\n",
       "      <th>model</th>\n",
       "      <th>kilometer</th>\n",
       "      <th>monthOfRegistration</th>\n",
       "      <th>fuelType</th>\n",
       "      <th>notRepairedDamage</th>\n",
       "      <th>price</th>\n",
       "    </tr>\n",
       "  </thead>\n",
       "  <tbody>\n",
       "    <tr>\n",
       "      <th>52</th>\n",
       "      <td>2002</td>\n",
       "      <td>automatik</td>\n",
       "      <td>184</td>\n",
       "      <td>x_reihe</td>\n",
       "      <td>150000</td>\n",
       "      <td>6</td>\n",
       "      <td>diesel</td>\n",
       "      <td>No</td>\n",
       "      <td>83</td>\n",
       "    </tr>\n",
       "    <tr>\n",
       "      <th>136</th>\n",
       "      <td>2007</td>\n",
       "      <td>automatik</td>\n",
       "      <td>235</td>\n",
       "      <td>x_reihe</td>\n",
       "      <td>150000</td>\n",
       "      <td>0</td>\n",
       "      <td>diesel</td>\n",
       "      <td>No</td>\n",
       "      <td>0</td>\n",
       "    </tr>\n",
       "    <tr>\n",
       "      <th>160</th>\n",
       "      <td>1999</td>\n",
       "      <td>manuell</td>\n",
       "      <td>118</td>\n",
       "      <td>3er</td>\n",
       "      <td>150000</td>\n",
       "      <td>1</td>\n",
       "      <td>benzin</td>\n",
       "      <td>No</td>\n",
       "      <td>219950</td>\n",
       "    </tr>\n",
       "    <tr>\n",
       "      <th>329</th>\n",
       "      <td>2014</td>\n",
       "      <td>automatik</td>\n",
       "      <td>184</td>\n",
       "      <td>x_reihe</td>\n",
       "      <td>30000</td>\n",
       "      <td>10</td>\n",
       "      <td>diesel</td>\n",
       "      <td>No</td>\n",
       "      <td>207500</td>\n",
       "    </tr>\n",
       "    <tr>\n",
       "      <th>392</th>\n",
       "      <td>2004</td>\n",
       "      <td>automatik</td>\n",
       "      <td>218</td>\n",
       "      <td>x_reihe</td>\n",
       "      <td>150000</td>\n",
       "      <td>1</td>\n",
       "      <td>diesel</td>\n",
       "      <td>No</td>\n",
       "      <td>0</td>\n",
       "    </tr>\n",
       "    <tr>\n",
       "      <th>423</th>\n",
       "      <td>2009</td>\n",
       "      <td>automatik</td>\n",
       "      <td>0</td>\n",
       "      <td>x_reihe</td>\n",
       "      <td>125000</td>\n",
       "      <td>8</td>\n",
       "      <td>diesel</td>\n",
       "      <td>No</td>\n",
       "      <td>0</td>\n",
       "    </tr>\n",
       "    <tr>\n",
       "      <th>476</th>\n",
       "      <td>2007</td>\n",
       "      <td>automatik</td>\n",
       "      <td>276</td>\n",
       "      <td>x_reihe</td>\n",
       "      <td>150000</td>\n",
       "      <td>12</td>\n",
       "      <td>diesel</td>\n",
       "      <td>No</td>\n",
       "      <td>0</td>\n",
       "    </tr>\n",
       "    <tr>\n",
       "      <th>518</th>\n",
       "      <td>2004</td>\n",
       "      <td>automatik</td>\n",
       "      <td>204</td>\n",
       "      <td>x_reihe</td>\n",
       "      <td>150000</td>\n",
       "      <td>6</td>\n",
       "      <td>diesel</td>\n",
       "      <td>Yes</td>\n",
       "      <td>290500</td>\n",
       "    </tr>\n",
       "    <tr>\n",
       "      <th>527</th>\n",
       "      <td>2000</td>\n",
       "      <td>automatik</td>\n",
       "      <td>286</td>\n",
       "      <td>x_reihe</td>\n",
       "      <td>150000</td>\n",
       "      <td>10</td>\n",
       "      <td>lpg</td>\n",
       "      <td>Yes</td>\n",
       "      <td>249000</td>\n",
       "    </tr>\n",
       "    <tr>\n",
       "      <th>550</th>\n",
       "      <td>2014</td>\n",
       "      <td>manuell</td>\n",
       "      <td>150</td>\n",
       "      <td>x_reihe</td>\n",
       "      <td>20000</td>\n",
       "      <td>9</td>\n",
       "      <td>benzin</td>\n",
       "      <td>No</td>\n",
       "      <td>22410</td>\n",
       "    </tr>\n",
       "    <tr>\n",
       "      <th>593</th>\n",
       "      <td>2008</td>\n",
       "      <td>manuell</td>\n",
       "      <td>177</td>\n",
       "      <td>x_reihe</td>\n",
       "      <td>150000</td>\n",
       "      <td>2</td>\n",
       "      <td>diesel</td>\n",
       "      <td>No</td>\n",
       "      <td>0</td>\n",
       "    </tr>\n",
       "    <tr>\n",
       "      <th>705</th>\n",
       "      <td>2004</td>\n",
       "      <td>automatik</td>\n",
       "      <td>218</td>\n",
       "      <td>x_reihe</td>\n",
       "      <td>150000</td>\n",
       "      <td>10</td>\n",
       "      <td>diesel</td>\n",
       "      <td>No</td>\n",
       "      <td>83</td>\n",
       "    </tr>\n",
       "    <tr>\n",
       "      <th>788</th>\n",
       "      <td>2002</td>\n",
       "      <td>automatik</td>\n",
       "      <td>347</td>\n",
       "      <td>x_reihe</td>\n",
       "      <td>150000</td>\n",
       "      <td>2</td>\n",
       "      <td>lpg</td>\n",
       "      <td>Yes</td>\n",
       "      <td>276639</td>\n",
       "    </tr>\n",
       "  </tbody>\n",
       "</table>\n",
       "</div>"
      ],
      "text/plain": [
       "     yearOfRegistration    gearbox  powerPS    model  kilometer  \\\n",
       "52                 2002  automatik      184  x_reihe     150000   \n",
       "136                2007  automatik      235  x_reihe     150000   \n",
       "160                1999    manuell      118      3er     150000   \n",
       "329                2014  automatik      184  x_reihe      30000   \n",
       "392                2004  automatik      218  x_reihe     150000   \n",
       "423                2009  automatik        0  x_reihe     125000   \n",
       "476                2007  automatik      276  x_reihe     150000   \n",
       "518                2004  automatik      204  x_reihe     150000   \n",
       "527                2000  automatik      286  x_reihe     150000   \n",
       "550                2014    manuell      150  x_reihe      20000   \n",
       "593                2008    manuell      177  x_reihe     150000   \n",
       "705                2004  automatik      218  x_reihe     150000   \n",
       "788                2002  automatik      347  x_reihe     150000   \n",
       "\n",
       "     monthOfRegistration fuelType notRepairedDamage   price  \n",
       "52                     6   diesel                No      83  \n",
       "136                    0   diesel                No       0  \n",
       "160                    1   benzin                No  219950  \n",
       "329                   10   diesel                No  207500  \n",
       "392                    1   diesel                No       0  \n",
       "423                    8   diesel                No       0  \n",
       "476                   12   diesel                No       0  \n",
       "518                    6   diesel               Yes  290500  \n",
       "527                   10      lpg               Yes  249000  \n",
       "550                    9   benzin                No   22410  \n",
       "593                    2   diesel                No       0  \n",
       "705                   10   diesel                No      83  \n",
       "788                    2      lpg               Yes  276639  "
      ]
     },
     "execution_count": 52,
     "metadata": {},
     "output_type": "execute_result"
    }
   ],
   "source": [
    "bmw"
   ]
  },
  {
   "cell_type": "code",
   "execution_count": 53,
   "id": "cb5348c8",
   "metadata": {},
   "outputs": [],
   "source": [
    "from sklearn.preprocessing import LabelEncoder\n",
    "enc=LabelEncoder()"
   ]
  },
  {
   "cell_type": "code",
   "execution_count": 54,
   "id": "3be52240",
   "metadata": {},
   "outputs": [],
   "source": [
    "data=['gearbox','fuelType','model','notRepairedDamage']"
   ]
  },
  {
   "cell_type": "code",
   "execution_count": 56,
   "id": "29fda50a",
   "metadata": {},
   "outputs": [],
   "source": [
    "for x in data:\n",
    "    bmw[x]=enc.fit_transform(bmw[x])"
   ]
  },
  {
   "cell_type": "code",
   "execution_count": 57,
   "id": "9484da74",
   "metadata": {},
   "outputs": [
    {
     "data": {
      "text/html": [
       "<div>\n",
       "<style scoped>\n",
       "    .dataframe tbody tr th:only-of-type {\n",
       "        vertical-align: middle;\n",
       "    }\n",
       "\n",
       "    .dataframe tbody tr th {\n",
       "        vertical-align: top;\n",
       "    }\n",
       "\n",
       "    .dataframe thead th {\n",
       "        text-align: right;\n",
       "    }\n",
       "</style>\n",
       "<table border=\"1\" class=\"dataframe\">\n",
       "  <thead>\n",
       "    <tr style=\"text-align: right;\">\n",
       "      <th></th>\n",
       "      <th>yearOfRegistration</th>\n",
       "      <th>gearbox</th>\n",
       "      <th>powerPS</th>\n",
       "      <th>model</th>\n",
       "      <th>kilometer</th>\n",
       "      <th>monthOfRegistration</th>\n",
       "      <th>fuelType</th>\n",
       "      <th>notRepairedDamage</th>\n",
       "      <th>price</th>\n",
       "    </tr>\n",
       "  </thead>\n",
       "  <tbody>\n",
       "    <tr>\n",
       "      <th>52</th>\n",
       "      <td>2002</td>\n",
       "      <td>0</td>\n",
       "      <td>184</td>\n",
       "      <td>1</td>\n",
       "      <td>150000</td>\n",
       "      <td>6</td>\n",
       "      <td>1</td>\n",
       "      <td>0</td>\n",
       "      <td>83</td>\n",
       "    </tr>\n",
       "    <tr>\n",
       "      <th>136</th>\n",
       "      <td>2007</td>\n",
       "      <td>0</td>\n",
       "      <td>235</td>\n",
       "      <td>1</td>\n",
       "      <td>150000</td>\n",
       "      <td>0</td>\n",
       "      <td>1</td>\n",
       "      <td>0</td>\n",
       "      <td>0</td>\n",
       "    </tr>\n",
       "    <tr>\n",
       "      <th>160</th>\n",
       "      <td>1999</td>\n",
       "      <td>1</td>\n",
       "      <td>118</td>\n",
       "      <td>0</td>\n",
       "      <td>150000</td>\n",
       "      <td>1</td>\n",
       "      <td>0</td>\n",
       "      <td>0</td>\n",
       "      <td>219950</td>\n",
       "    </tr>\n",
       "    <tr>\n",
       "      <th>329</th>\n",
       "      <td>2014</td>\n",
       "      <td>0</td>\n",
       "      <td>184</td>\n",
       "      <td>1</td>\n",
       "      <td>30000</td>\n",
       "      <td>10</td>\n",
       "      <td>1</td>\n",
       "      <td>0</td>\n",
       "      <td>207500</td>\n",
       "    </tr>\n",
       "    <tr>\n",
       "      <th>392</th>\n",
       "      <td>2004</td>\n",
       "      <td>0</td>\n",
       "      <td>218</td>\n",
       "      <td>1</td>\n",
       "      <td>150000</td>\n",
       "      <td>1</td>\n",
       "      <td>1</td>\n",
       "      <td>0</td>\n",
       "      <td>0</td>\n",
       "    </tr>\n",
       "    <tr>\n",
       "      <th>423</th>\n",
       "      <td>2009</td>\n",
       "      <td>0</td>\n",
       "      <td>0</td>\n",
       "      <td>1</td>\n",
       "      <td>125000</td>\n",
       "      <td>8</td>\n",
       "      <td>1</td>\n",
       "      <td>0</td>\n",
       "      <td>0</td>\n",
       "    </tr>\n",
       "    <tr>\n",
       "      <th>476</th>\n",
       "      <td>2007</td>\n",
       "      <td>0</td>\n",
       "      <td>276</td>\n",
       "      <td>1</td>\n",
       "      <td>150000</td>\n",
       "      <td>12</td>\n",
       "      <td>1</td>\n",
       "      <td>0</td>\n",
       "      <td>0</td>\n",
       "    </tr>\n",
       "    <tr>\n",
       "      <th>518</th>\n",
       "      <td>2004</td>\n",
       "      <td>0</td>\n",
       "      <td>204</td>\n",
       "      <td>1</td>\n",
       "      <td>150000</td>\n",
       "      <td>6</td>\n",
       "      <td>1</td>\n",
       "      <td>1</td>\n",
       "      <td>290500</td>\n",
       "    </tr>\n",
       "    <tr>\n",
       "      <th>527</th>\n",
       "      <td>2000</td>\n",
       "      <td>0</td>\n",
       "      <td>286</td>\n",
       "      <td>1</td>\n",
       "      <td>150000</td>\n",
       "      <td>10</td>\n",
       "      <td>2</td>\n",
       "      <td>1</td>\n",
       "      <td>249000</td>\n",
       "    </tr>\n",
       "    <tr>\n",
       "      <th>550</th>\n",
       "      <td>2014</td>\n",
       "      <td>1</td>\n",
       "      <td>150</td>\n",
       "      <td>1</td>\n",
       "      <td>20000</td>\n",
       "      <td>9</td>\n",
       "      <td>0</td>\n",
       "      <td>0</td>\n",
       "      <td>22410</td>\n",
       "    </tr>\n",
       "    <tr>\n",
       "      <th>593</th>\n",
       "      <td>2008</td>\n",
       "      <td>1</td>\n",
       "      <td>177</td>\n",
       "      <td>1</td>\n",
       "      <td>150000</td>\n",
       "      <td>2</td>\n",
       "      <td>1</td>\n",
       "      <td>0</td>\n",
       "      <td>0</td>\n",
       "    </tr>\n",
       "    <tr>\n",
       "      <th>705</th>\n",
       "      <td>2004</td>\n",
       "      <td>0</td>\n",
       "      <td>218</td>\n",
       "      <td>1</td>\n",
       "      <td>150000</td>\n",
       "      <td>10</td>\n",
       "      <td>1</td>\n",
       "      <td>0</td>\n",
       "      <td>83</td>\n",
       "    </tr>\n",
       "    <tr>\n",
       "      <th>788</th>\n",
       "      <td>2002</td>\n",
       "      <td>0</td>\n",
       "      <td>347</td>\n",
       "      <td>1</td>\n",
       "      <td>150000</td>\n",
       "      <td>2</td>\n",
       "      <td>2</td>\n",
       "      <td>1</td>\n",
       "      <td>276639</td>\n",
       "    </tr>\n",
       "  </tbody>\n",
       "</table>\n",
       "</div>"
      ],
      "text/plain": [
       "     yearOfRegistration  gearbox  powerPS  model  kilometer  \\\n",
       "52                 2002        0      184      1     150000   \n",
       "136                2007        0      235      1     150000   \n",
       "160                1999        1      118      0     150000   \n",
       "329                2014        0      184      1      30000   \n",
       "392                2004        0      218      1     150000   \n",
       "423                2009        0        0      1     125000   \n",
       "476                2007        0      276      1     150000   \n",
       "518                2004        0      204      1     150000   \n",
       "527                2000        0      286      1     150000   \n",
       "550                2014        1      150      1      20000   \n",
       "593                2008        1      177      1     150000   \n",
       "705                2004        0      218      1     150000   \n",
       "788                2002        0      347      1     150000   \n",
       "\n",
       "     monthOfRegistration  fuelType  notRepairedDamage   price  \n",
       "52                     6         1                  0      83  \n",
       "136                    0         1                  0       0  \n",
       "160                    1         0                  0  219950  \n",
       "329                   10         1                  0  207500  \n",
       "392                    1         1                  0       0  \n",
       "423                    8         1                  0       0  \n",
       "476                   12         1                  0       0  \n",
       "518                    6         1                  1  290500  \n",
       "527                   10         2                  1  249000  \n",
       "550                    9         0                  0   22410  \n",
       "593                    2         1                  0       0  \n",
       "705                   10         1                  0      83  \n",
       "788                    2         2                  1  276639  "
      ]
     },
     "execution_count": 57,
     "metadata": {},
     "output_type": "execute_result"
    }
   ],
   "source": [
    "bmw"
   ]
  },
  {
   "cell_type": "code",
   "execution_count": 127,
   "id": "80ee21a5",
   "metadata": {},
   "outputs": [
    {
     "data": {
      "text/html": [
       "<div>\n",
       "<style scoped>\n",
       "    .dataframe tbody tr th:only-of-type {\n",
       "        vertical-align: middle;\n",
       "    }\n",
       "\n",
       "    .dataframe tbody tr th {\n",
       "        vertical-align: top;\n",
       "    }\n",
       "\n",
       "    .dataframe thead th {\n",
       "        text-align: right;\n",
       "    }\n",
       "</style>\n",
       "<table border=\"1\" class=\"dataframe\">\n",
       "  <thead>\n",
       "    <tr style=\"text-align: right;\">\n",
       "      <th></th>\n",
       "      <th>powerPS</th>\n",
       "      <th>model</th>\n",
       "      <th>kilometer</th>\n",
       "      <th>monthOfRegistration</th>\n",
       "      <th>fuelType</th>\n",
       "      <th>price</th>\n",
       "      <th>notRepairedDamage</th>\n",
       "    </tr>\n",
       "  </thead>\n",
       "  <tbody>\n",
       "    <tr>\n",
       "      <th>52</th>\n",
       "      <td>184</td>\n",
       "      <td>1</td>\n",
       "      <td>150000</td>\n",
       "      <td>6</td>\n",
       "      <td>1</td>\n",
       "      <td>83</td>\n",
       "      <td>0</td>\n",
       "    </tr>\n",
       "    <tr>\n",
       "      <th>136</th>\n",
       "      <td>235</td>\n",
       "      <td>1</td>\n",
       "      <td>150000</td>\n",
       "      <td>0</td>\n",
       "      <td>1</td>\n",
       "      <td>0</td>\n",
       "      <td>0</td>\n",
       "    </tr>\n",
       "    <tr>\n",
       "      <th>160</th>\n",
       "      <td>118</td>\n",
       "      <td>0</td>\n",
       "      <td>150000</td>\n",
       "      <td>1</td>\n",
       "      <td>0</td>\n",
       "      <td>219950</td>\n",
       "      <td>0</td>\n",
       "    </tr>\n",
       "    <tr>\n",
       "      <th>329</th>\n",
       "      <td>184</td>\n",
       "      <td>1</td>\n",
       "      <td>30000</td>\n",
       "      <td>10</td>\n",
       "      <td>1</td>\n",
       "      <td>207500</td>\n",
       "      <td>0</td>\n",
       "    </tr>\n",
       "    <tr>\n",
       "      <th>392</th>\n",
       "      <td>218</td>\n",
       "      <td>1</td>\n",
       "      <td>150000</td>\n",
       "      <td>1</td>\n",
       "      <td>1</td>\n",
       "      <td>0</td>\n",
       "      <td>0</td>\n",
       "    </tr>\n",
       "  </tbody>\n",
       "</table>\n",
       "</div>"
      ],
      "text/plain": [
       "     powerPS  model  kilometer  monthOfRegistration  fuelType   price  \\\n",
       "52       184      1     150000                    6         1      83   \n",
       "136      235      1     150000                    0         1       0   \n",
       "160      118      0     150000                    1         0  219950   \n",
       "329      184      1      30000                   10         1  207500   \n",
       "392      218      1     150000                    1         1       0   \n",
       "\n",
       "     notRepairedDamage  \n",
       "52                   0  \n",
       "136                  0  \n",
       "160                  0  \n",
       "329                  0  \n",
       "392                  0  "
      ]
     },
     "execution_count": 127,
     "metadata": {},
     "output_type": "execute_result"
    }
   ],
   "source": [
    "x=bmw.iloc[:,1:8]\n",
    "x.head()"
   ]
  },
  {
   "cell_type": "code",
   "execution_count": 128,
   "id": "1a73a17a",
   "metadata": {},
   "outputs": [
    {
     "data": {
      "text/plain": [
       "52         83\n",
       "136         0\n",
       "160    219950\n",
       "329    207500\n",
       "392         0\n",
       "Name: price, dtype: int64"
      ]
     },
     "execution_count": 128,
     "metadata": {},
     "output_type": "execute_result"
    }
   ],
   "source": [
    "y=bmw.price\n",
    "y.head()"
   ]
  },
  {
   "cell_type": "code",
   "execution_count": 129,
   "id": "166b1333",
   "metadata": {},
   "outputs": [],
   "source": [
    "from sklearn.model_selection import train_test_split\n",
    "x_train, x_test, y_train, y_test = train_test_split(x,y, test_size=0.3, random_state=11)"
   ]
  },
  {
   "cell_type": "code",
   "execution_count": 130,
   "id": "91bff43f",
   "metadata": {},
   "outputs": [
    {
     "data": {
      "text/html": [
       "<div>\n",
       "<style scoped>\n",
       "    .dataframe tbody tr th:only-of-type {\n",
       "        vertical-align: middle;\n",
       "    }\n",
       "\n",
       "    .dataframe tbody tr th {\n",
       "        vertical-align: top;\n",
       "    }\n",
       "\n",
       "    .dataframe thead th {\n",
       "        text-align: right;\n",
       "    }\n",
       "</style>\n",
       "<table border=\"1\" class=\"dataframe\">\n",
       "  <thead>\n",
       "    <tr style=\"text-align: right;\">\n",
       "      <th></th>\n",
       "      <th>powerPS</th>\n",
       "      <th>model</th>\n",
       "      <th>kilometer</th>\n",
       "      <th>monthOfRegistration</th>\n",
       "      <th>fuelType</th>\n",
       "      <th>price</th>\n",
       "      <th>notRepairedDamage</th>\n",
       "    </tr>\n",
       "  </thead>\n",
       "  <tbody>\n",
       "    <tr>\n",
       "      <th>392</th>\n",
       "      <td>218</td>\n",
       "      <td>1</td>\n",
       "      <td>150000</td>\n",
       "      <td>1</td>\n",
       "      <td>1</td>\n",
       "      <td>0</td>\n",
       "      <td>0</td>\n",
       "    </tr>\n",
       "    <tr>\n",
       "      <th>705</th>\n",
       "      <td>218</td>\n",
       "      <td>1</td>\n",
       "      <td>150000</td>\n",
       "      <td>10</td>\n",
       "      <td>1</td>\n",
       "      <td>83</td>\n",
       "      <td>0</td>\n",
       "    </tr>\n",
       "    <tr>\n",
       "      <th>160</th>\n",
       "      <td>118</td>\n",
       "      <td>0</td>\n",
       "      <td>150000</td>\n",
       "      <td>1</td>\n",
       "      <td>0</td>\n",
       "      <td>219950</td>\n",
       "      <td>0</td>\n",
       "    </tr>\n",
       "    <tr>\n",
       "      <th>788</th>\n",
       "      <td>347</td>\n",
       "      <td>1</td>\n",
       "      <td>150000</td>\n",
       "      <td>2</td>\n",
       "      <td>2</td>\n",
       "      <td>276639</td>\n",
       "      <td>1</td>\n",
       "    </tr>\n",
       "    <tr>\n",
       "      <th>593</th>\n",
       "      <td>177</td>\n",
       "      <td>1</td>\n",
       "      <td>150000</td>\n",
       "      <td>2</td>\n",
       "      <td>1</td>\n",
       "      <td>0</td>\n",
       "      <td>0</td>\n",
       "    </tr>\n",
       "  </tbody>\n",
       "</table>\n",
       "</div>"
      ],
      "text/plain": [
       "     powerPS  model  kilometer  monthOfRegistration  fuelType   price  \\\n",
       "392      218      1     150000                    1         1       0   \n",
       "705      218      1     150000                   10         1      83   \n",
       "160      118      0     150000                    1         0  219950   \n",
       "788      347      1     150000                    2         2  276639   \n",
       "593      177      1     150000                    2         1       0   \n",
       "\n",
       "     notRepairedDamage  \n",
       "392                  0  \n",
       "705                  0  \n",
       "160                  0  \n",
       "788                  1  \n",
       "593                  0  "
      ]
     },
     "execution_count": 130,
     "metadata": {},
     "output_type": "execute_result"
    }
   ],
   "source": [
    "x_train.head()"
   ]
  },
  {
   "cell_type": "code",
   "execution_count": 131,
   "id": "7122a019",
   "metadata": {},
   "outputs": [
    {
     "data": {
      "text/plain": [
       "392         0\n",
       "705        83\n",
       "160    219950\n",
       "788    276639\n",
       "593         0\n",
       "Name: price, dtype: int64"
      ]
     },
     "execution_count": 131,
     "metadata": {},
     "output_type": "execute_result"
    }
   ],
   "source": [
    "y_train.head()"
   ]
  },
  {
   "cell_type": "markdown",
   "id": "90d4fa46",
   "metadata": {},
   "source": [
    "# LinearRegression"
   ]
  },
  {
   "cell_type": "code",
   "execution_count": 132,
   "id": "46c10875",
   "metadata": {},
   "outputs": [
    {
     "data": {
      "text/plain": [
       "LinearRegression()"
      ]
     },
     "execution_count": 132,
     "metadata": {},
     "output_type": "execute_result"
    }
   ],
   "source": [
    "from sklearn.linear_model import LinearRegression\n",
    "model_lr=LinearRegression()\n",
    "model_lr.fit(x_train,y_train)"
   ]
  },
  {
   "cell_type": "code",
   "execution_count": 133,
   "id": "e9c20d2c",
   "metadata": {},
   "outputs": [],
   "source": [
    "predict_price = model_lr.predict(x_test)\n"
   ]
  },
  {
   "cell_type": "code",
   "execution_count": 134,
   "id": "9d54b070",
   "metadata": {},
   "outputs": [],
   "source": [
    "from sklearn.metrics import r2_score"
   ]
  },
  {
   "cell_type": "code",
   "execution_count": 135,
   "id": "77407de1",
   "metadata": {},
   "outputs": [
    {
     "data": {
      "text/plain": [
       "1.0"
      ]
     },
     "execution_count": 135,
     "metadata": {},
     "output_type": "execute_result"
    }
   ],
   "source": [
    "r2_score(predict_price,y_test)"
   ]
  },
  {
   "cell_type": "markdown",
   "id": "99846ad2",
   "metadata": {},
   "source": [
    "# KNeighborsRegressor"
   ]
  },
  {
   "cell_type": "code",
   "execution_count": 136,
   "id": "567a56d4",
   "metadata": {},
   "outputs": [
    {
     "data": {
      "text/plain": [
       "KNeighborsRegressor(n_neighbors=1)"
      ]
     },
     "execution_count": 136,
     "metadata": {},
     "output_type": "execute_result"
    }
   ],
   "source": [
    "from sklearn.neighbors import KNeighborsRegressor\n",
    "model_knc=KNeighborsRegressor(n_neighbors=1)\n",
    "model_knc.fit(x_train,y_train)"
   ]
  },
  {
   "cell_type": "code",
   "execution_count": 137,
   "id": "67a87607",
   "metadata": {},
   "outputs": [],
   "source": [
    "predict_knc=model_knc.predict(x_test)\n"
   ]
  },
  {
   "cell_type": "code",
   "execution_count": 138,
   "id": "16f2f4ab",
   "metadata": {},
   "outputs": [
    {
     "data": {
      "text/plain": [
       "0.9854732739425484"
      ]
     },
     "execution_count": 138,
     "metadata": {},
     "output_type": "execute_result"
    }
   ],
   "source": [
    "r2_score(predict_knc,y_test)"
   ]
  },
  {
   "cell_type": "markdown",
   "id": "ccc25a2e",
   "metadata": {},
   "source": [
    "# RandomForestRegressor"
   ]
  },
  {
   "cell_type": "code",
   "execution_count": 78,
   "id": "fc72ce7a",
   "metadata": {},
   "outputs": [
    {
     "data": {
      "text/plain": [
       "RandomForestRegressor()"
      ]
     },
     "execution_count": 78,
     "metadata": {},
     "output_type": "execute_result"
    }
   ],
   "source": [
    "from sklearn.ensemble import RandomForestRegressor\n",
    "model_rfc=RandomForestRegressor()\n",
    "model_rfc.fit(x_train,y_train)"
   ]
  },
  {
   "cell_type": "code",
   "execution_count": 79,
   "id": "08901257",
   "metadata": {},
   "outputs": [],
   "source": [
    "pedict_frc = model_rfc.predict(x_test)\n",
    "\n"
   ]
  },
  {
   "cell_type": "code",
   "execution_count": 80,
   "id": "5b67e130",
   "metadata": {},
   "outputs": [
    {
     "data": {
      "text/plain": [
       "0.9931723447600656"
      ]
     },
     "execution_count": 80,
     "metadata": {},
     "output_type": "execute_result"
    }
   ],
   "source": [
    "r2_score(pedict_frc,y_test)"
   ]
  },
  {
   "cell_type": "markdown",
   "id": "11809a05",
   "metadata": {},
   "source": [
    "# DecisionTreeRegressor"
   ]
  },
  {
   "cell_type": "code",
   "execution_count": 82,
   "id": "7958326f",
   "metadata": {},
   "outputs": [
    {
     "data": {
      "text/plain": [
       "DecisionTreeRegressor()"
      ]
     },
     "execution_count": 82,
     "metadata": {},
     "output_type": "execute_result"
    }
   ],
   "source": [
    "from sklearn.tree import DecisionTreeRegressor\n",
    "model_dtc = DecisionTreeRegressor()\n",
    "model_dtc.fit(x_train,y_train)"
   ]
  },
  {
   "cell_type": "code",
   "execution_count": 83,
   "id": "b9ab04d2",
   "metadata": {},
   "outputs": [],
   "source": [
    "predict_dtc = model_dtc.predict(x_test)\n",
    "from sklearn.metrics import r2_score\n"
   ]
  },
  {
   "cell_type": "code",
   "execution_count": 84,
   "id": "ad9f867e",
   "metadata": {},
   "outputs": [
    {
     "data": {
      "text/plain": [
       "0.9854732739425484"
      ]
     },
     "execution_count": 84,
     "metadata": {},
     "output_type": "execute_result"
    }
   ],
   "source": [
    "r2_score(predict_dtc,y_test)"
   ]
  },
  {
   "cell_type": "markdown",
   "id": "9a88c8b1",
   "metadata": {},
   "source": [
    "# All data which has been collectd and  appllied  in Regressor Model of Machine Learning are below:\n",
    "\n",
    "LinearRegression-1.0\n",
    "\n",
    "KNeighborsRegressor : 0.9854732739425484\n",
    "\n",
    "RandomForestRegressor : 0.9931723447600656\n",
    "\n",
    "DecisionTreeRegressor  : 0.9854732739425484\n",
    "\n",
    "#LinearRegression is giving the  best  results from others Regression models"
   ]
  },
  {
   "cell_type": "code",
   "execution_count": 85,
   "id": "e2f757b8",
   "metadata": {},
   "outputs": [
    {
     "data": {
      "text/html": [
       "<div>\n",
       "<style scoped>\n",
       "    .dataframe tbody tr th:only-of-type {\n",
       "        vertical-align: middle;\n",
       "    }\n",
       "\n",
       "    .dataframe tbody tr th {\n",
       "        vertical-align: top;\n",
       "    }\n",
       "\n",
       "    .dataframe thead th {\n",
       "        text-align: right;\n",
       "    }\n",
       "</style>\n",
       "<table border=\"1\" class=\"dataframe\">\n",
       "  <thead>\n",
       "    <tr style=\"text-align: right;\">\n",
       "      <th></th>\n",
       "      <th>yearOfRegistration</th>\n",
       "      <th>gearbox</th>\n",
       "      <th>powerPS</th>\n",
       "      <th>model</th>\n",
       "      <th>kilometer</th>\n",
       "      <th>monthOfRegistration</th>\n",
       "      <th>fuelType</th>\n",
       "      <th>notRepairedDamage</th>\n",
       "      <th>price</th>\n",
       "    </tr>\n",
       "  </thead>\n",
       "  <tbody>\n",
       "    <tr>\n",
       "      <th>52</th>\n",
       "      <td>2002</td>\n",
       "      <td>0</td>\n",
       "      <td>184</td>\n",
       "      <td>1</td>\n",
       "      <td>150000</td>\n",
       "      <td>6</td>\n",
       "      <td>1</td>\n",
       "      <td>0</td>\n",
       "      <td>83</td>\n",
       "    </tr>\n",
       "    <tr>\n",
       "      <th>136</th>\n",
       "      <td>2007</td>\n",
       "      <td>0</td>\n",
       "      <td>235</td>\n",
       "      <td>1</td>\n",
       "      <td>150000</td>\n",
       "      <td>0</td>\n",
       "      <td>1</td>\n",
       "      <td>0</td>\n",
       "      <td>0</td>\n",
       "    </tr>\n",
       "    <tr>\n",
       "      <th>160</th>\n",
       "      <td>1999</td>\n",
       "      <td>1</td>\n",
       "      <td>118</td>\n",
       "      <td>0</td>\n",
       "      <td>150000</td>\n",
       "      <td>1</td>\n",
       "      <td>0</td>\n",
       "      <td>0</td>\n",
       "      <td>219950</td>\n",
       "    </tr>\n",
       "    <tr>\n",
       "      <th>329</th>\n",
       "      <td>2014</td>\n",
       "      <td>0</td>\n",
       "      <td>184</td>\n",
       "      <td>1</td>\n",
       "      <td>30000</td>\n",
       "      <td>10</td>\n",
       "      <td>1</td>\n",
       "      <td>0</td>\n",
       "      <td>207500</td>\n",
       "    </tr>\n",
       "    <tr>\n",
       "      <th>392</th>\n",
       "      <td>2004</td>\n",
       "      <td>0</td>\n",
       "      <td>218</td>\n",
       "      <td>1</td>\n",
       "      <td>150000</td>\n",
       "      <td>1</td>\n",
       "      <td>1</td>\n",
       "      <td>0</td>\n",
       "      <td>0</td>\n",
       "    </tr>\n",
       "    <tr>\n",
       "      <th>423</th>\n",
       "      <td>2009</td>\n",
       "      <td>0</td>\n",
       "      <td>0</td>\n",
       "      <td>1</td>\n",
       "      <td>125000</td>\n",
       "      <td>8</td>\n",
       "      <td>1</td>\n",
       "      <td>0</td>\n",
       "      <td>0</td>\n",
       "    </tr>\n",
       "    <tr>\n",
       "      <th>476</th>\n",
       "      <td>2007</td>\n",
       "      <td>0</td>\n",
       "      <td>276</td>\n",
       "      <td>1</td>\n",
       "      <td>150000</td>\n",
       "      <td>12</td>\n",
       "      <td>1</td>\n",
       "      <td>0</td>\n",
       "      <td>0</td>\n",
       "    </tr>\n",
       "    <tr>\n",
       "      <th>518</th>\n",
       "      <td>2004</td>\n",
       "      <td>0</td>\n",
       "      <td>204</td>\n",
       "      <td>1</td>\n",
       "      <td>150000</td>\n",
       "      <td>6</td>\n",
       "      <td>1</td>\n",
       "      <td>1</td>\n",
       "      <td>290500</td>\n",
       "    </tr>\n",
       "    <tr>\n",
       "      <th>527</th>\n",
       "      <td>2000</td>\n",
       "      <td>0</td>\n",
       "      <td>286</td>\n",
       "      <td>1</td>\n",
       "      <td>150000</td>\n",
       "      <td>10</td>\n",
       "      <td>2</td>\n",
       "      <td>1</td>\n",
       "      <td>249000</td>\n",
       "    </tr>\n",
       "    <tr>\n",
       "      <th>550</th>\n",
       "      <td>2014</td>\n",
       "      <td>1</td>\n",
       "      <td>150</td>\n",
       "      <td>1</td>\n",
       "      <td>20000</td>\n",
       "      <td>9</td>\n",
       "      <td>0</td>\n",
       "      <td>0</td>\n",
       "      <td>22410</td>\n",
       "    </tr>\n",
       "    <tr>\n",
       "      <th>593</th>\n",
       "      <td>2008</td>\n",
       "      <td>1</td>\n",
       "      <td>177</td>\n",
       "      <td>1</td>\n",
       "      <td>150000</td>\n",
       "      <td>2</td>\n",
       "      <td>1</td>\n",
       "      <td>0</td>\n",
       "      <td>0</td>\n",
       "    </tr>\n",
       "    <tr>\n",
       "      <th>705</th>\n",
       "      <td>2004</td>\n",
       "      <td>0</td>\n",
       "      <td>218</td>\n",
       "      <td>1</td>\n",
       "      <td>150000</td>\n",
       "      <td>10</td>\n",
       "      <td>1</td>\n",
       "      <td>0</td>\n",
       "      <td>83</td>\n",
       "    </tr>\n",
       "    <tr>\n",
       "      <th>788</th>\n",
       "      <td>2002</td>\n",
       "      <td>0</td>\n",
       "      <td>347</td>\n",
       "      <td>1</td>\n",
       "      <td>150000</td>\n",
       "      <td>2</td>\n",
       "      <td>2</td>\n",
       "      <td>1</td>\n",
       "      <td>276639</td>\n",
       "    </tr>\n",
       "  </tbody>\n",
       "</table>\n",
       "</div>"
      ],
      "text/plain": [
       "     yearOfRegistration  gearbox  powerPS  model  kilometer  \\\n",
       "52                 2002        0      184      1     150000   \n",
       "136                2007        0      235      1     150000   \n",
       "160                1999        1      118      0     150000   \n",
       "329                2014        0      184      1      30000   \n",
       "392                2004        0      218      1     150000   \n",
       "423                2009        0        0      1     125000   \n",
       "476                2007        0      276      1     150000   \n",
       "518                2004        0      204      1     150000   \n",
       "527                2000        0      286      1     150000   \n",
       "550                2014        1      150      1      20000   \n",
       "593                2008        1      177      1     150000   \n",
       "705                2004        0      218      1     150000   \n",
       "788                2002        0      347      1     150000   \n",
       "\n",
       "     monthOfRegistration  fuelType  notRepairedDamage   price  \n",
       "52                     6         1                  0      83  \n",
       "136                    0         1                  0       0  \n",
       "160                    1         0                  0  219950  \n",
       "329                   10         1                  0  207500  \n",
       "392                    1         1                  0       0  \n",
       "423                    8         1                  0       0  \n",
       "476                   12         1                  0       0  \n",
       "518                    6         1                  1  290500  \n",
       "527                   10         2                  1  249000  \n",
       "550                    9         0                  0   22410  \n",
       "593                    2         1                  0       0  \n",
       "705                   10         1                  0      83  \n",
       "788                    2         2                  1  276639  "
      ]
     },
     "execution_count": 85,
     "metadata": {},
     "output_type": "execute_result"
    }
   ],
   "source": [
    "bmw"
   ]
  },
  {
   "cell_type": "code",
   "execution_count": 88,
   "id": "d489640d",
   "metadata": {},
   "outputs": [],
   "source": [
    "bmw = bmw.iloc[:,[1,2,3,4,5,6,8,7]]"
   ]
  },
  {
   "cell_type": "code",
   "execution_count": 89,
   "id": "5c881eb1",
   "metadata": {},
   "outputs": [
    {
     "data": {
      "text/html": [
       "<div>\n",
       "<style scoped>\n",
       "    .dataframe tbody tr th:only-of-type {\n",
       "        vertical-align: middle;\n",
       "    }\n",
       "\n",
       "    .dataframe tbody tr th {\n",
       "        vertical-align: top;\n",
       "    }\n",
       "\n",
       "    .dataframe thead th {\n",
       "        text-align: right;\n",
       "    }\n",
       "</style>\n",
       "<table border=\"1\" class=\"dataframe\">\n",
       "  <thead>\n",
       "    <tr style=\"text-align: right;\">\n",
       "      <th></th>\n",
       "      <th>gearbox</th>\n",
       "      <th>powerPS</th>\n",
       "      <th>model</th>\n",
       "      <th>kilometer</th>\n",
       "      <th>monthOfRegistration</th>\n",
       "      <th>fuelType</th>\n",
       "      <th>price</th>\n",
       "      <th>notRepairedDamage</th>\n",
       "    </tr>\n",
       "  </thead>\n",
       "  <tbody>\n",
       "    <tr>\n",
       "      <th>52</th>\n",
       "      <td>0</td>\n",
       "      <td>184</td>\n",
       "      <td>1</td>\n",
       "      <td>150000</td>\n",
       "      <td>6</td>\n",
       "      <td>1</td>\n",
       "      <td>83</td>\n",
       "      <td>0</td>\n",
       "    </tr>\n",
       "    <tr>\n",
       "      <th>136</th>\n",
       "      <td>0</td>\n",
       "      <td>235</td>\n",
       "      <td>1</td>\n",
       "      <td>150000</td>\n",
       "      <td>0</td>\n",
       "      <td>1</td>\n",
       "      <td>0</td>\n",
       "      <td>0</td>\n",
       "    </tr>\n",
       "    <tr>\n",
       "      <th>160</th>\n",
       "      <td>1</td>\n",
       "      <td>118</td>\n",
       "      <td>0</td>\n",
       "      <td>150000</td>\n",
       "      <td>1</td>\n",
       "      <td>0</td>\n",
       "      <td>219950</td>\n",
       "      <td>0</td>\n",
       "    </tr>\n",
       "    <tr>\n",
       "      <th>329</th>\n",
       "      <td>0</td>\n",
       "      <td>184</td>\n",
       "      <td>1</td>\n",
       "      <td>30000</td>\n",
       "      <td>10</td>\n",
       "      <td>1</td>\n",
       "      <td>207500</td>\n",
       "      <td>0</td>\n",
       "    </tr>\n",
       "    <tr>\n",
       "      <th>392</th>\n",
       "      <td>0</td>\n",
       "      <td>218</td>\n",
       "      <td>1</td>\n",
       "      <td>150000</td>\n",
       "      <td>1</td>\n",
       "      <td>1</td>\n",
       "      <td>0</td>\n",
       "      <td>0</td>\n",
       "    </tr>\n",
       "    <tr>\n",
       "      <th>423</th>\n",
       "      <td>0</td>\n",
       "      <td>0</td>\n",
       "      <td>1</td>\n",
       "      <td>125000</td>\n",
       "      <td>8</td>\n",
       "      <td>1</td>\n",
       "      <td>0</td>\n",
       "      <td>0</td>\n",
       "    </tr>\n",
       "    <tr>\n",
       "      <th>476</th>\n",
       "      <td>0</td>\n",
       "      <td>276</td>\n",
       "      <td>1</td>\n",
       "      <td>150000</td>\n",
       "      <td>12</td>\n",
       "      <td>1</td>\n",
       "      <td>0</td>\n",
       "      <td>0</td>\n",
       "    </tr>\n",
       "    <tr>\n",
       "      <th>518</th>\n",
       "      <td>0</td>\n",
       "      <td>204</td>\n",
       "      <td>1</td>\n",
       "      <td>150000</td>\n",
       "      <td>6</td>\n",
       "      <td>1</td>\n",
       "      <td>290500</td>\n",
       "      <td>1</td>\n",
       "    </tr>\n",
       "    <tr>\n",
       "      <th>527</th>\n",
       "      <td>0</td>\n",
       "      <td>286</td>\n",
       "      <td>1</td>\n",
       "      <td>150000</td>\n",
       "      <td>10</td>\n",
       "      <td>2</td>\n",
       "      <td>249000</td>\n",
       "      <td>1</td>\n",
       "    </tr>\n",
       "    <tr>\n",
       "      <th>550</th>\n",
       "      <td>1</td>\n",
       "      <td>150</td>\n",
       "      <td>1</td>\n",
       "      <td>20000</td>\n",
       "      <td>9</td>\n",
       "      <td>0</td>\n",
       "      <td>22410</td>\n",
       "      <td>0</td>\n",
       "    </tr>\n",
       "    <tr>\n",
       "      <th>593</th>\n",
       "      <td>1</td>\n",
       "      <td>177</td>\n",
       "      <td>1</td>\n",
       "      <td>150000</td>\n",
       "      <td>2</td>\n",
       "      <td>1</td>\n",
       "      <td>0</td>\n",
       "      <td>0</td>\n",
       "    </tr>\n",
       "    <tr>\n",
       "      <th>705</th>\n",
       "      <td>0</td>\n",
       "      <td>218</td>\n",
       "      <td>1</td>\n",
       "      <td>150000</td>\n",
       "      <td>10</td>\n",
       "      <td>1</td>\n",
       "      <td>83</td>\n",
       "      <td>0</td>\n",
       "    </tr>\n",
       "    <tr>\n",
       "      <th>788</th>\n",
       "      <td>0</td>\n",
       "      <td>347</td>\n",
       "      <td>1</td>\n",
       "      <td>150000</td>\n",
       "      <td>2</td>\n",
       "      <td>2</td>\n",
       "      <td>276639</td>\n",
       "      <td>1</td>\n",
       "    </tr>\n",
       "  </tbody>\n",
       "</table>\n",
       "</div>"
      ],
      "text/plain": [
       "     gearbox  powerPS  model  kilometer  monthOfRegistration  fuelType  \\\n",
       "52         0      184      1     150000                    6         1   \n",
       "136        0      235      1     150000                    0         1   \n",
       "160        1      118      0     150000                    1         0   \n",
       "329        0      184      1      30000                   10         1   \n",
       "392        0      218      1     150000                    1         1   \n",
       "423        0        0      1     125000                    8         1   \n",
       "476        0      276      1     150000                   12         1   \n",
       "518        0      204      1     150000                    6         1   \n",
       "527        0      286      1     150000                   10         2   \n",
       "550        1      150      1      20000                    9         0   \n",
       "593        1      177      1     150000                    2         1   \n",
       "705        0      218      1     150000                   10         1   \n",
       "788        0      347      1     150000                    2         2   \n",
       "\n",
       "      price  notRepairedDamage  \n",
       "52       83                  0  \n",
       "136       0                  0  \n",
       "160  219950                  0  \n",
       "329  207500                  0  \n",
       "392       0                  0  \n",
       "423       0                  0  \n",
       "476       0                  0  \n",
       "518  290500                  1  \n",
       "527  249000                  1  \n",
       "550   22410                  0  \n",
       "593       0                  0  \n",
       "705      83                  0  \n",
       "788  276639                  1  "
      ]
     },
     "execution_count": 89,
     "metadata": {},
     "output_type": "execute_result"
    }
   ],
   "source": [
    "bmw"
   ]
  },
  {
   "cell_type": "code",
   "execution_count": 94,
   "id": "207c726c",
   "metadata": {},
   "outputs": [
    {
     "data": {
      "text/html": [
       "<div>\n",
       "<style scoped>\n",
       "    .dataframe tbody tr th:only-of-type {\n",
       "        vertical-align: middle;\n",
       "    }\n",
       "\n",
       "    .dataframe tbody tr th {\n",
       "        vertical-align: top;\n",
       "    }\n",
       "\n",
       "    .dataframe thead th {\n",
       "        text-align: right;\n",
       "    }\n",
       "</style>\n",
       "<table border=\"1\" class=\"dataframe\">\n",
       "  <thead>\n",
       "    <tr style=\"text-align: right;\">\n",
       "      <th></th>\n",
       "      <th>powerPS</th>\n",
       "      <th>model</th>\n",
       "      <th>kilometer</th>\n",
       "      <th>monthOfRegistration</th>\n",
       "      <th>fuelType</th>\n",
       "      <th>price</th>\n",
       "    </tr>\n",
       "  </thead>\n",
       "  <tbody>\n",
       "    <tr>\n",
       "      <th>52</th>\n",
       "      <td>184</td>\n",
       "      <td>1</td>\n",
       "      <td>150000</td>\n",
       "      <td>6</td>\n",
       "      <td>1</td>\n",
       "      <td>83</td>\n",
       "    </tr>\n",
       "    <tr>\n",
       "      <th>136</th>\n",
       "      <td>235</td>\n",
       "      <td>1</td>\n",
       "      <td>150000</td>\n",
       "      <td>0</td>\n",
       "      <td>1</td>\n",
       "      <td>0</td>\n",
       "    </tr>\n",
       "    <tr>\n",
       "      <th>160</th>\n",
       "      <td>118</td>\n",
       "      <td>0</td>\n",
       "      <td>150000</td>\n",
       "      <td>1</td>\n",
       "      <td>0</td>\n",
       "      <td>219950</td>\n",
       "    </tr>\n",
       "    <tr>\n",
       "      <th>329</th>\n",
       "      <td>184</td>\n",
       "      <td>1</td>\n",
       "      <td>30000</td>\n",
       "      <td>10</td>\n",
       "      <td>1</td>\n",
       "      <td>207500</td>\n",
       "    </tr>\n",
       "    <tr>\n",
       "      <th>392</th>\n",
       "      <td>218</td>\n",
       "      <td>1</td>\n",
       "      <td>150000</td>\n",
       "      <td>1</td>\n",
       "      <td>1</td>\n",
       "      <td>0</td>\n",
       "    </tr>\n",
       "  </tbody>\n",
       "</table>\n",
       "</div>"
      ],
      "text/plain": [
       "     powerPS  model  kilometer  monthOfRegistration  fuelType   price\n",
       "52       184      1     150000                    6         1      83\n",
       "136      235      1     150000                    0         1       0\n",
       "160      118      0     150000                    1         0  219950\n",
       "329      184      1      30000                   10         1  207500\n",
       "392      218      1     150000                    1         1       0"
      ]
     },
     "execution_count": 94,
     "metadata": {},
     "output_type": "execute_result"
    }
   ],
   "source": [
    "x=bmw.iloc[:,1:7]\n",
    "x.head()"
   ]
  },
  {
   "cell_type": "code",
   "execution_count": 95,
   "id": "4f374ee6",
   "metadata": {},
   "outputs": [
    {
     "data": {
      "text/plain": [
       "52     0\n",
       "136    0\n",
       "160    0\n",
       "329    0\n",
       "392    0\n",
       "Name: notRepairedDamage, dtype: int32"
      ]
     },
     "execution_count": 95,
     "metadata": {},
     "output_type": "execute_result"
    }
   ],
   "source": [
    "y=bmw.notRepairedDamage\n",
    "y.head()"
   ]
  },
  {
   "cell_type": "code",
   "execution_count": 105,
   "id": "e69f4a87",
   "metadata": {},
   "outputs": [],
   "source": [
    "from sklearn.model_selection import train_test_split\n",
    "x_train, x_test, y_train, y_test = train_test_split(x,y, test_size=0.3, random_state=11)"
   ]
  },
  {
   "cell_type": "code",
   "execution_count": 107,
   "id": "28932be7",
   "metadata": {},
   "outputs": [
    {
     "data": {
      "text/html": [
       "<div>\n",
       "<style scoped>\n",
       "    .dataframe tbody tr th:only-of-type {\n",
       "        vertical-align: middle;\n",
       "    }\n",
       "\n",
       "    .dataframe tbody tr th {\n",
       "        vertical-align: top;\n",
       "    }\n",
       "\n",
       "    .dataframe thead th {\n",
       "        text-align: right;\n",
       "    }\n",
       "</style>\n",
       "<table border=\"1\" class=\"dataframe\">\n",
       "  <thead>\n",
       "    <tr style=\"text-align: right;\">\n",
       "      <th></th>\n",
       "      <th>powerPS</th>\n",
       "      <th>model</th>\n",
       "      <th>kilometer</th>\n",
       "      <th>monthOfRegistration</th>\n",
       "      <th>fuelType</th>\n",
       "      <th>price</th>\n",
       "    </tr>\n",
       "  </thead>\n",
       "  <tbody>\n",
       "    <tr>\n",
       "      <th>392</th>\n",
       "      <td>218</td>\n",
       "      <td>1</td>\n",
       "      <td>150000</td>\n",
       "      <td>1</td>\n",
       "      <td>1</td>\n",
       "      <td>0</td>\n",
       "    </tr>\n",
       "    <tr>\n",
       "      <th>705</th>\n",
       "      <td>218</td>\n",
       "      <td>1</td>\n",
       "      <td>150000</td>\n",
       "      <td>10</td>\n",
       "      <td>1</td>\n",
       "      <td>83</td>\n",
       "    </tr>\n",
       "    <tr>\n",
       "      <th>160</th>\n",
       "      <td>118</td>\n",
       "      <td>0</td>\n",
       "      <td>150000</td>\n",
       "      <td>1</td>\n",
       "      <td>0</td>\n",
       "      <td>219950</td>\n",
       "    </tr>\n",
       "    <tr>\n",
       "      <th>788</th>\n",
       "      <td>347</td>\n",
       "      <td>1</td>\n",
       "      <td>150000</td>\n",
       "      <td>2</td>\n",
       "      <td>2</td>\n",
       "      <td>276639</td>\n",
       "    </tr>\n",
       "    <tr>\n",
       "      <th>593</th>\n",
       "      <td>177</td>\n",
       "      <td>1</td>\n",
       "      <td>150000</td>\n",
       "      <td>2</td>\n",
       "      <td>1</td>\n",
       "      <td>0</td>\n",
       "    </tr>\n",
       "  </tbody>\n",
       "</table>\n",
       "</div>"
      ],
      "text/plain": [
       "     powerPS  model  kilometer  monthOfRegistration  fuelType   price\n",
       "392      218      1     150000                    1         1       0\n",
       "705      218      1     150000                   10         1      83\n",
       "160      118      0     150000                    1         0  219950\n",
       "788      347      1     150000                    2         2  276639\n",
       "593      177      1     150000                    2         1       0"
      ]
     },
     "execution_count": 107,
     "metadata": {},
     "output_type": "execute_result"
    }
   ],
   "source": [
    "x_train.head()"
   ]
  },
  {
   "cell_type": "code",
   "execution_count": 108,
   "id": "acebb695",
   "metadata": {},
   "outputs": [
    {
     "data": {
      "text/plain": [
       "392    0\n",
       "705    0\n",
       "160    0\n",
       "788    1\n",
       "593    0\n",
       "Name: notRepairedDamage, dtype: int32"
      ]
     },
     "execution_count": 108,
     "metadata": {},
     "output_type": "execute_result"
    }
   ],
   "source": [
    "y_train.head()"
   ]
  },
  {
   "cell_type": "markdown",
   "id": "dac05613",
   "metadata": {},
   "source": [
    "# DecisionTreeClassifier"
   ]
  },
  {
   "cell_type": "code",
   "execution_count": 109,
   "id": "83d440d6",
   "metadata": {},
   "outputs": [],
   "source": [
    "from sklearn.tree import DecisionTreeClassifier"
   ]
  },
  {
   "cell_type": "code",
   "execution_count": 111,
   "id": "aeb33c82",
   "metadata": {},
   "outputs": [
    {
     "data": {
      "text/plain": [
       "DecisionTreeClassifier()"
      ]
     },
     "execution_count": 111,
     "metadata": {},
     "output_type": "execute_result"
    }
   ],
   "source": [
    "model_dtc = DecisionTreeClassifier()\n",
    "model_dtc.fit(x_train,y_train)"
   ]
  },
  {
   "cell_type": "code",
   "execution_count": 113,
   "id": "c010dc3a",
   "metadata": {},
   "outputs": [],
   "source": [
    "predict_dtc = model_dtc.predict(x_test)"
   ]
  },
  {
   "cell_type": "code",
   "execution_count": 114,
   "id": "af5c7c1c",
   "metadata": {},
   "outputs": [],
   "source": [
    "from sklearn.metrics import accuracy_score, confusion_matrix"
   ]
  },
  {
   "cell_type": "code",
   "execution_count": 115,
   "id": "addc8b14",
   "metadata": {},
   "outputs": [
    {
     "data": {
      "text/plain": [
       "1.0"
      ]
     },
     "execution_count": 115,
     "metadata": {},
     "output_type": "execute_result"
    }
   ],
   "source": [
    "accuracy_score(predict_dtc,y_test)"
   ]
  },
  {
   "cell_type": "code",
   "execution_count": 116,
   "id": "0614f986",
   "metadata": {},
   "outputs": [
    {
     "data": {
      "text/plain": [
       "array([[3, 0],\n",
       "       [0, 1]], dtype=int64)"
      ]
     },
     "execution_count": 116,
     "metadata": {},
     "output_type": "execute_result"
    }
   ],
   "source": [
    "confusion_matrix(predict_dtc,y_test)"
   ]
  },
  {
   "cell_type": "markdown",
   "id": "4f61e673",
   "metadata": {},
   "source": [
    "# RandomForestClassifier"
   ]
  },
  {
   "cell_type": "code",
   "execution_count": 117,
   "id": "e0ca3c0d",
   "metadata": {},
   "outputs": [],
   "source": [
    "from sklearn.ensemble import RandomForestClassifier"
   ]
  },
  {
   "cell_type": "code",
   "execution_count": 118,
   "id": "a6996816",
   "metadata": {},
   "outputs": [
    {
     "data": {
      "text/plain": [
       "RandomForestClassifier()"
      ]
     },
     "execution_count": 118,
     "metadata": {},
     "output_type": "execute_result"
    }
   ],
   "source": [
    "model_rfc = RandomForestClassifier()\n",
    "model_rfc.fit(x_train,y_train)"
   ]
  },
  {
   "cell_type": "code",
   "execution_count": 119,
   "id": "6117b690",
   "metadata": {},
   "outputs": [],
   "source": [
    "pedict_frc = model_rfc.predict(x_test)"
   ]
  },
  {
   "cell_type": "code",
   "execution_count": 120,
   "id": "08d37bf8",
   "metadata": {},
   "outputs": [
    {
     "data": {
      "text/plain": [
       "1.0"
      ]
     },
     "execution_count": 120,
     "metadata": {},
     "output_type": "execute_result"
    }
   ],
   "source": [
    "accuracy_score(pedict_frc,y_test)"
   ]
  },
  {
   "cell_type": "code",
   "execution_count": 121,
   "id": "369a8232",
   "metadata": {},
   "outputs": [
    {
     "data": {
      "text/plain": [
       "array([[3, 0],\n",
       "       [0, 1]], dtype=int64)"
      ]
     },
     "execution_count": 121,
     "metadata": {},
     "output_type": "execute_result"
    }
   ],
   "source": [
    "confusion_matrix(pedict_frc,y_test)"
   ]
  },
  {
   "cell_type": "markdown",
   "id": "d9f36880",
   "metadata": {},
   "source": [
    "# SVC"
   ]
  },
  {
   "cell_type": "code",
   "execution_count": 123,
   "id": "a52bc723",
   "metadata": {},
   "outputs": [],
   "source": [
    "from sklearn.svm import SVC"
   ]
  },
  {
   "cell_type": "code",
   "execution_count": 124,
   "id": "79aee2a9",
   "metadata": {},
   "outputs": [
    {
     "data": {
      "text/plain": [
       "SVC()"
      ]
     },
     "execution_count": 124,
     "metadata": {},
     "output_type": "execute_result"
    }
   ],
   "source": [
    "model_svc = SVC(kernel= 'rbf')\n",
    "model_svc.fit(x_train,y_train)"
   ]
  },
  {
   "cell_type": "code",
   "execution_count": 125,
   "id": "a7a400fd",
   "metadata": {},
   "outputs": [],
   "source": [
    "predict_svc = model_svc.predict(x_test)"
   ]
  },
  {
   "cell_type": "code",
   "execution_count": 126,
   "id": "5e10d36e",
   "metadata": {},
   "outputs": [
    {
     "data": {
      "text/plain": [
       "0.75"
      ]
     },
     "execution_count": 126,
     "metadata": {},
     "output_type": "execute_result"
    }
   ],
   "source": [
    "accuracy_score(predict_svc,y_test)"
   ]
  },
  {
   "cell_type": "markdown",
   "id": "ae4ab2f1",
   "metadata": {},
   "source": [
    "# All data which has been collectd and  appllied  in Classifier Model of Machine Learning are below:\n",
    "\n",
    "DecisionTreeClassifier-1.0\n",
    "\n",
    "RandomForestRegressor : 1.0\n",
    "\n",
    "SVC  : 0.75\n",
    "\n",
    "# Both LinearRegression and RandomForestRegressor are giving the  best  results from others Regression models"
   ]
  },
  {
   "cell_type": "code",
   "execution_count": null,
   "id": "ed814ffd",
   "metadata": {},
   "outputs": [],
   "source": []
  },
  {
   "cell_type": "code",
   "execution_count": null,
   "id": "383c1963",
   "metadata": {},
   "outputs": [],
   "source": []
  },
  {
   "cell_type": "code",
   "execution_count": null,
   "id": "98978d3d",
   "metadata": {},
   "outputs": [],
   "source": []
  },
  {
   "cell_type": "code",
   "execution_count": null,
   "id": "b44a4f48",
   "metadata": {},
   "outputs": [],
   "source": []
  }
 ],
 "metadata": {
  "kernelspec": {
   "display_name": "Python 3 (ipykernel)",
   "language": "python",
   "name": "python3"
  },
  "language_info": {
   "codemirror_mode": {
    "name": "ipython",
    "version": 3
   },
   "file_extension": ".py",
   "mimetype": "text/x-python",
   "name": "python",
   "nbconvert_exporter": "python",
   "pygments_lexer": "ipython3",
   "version": "3.9.12"
  }
 },
 "nbformat": 4,
 "nbformat_minor": 5
}
